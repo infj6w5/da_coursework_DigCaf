{
 "cells": [
  {
   "cell_type": "markdown",
   "id": "2d0ecec7-5577-4f19-b9da-69a57bf26506",
   "metadata": {},
   "source": [
    "# 1. Описание задачи\n",
    "К нам обратился клиент, который занимается сборкой и продажей персональных\n",
    "компьютеров (за исключением мини-ПК и моноблоков). В связи с ростом\n",
    "популярности интернет-магазинов\n",
    "за последние несколько лет, а также с целью привлечения большего числа\n",
    "клиентов при одновременном снижении затрат на содержание собственного\n",
    "магазина, доставку и рекламу товаров на 10% он планирует выйти на онлайнрынок в ближайшие 3 месяца. В связи с этим клиент хотел бы узнать, от чего\n",
    "зависит цена, а также популярность персональных компьютеров, выкладываемых\n",
    "на онлайн-площадках, чтобы в дальнейшем планировать к сборке востребованные\n",
    "по техническим характеристикам компьютеры и продавать их по конкурентной\n",
    "цене.\n",
    "Специалистом по сбору данных были выгружены датасеты с одного из\n",
    "популярных онлайн-магазинов, содержащие информацию о товарах категории\n",
    "«Компьютеры и моноблоки».\n",
    "Проанализируйте полученные данные и представьте аналитический отчет,\n",
    "содержащий выводы и рекомендации для Заказчика, которые помогут ему для\n",
    "решения его бизнес-задач.\n",
    "\n",
    "Необходимо проанализировать цены конкурентов, а также наиболее\n",
    "популярные комплектующие, продаваемые в составе персональных компьютеров."
   ]
  },
  {
   "cell_type": "markdown",
   "id": "29961ed9-011c-4e17-8599-15e46ece8ff7",
   "metadata": {},
   "source": [
    "# 2. Изучение данных"
   ]
  },
  {
   "cell_type": "markdown",
   "id": "67f29c02-aedc-409b-a2cc-f8a7aa0fb560",
   "metadata": {},
   "source": [
    "### 2.1. Импорт необходимых для анализа библиотек"
   ]
  },
  {
   "cell_type": "code",
   "execution_count": 1,
   "id": "8adc73c3-1e02-4f3c-9c86-3fcc60bcc49a",
   "metadata": {},
   "outputs": [],
   "source": [
    "# импортируем pandas - основную библиотеку аналитика данных\n",
    "import pandas as pd\n",
    "# импортируем библиотеку numpy для возможных расчетов\n",
    "import numpy as np\n",
    "# импортируем модуль json для распаковки структур данных формата json\n",
    "import json\n",
    "# импортируем статистические библиотеки\n",
    "import scipy\n",
    "import scipy.stats as stats\n",
    "# импортируем модуль pyplot из библиотеки matplotlib для визуализации\n",
    "from matplotlib import pyplot as plt\n",
    "# импортируем библиотеку seaborn для визуализации\n",
    "import seaborn as sns\n",
    "import re"
   ]
  },
  {
   "cell_type": "markdown",
   "id": "c99558f3-de08-4bf6-a21a-b7440d73664a",
   "metadata": {},
   "source": [
    "### 2.2. Загрузка данных"
   ]
  },
  {
   "cell_type": "code",
   "execution_count": 2,
   "id": "2a394496-d41e-4fde-8005-103ea7fe47e4",
   "metadata": {},
   "outputs": [],
   "source": [
    "df = pd.read_csv(\"wb_pc_hard.csv\")"
   ]
  },
  {
   "cell_type": "markdown",
   "id": "a85ed474-2f46-4112-b2d1-753d1f13def1",
   "metadata": {},
   "source": [
    "### 2.3. Обзор набора данных"
   ]
  },
  {
   "cell_type": "code",
   "execution_count": 3,
   "id": "650ff5ed-848b-4204-839b-dcc04bbfdc45",
   "metadata": {},
   "outputs": [
    {
     "data": {
      "text/html": [
       "<div>\n",
       "<style scoped>\n",
       "    .dataframe tbody tr th:only-of-type {\n",
       "        vertical-align: middle;\n",
       "    }\n",
       "\n",
       "    .dataframe tbody tr th {\n",
       "        vertical-align: top;\n",
       "    }\n",
       "\n",
       "    .dataframe thead th {\n",
       "        text-align: right;\n",
       "    }\n",
       "</style>\n",
       "<table border=\"1\" class=\"dataframe\">\n",
       "  <thead>\n",
       "    <tr style=\"text-align: right;\">\n",
       "      <th></th>\n",
       "      <th>product_id</th>\n",
       "      <th>title</th>\n",
       "      <th>price</th>\n",
       "      <th>sales</th>\n",
       "      <th>feedbacks</th>\n",
       "      <th>seller</th>\n",
       "      <th>seller_rating</th>\n",
       "      <th>Процессор</th>\n",
       "      <th>Оперативная память</th>\n",
       "      <th>Жесткий диск</th>\n",
       "      <th>Видеопроцессор</th>\n",
       "      <th>Операционная система</th>\n",
       "      <th>Гарантийный срок</th>\n",
       "      <th>Страна производства</th>\n",
       "      <th>Габариты товара</th>\n",
       "      <th>Габариты товара (с упаковкой)</th>\n",
       "    </tr>\n",
       "  </thead>\n",
       "  <tbody>\n",
       "    <tr>\n",
       "      <th>0</th>\n",
       "      <td>10148385</td>\n",
       "      <td>Системный блок OFFICE 120 WB 0710623 J1800/4Gb...</td>\n",
       "      <td>10805₽</td>\n",
       "      <td>Купили более 400 раз</td>\n",
       "      <td>7 отзывов</td>\n",
       "      <td>NaN</td>\n",
       "      <td>NaN</td>\n",
       "      <td>{'Процессор_тип': 'Intel Celeron', 'Количество...</td>\n",
       "      <td>{'Тип оперативной памяти': 'DDR 3', 'Объем опе...</td>\n",
       "      <td>{'Объем накопителя HDD': None, 'Объем накопите...</td>\n",
       "      <td>Intel HD Graphics</td>\n",
       "      <td>отсутствует</td>\n",
       "      <td>3года</td>\n",
       "      <td>Россия</td>\n",
       "      <td>{'Ширина предмета': '28.5 см', 'Глубина предме...</td>\n",
       "      <td>{'Длина упаковки': '43.5 см', 'Ширина упаковки...</td>\n",
       "    </tr>\n",
       "    <tr>\n",
       "      <th>1</th>\n",
       "      <td>17877962</td>\n",
       "      <td>Системный блок</td>\n",
       "      <td>32900₽</td>\n",
       "      <td>NaN</td>\n",
       "      <td>0 отзывов</td>\n",
       "      <td>NaN</td>\n",
       "      <td>NaN</td>\n",
       "      <td>{'Процессор_тип': 'Intel Core i5', 'Количество...</td>\n",
       "      <td>{'Тип оперативной памяти': 'не заполнено', 'Об...</td>\n",
       "      <td>{'Объем накопителя HDD': None, 'Объем накопите...</td>\n",
       "      <td>не заполнено</td>\n",
       "      <td>отсутствует</td>\n",
       "      <td>NaN</td>\n",
       "      <td>Китай</td>\n",
       "      <td>{'Ширина предмета': None, 'Глубина предмета': ...</td>\n",
       "      <td>{'Длина упаковки': '43 см', 'Ширина упаковки':...</td>\n",
       "    </tr>\n",
       "    <tr>\n",
       "      <th>2</th>\n",
       "      <td>17880420</td>\n",
       "      <td>Компьютер Hp Prodesk 400 g6 mt</td>\n",
       "      <td>35720₽</td>\n",
       "      <td>NaN</td>\n",
       "      <td>0 отзывов</td>\n",
       "      <td>NaN</td>\n",
       "      <td>NaN</td>\n",
       "      <td>{'Процессор_тип': 'не заполнено', 'Количество ...</td>\n",
       "      <td>{'Тип оперативной памяти': 'не заполнено', 'Об...</td>\n",
       "      <td>{'Объем накопителя HDD': None, 'Объем накопите...</td>\n",
       "      <td>не заполнено</td>\n",
       "      <td>отсутствует</td>\n",
       "      <td>NaN</td>\n",
       "      <td>NaN</td>\n",
       "      <td>{'Ширина предмета': None, 'Глубина предмета': ...</td>\n",
       "      <td>{'Длина упаковки': None, 'Ширина упаковки': No...</td>\n",
       "    </tr>\n",
       "    <tr>\n",
       "      <th>3</th>\n",
       "      <td>19347937</td>\n",
       "      <td>Офисный Компьютер Robotcomp Казначей V1</td>\n",
       "      <td>39237₽</td>\n",
       "      <td>Купили более 10 раз</td>\n",
       "      <td>1 отзыв</td>\n",
       "      <td>Robotcomp</td>\n",
       "      <td>4.7</td>\n",
       "      <td>{'Процессор_тип': 'Intel Core i5', 'Количество...</td>\n",
       "      <td>{'Тип оперативной памяти': 'DDR 4', 'Объем опе...</td>\n",
       "      <td>{'Объем накопителя HDD': None, 'Объем накопите...</td>\n",
       "      <td>Intel UHD Graphics 630</td>\n",
       "      <td>windows пробная</td>\n",
       "      <td>3 Года (36 месяцев)</td>\n",
       "      <td>Россия</td>\n",
       "      <td>{'Ширина предмета': '28 см', 'Глубина предмета...</td>\n",
       "      <td>{'Длина упаковки': '60 см', 'Ширина упаковки':...</td>\n",
       "    </tr>\n",
       "    <tr>\n",
       "      <th>4</th>\n",
       "      <td>19348951</td>\n",
       "      <td>Игровой Компьютер Robotcomp М16 2.0 V1</td>\n",
       "      <td>76188₽</td>\n",
       "      <td>Купили более 200 раз</td>\n",
       "      <td>94 отзыва</td>\n",
       "      <td>Robotcomp</td>\n",
       "      <td>4.7</td>\n",
       "      <td>{'Процессор_тип': 'Intel Core i5', 'Количество...</td>\n",
       "      <td>{'Тип оперативной памяти': 'DDR 4', 'Объем опе...</td>\n",
       "      <td>{'Объем накопителя HDD': None, 'Объем накопите...</td>\n",
       "      <td>NVIDIA GeForce GTX 1660</td>\n",
       "      <td>windows пробная</td>\n",
       "      <td>3 Года (36 месяцев)</td>\n",
       "      <td>Россия</td>\n",
       "      <td>{'Ширина предмета': '20 см', 'Глубина предмета...</td>\n",
       "      <td>{'Длина упаковки': '50 см', 'Ширина упаковки':...</td>\n",
       "    </tr>\n",
       "  </tbody>\n",
       "</table>\n",
       "</div>"
      ],
      "text/plain": [
       "   product_id                                              title   price  \\\n",
       "0    10148385  Системный блок OFFICE 120 WB 0710623 J1800/4Gb...  10805₽   \n",
       "1    17877962                                     Системный блок  32900₽   \n",
       "2    17880420                     Компьютер Hp Prodesk 400 g6 mt  35720₽   \n",
       "3    19347937            Офисный Компьютер Robotcomp Казначей V1  39237₽   \n",
       "4    19348951             Игровой Компьютер Robotcomp М16 2.0 V1  76188₽   \n",
       "\n",
       "                  sales   feedbacks     seller  seller_rating  \\\n",
       "0  Купили более 400 раз   7 отзывов        NaN            NaN   \n",
       "1                   NaN   0 отзывов        NaN            NaN   \n",
       "2                   NaN   0 отзывов        NaN            NaN   \n",
       "3   Купили более 10 раз     1 отзыв  Robotcomp            4.7   \n",
       "4  Купили более 200 раз   94 отзыва  Robotcomp            4.7   \n",
       "\n",
       "                                           Процессор  \\\n",
       "0  {'Процессор_тип': 'Intel Celeron', 'Количество...   \n",
       "1  {'Процессор_тип': 'Intel Core i5', 'Количество...   \n",
       "2  {'Процессор_тип': 'не заполнено', 'Количество ...   \n",
       "3  {'Процессор_тип': 'Intel Core i5', 'Количество...   \n",
       "4  {'Процессор_тип': 'Intel Core i5', 'Количество...   \n",
       "\n",
       "                                  Оперативная память  \\\n",
       "0  {'Тип оперативной памяти': 'DDR 3', 'Объем опе...   \n",
       "1  {'Тип оперативной памяти': 'не заполнено', 'Об...   \n",
       "2  {'Тип оперативной памяти': 'не заполнено', 'Об...   \n",
       "3  {'Тип оперативной памяти': 'DDR 4', 'Объем опе...   \n",
       "4  {'Тип оперативной памяти': 'DDR 4', 'Объем опе...   \n",
       "\n",
       "                                        Жесткий диск           Видеопроцессор  \\\n",
       "0  {'Объем накопителя HDD': None, 'Объем накопите...        Intel HD Graphics   \n",
       "1  {'Объем накопителя HDD': None, 'Объем накопите...             не заполнено   \n",
       "2  {'Объем накопителя HDD': None, 'Объем накопите...             не заполнено   \n",
       "3  {'Объем накопителя HDD': None, 'Объем накопите...   Intel UHD Graphics 630   \n",
       "4  {'Объем накопителя HDD': None, 'Объем накопите...  NVIDIA GeForce GTX 1660   \n",
       "\n",
       "  Операционная система     Гарантийный срок Страна производства  \\\n",
       "0          отсутствует                3года              Россия   \n",
       "1          отсутствует                  NaN               Китай   \n",
       "2          отсутствует                  NaN                 NaN   \n",
       "3      windows пробная  3 Года (36 месяцев)              Россия   \n",
       "4      windows пробная  3 Года (36 месяцев)              Россия   \n",
       "\n",
       "                                     Габариты товара  \\\n",
       "0  {'Ширина предмета': '28.5 см', 'Глубина предме...   \n",
       "1  {'Ширина предмета': None, 'Глубина предмета': ...   \n",
       "2  {'Ширина предмета': None, 'Глубина предмета': ...   \n",
       "3  {'Ширина предмета': '28 см', 'Глубина предмета...   \n",
       "4  {'Ширина предмета': '20 см', 'Глубина предмета...   \n",
       "\n",
       "                       Габариты товара (с упаковкой)  \n",
       "0  {'Длина упаковки': '43.5 см', 'Ширина упаковки...  \n",
       "1  {'Длина упаковки': '43 см', 'Ширина упаковки':...  \n",
       "2  {'Длина упаковки': None, 'Ширина упаковки': No...  \n",
       "3  {'Длина упаковки': '60 см', 'Ширина упаковки':...  \n",
       "4  {'Длина упаковки': '50 см', 'Ширина упаковки':...  "
      ]
     },
     "execution_count": 3,
     "metadata": {},
     "output_type": "execute_result"
    }
   ],
   "source": [
    "df.head()"
   ]
  },
  {
   "cell_type": "code",
   "execution_count": 4,
   "id": "fa593719-d321-4309-aee3-19ab0b31caba",
   "metadata": {},
   "outputs": [
    {
     "name": "stdout",
     "output_type": "stream",
     "text": [
      "<class 'pandas.core.frame.DataFrame'>\n",
      "RangeIndex: 4500 entries, 0 to 4499\n",
      "Data columns (total 16 columns):\n",
      " #   Column                         Non-Null Count  Dtype  \n",
      "---  ------                         --------------  -----  \n",
      " 0   product_id                     4500 non-null   int64  \n",
      " 1   title                          4500 non-null   object \n",
      " 2   price                          4499 non-null   object \n",
      " 3   sales                          1164 non-null   object \n",
      " 4   feedbacks                      4500 non-null   object \n",
      " 5   seller                         4391 non-null   object \n",
      " 6   seller_rating                  4389 non-null   float64\n",
      " 7   Процессор                      4500 non-null   object \n",
      " 8   Оперативная память             4500 non-null   object \n",
      " 9   Жесткий диск                   4500 non-null   object \n",
      " 10  Видеопроцессор                 4500 non-null   object \n",
      " 11  Операционная система           4500 non-null   object \n",
      " 12  Гарантийный срок               2648 non-null   object \n",
      " 13  Страна производства            2611 non-null   object \n",
      " 14  Габариты товара                4500 non-null   object \n",
      " 15  Габариты товара (с упаковкой)  4500 non-null   object \n",
      "dtypes: float64(1), int64(1), object(14)\n",
      "memory usage: 562.6+ KB\n"
     ]
    }
   ],
   "source": [
    "df.info()"
   ]
  },
  {
   "cell_type": "markdown",
   "id": "e53db0ae-36f8-4342-94fa-2b4037e3304e",
   "metadata": {},
   "source": [
    "Из краткой выжимки видно, что всего в датасете 4500 записей."
   ]
  },
  {
   "cell_type": "markdown",
   "id": "cfde5593-a5fd-4a42-a915-03942fc51290",
   "metadata": {},
   "source": [
    "### 2.4. Выявление проблем"
   ]
  },
  {
   "cell_type": "markdown",
   "id": "74b40425-9c2b-459a-8570-8cabf0fc206b",
   "metadata": {},
   "source": [
    "**Проблемы**\n",
    "1. Наличие большого количества незаполненных значений в столбцах.\n",
    "2. Наличие вложенных значений.\n",
    "3. Количественные признаки, выраженные в строковом формате.\n",
    "4. Наличие данных, не представляющих ценности в рамках решаемой задачи."
   ]
  },
  {
   "cell_type": "markdown",
   "id": "879c7e23-2ad4-4575-a41e-f29dacd6b384",
   "metadata": {},
   "source": [
    "# 3. Предобработка данных"
   ]
  },
  {
   "cell_type": "markdown",
   "id": "002ff06a-cfac-4690-bc9f-ace525676a9b",
   "metadata": {},
   "source": [
    "### 3.1. Исключение признаков, не представляющих ценности для задачи"
   ]
  },
  {
   "cell_type": "code",
   "execution_count": 5,
   "id": "fc047016-b30b-495e-9ea6-8544eaef65e8",
   "metadata": {},
   "outputs": [
    {
     "data": {
      "text/plain": [
       "Index(['product_id', 'title', 'price', 'sales', 'feedbacks', 'seller',\n",
       "       'seller_rating', 'Процессор', 'Оперативная память', 'Жесткий диск',\n",
       "       'Видеопроцессор', 'Операционная система', 'Гарантийный срок',\n",
       "       'Страна производства', 'Габариты товара',\n",
       "       'Габариты товара (с упаковкой)'],\n",
       "      dtype='object')"
      ]
     },
     "execution_count": 5,
     "metadata": {},
     "output_type": "execute_result"
    }
   ],
   "source": [
    "df_copy = df.copy()\n",
    "df_copy.columns"
   ]
  },
  {
   "cell_type": "code",
   "execution_count": 6,
   "id": "106d77aa-8ddc-4e50-a32c-1a4475900cb4",
   "metadata": {},
   "outputs": [],
   "source": [
    "unuseful_col = ['Габариты товара', 'Габариты товара (с упаковкой)']\n",
    "df_copy.drop(columns = unuseful_col, inplace = True)"
   ]
  },
  {
   "cell_type": "code",
   "execution_count": 7,
   "id": "9ab28077-7a15-4c84-b5b6-2f5d9c7929e3",
   "metadata": {},
   "outputs": [
    {
     "data": {
      "text/plain": [
       "Index(['product_id', 'title', 'price', 'sales', 'feedbacks', 'seller',\n",
       "       'seller_rating', 'Процессор', 'Оперативная память', 'Жесткий диск',\n",
       "       'Видеопроцессор', 'Операционная система', 'Гарантийный срок',\n",
       "       'Страна производства'],\n",
       "      dtype='object')"
      ]
     },
     "execution_count": 7,
     "metadata": {},
     "output_type": "execute_result"
    }
   ],
   "source": [
    "df_copy.columns"
   ]
  },
  {
   "cell_type": "code",
   "execution_count": 8,
   "id": "a0a311b9-1e12-48d1-9e65-d40963432bc6",
   "metadata": {},
   "outputs": [],
   "source": [
    "df_copy.columns = ['product_id', 'title', 'price', 'sales', 'feedbacks', 'seller',\n",
    "                   'seller_rating', 'cpu', 'ram', 'hdd',\n",
    "                   'gpu', 'os', 'guaranty',\n",
    "                   'manufacturer_country']"
   ]
  },
  {
   "cell_type": "markdown",
   "id": "4525cb30-a036-4f99-8e05-b6f444ad739e",
   "metadata": {},
   "source": [
    "### 3.2. Проверка и исключение дубликатов"
   ]
  },
  {
   "cell_type": "code",
   "execution_count": 9,
   "id": "1da83bd2-14bd-43ca-9b02-0638812324c9",
   "metadata": {},
   "outputs": [
    {
     "data": {
      "text/plain": [
       "490"
      ]
     },
     "execution_count": 9,
     "metadata": {},
     "output_type": "execute_result"
    }
   ],
   "source": [
    "df_copy.duplicated().sum()"
   ]
  },
  {
   "cell_type": "code",
   "execution_count": 10,
   "id": "a30b442b-7221-4379-891a-fec82d0ac5bf",
   "metadata": {},
   "outputs": [
    {
     "data": {
      "text/plain": [
       "490"
      ]
     },
     "execution_count": 10,
     "metadata": {},
     "output_type": "execute_result"
    }
   ],
   "source": [
    "# Проверка дубликатов по столбцу \n",
    "df_copy.duplicated(subset = 'product_id').sum()"
   ]
  },
  {
   "cell_type": "code",
   "execution_count": 11,
   "id": "85e7572b-47a3-4bd0-8395-c8184eb4be8a",
   "metadata": {},
   "outputs": [],
   "source": [
    "df_copy.drop_duplicates(inplace = True)"
   ]
  },
  {
   "cell_type": "code",
   "execution_count": 12,
   "id": "015a7c72-64c2-4626-93b2-d70a5e7bb25d",
   "metadata": {},
   "outputs": [
    {
     "data": {
      "text/plain": [
       "0"
      ]
     },
     "execution_count": 12,
     "metadata": {},
     "output_type": "execute_result"
    }
   ],
   "source": [
    "df_copy.duplicated(subset = 'product_id').sum()"
   ]
  },
  {
   "cell_type": "markdown",
   "id": "8d87d1a0-47fe-4a82-b873-d993d14188a1",
   "metadata": {},
   "source": [
    "### 3.3. Обзор пропущенных значений"
   ]
  },
  {
   "cell_type": "code",
   "execution_count": 13,
   "id": "52667aef-7252-40c2-9631-1ae7414eb815",
   "metadata": {},
   "outputs": [
    {
     "data": {
      "text/plain": [
       "product_id                 0\n",
       "title                      0\n",
       "price                      1\n",
       "sales                   2975\n",
       "feedbacks                  0\n",
       "seller                    96\n",
       "seller_rating             97\n",
       "cpu                        0\n",
       "ram                        0\n",
       "hdd                        0\n",
       "gpu                        0\n",
       "os                         0\n",
       "guaranty                1644\n",
       "manufacturer_country    1686\n",
       "dtype: int64"
      ]
     },
     "execution_count": 13,
     "metadata": {},
     "output_type": "execute_result"
    }
   ],
   "source": [
    "df_copy.isna().sum()"
   ]
  },
  {
   "cell_type": "code",
   "execution_count": 14,
   "id": "afdd92aa-c451-4e8d-b198-592e5ebd578b",
   "metadata": {},
   "outputs": [
    {
     "data": {
      "text/plain": [
       "array(['10805₽', '32900₽', '35720₽', ..., '21988₽', '4219₽', '77250₽'],\n",
       "      dtype=object)"
      ]
     },
     "execution_count": 14,
     "metadata": {},
     "output_type": "execute_result"
    }
   ],
   "source": [
    "df_copy['price'].unique()"
   ]
  },
  {
   "cell_type": "code",
   "execution_count": 15,
   "id": "5064ca5f-4a48-4931-9195-62cb7e2d7fa2",
   "metadata": {},
   "outputs": [
    {
     "data": {
      "text/plain": [
       "array(['Купили более 400 раз', nan, 'Купили более 10 раз',\n",
       "       'Купили более 200 раз', 'Купили более 40 раз',\n",
       "       'Купили более 5 раз', 'Купили более 30 раз', 'Купили более 20 раз',\n",
       "       'Купили более 50 раз', 'Купили менее 5 раз',\n",
       "       'Купили более 500 раз', 'Купили более 100 раз',\n",
       "       'Купили более 80 раз', 'Купили более 800 раз',\n",
       "       'Купили более 90 раз', 'Купили более 300 раз',\n",
       "       'Купили более 60 раз', 'Купили более 70 раз',\n",
       "       'Купили более 5\\xa0200 раз'], dtype=object)"
      ]
     },
     "execution_count": 15,
     "metadata": {},
     "output_type": "execute_result"
    }
   ],
   "source": [
    "df_copy['sales'].unique()"
   ]
  },
  {
   "cell_type": "code",
   "execution_count": 16,
   "id": "2a1945ec-c452-43fe-a216-c55dee792dc5",
   "metadata": {},
   "outputs": [
    {
     "data": {
      "text/plain": [
       "array([nan, 'Robotcomp', 'Market-77.ru', 'AXXES', 'САТЕЛЛИТ', 'Flash-ca',\n",
       "       'Фотосклад', 'Roo24.ru', 'Innopax', 'koiko', 'Кравец А. С.',\n",
       "       'Карасёв Максим Павлович', 'TERABYTE', 'Позитроника',\n",
       "       'Chip computers', 'Кравец С. П.', 'Гудилина И. А.', 'OptZone',\n",
       "       'FUTUREMAG', 'ПопШоп', 'KiBor', 'Семенова Н. С.', 'Zipov',\n",
       "       'Клеткин В. Д.', 'Бесшумный Компьютер', 'mrm-power', 'BeastPC',\n",
       "       'Техноцентр', 'Удачный Подарок', 'FLAMEFOX', 'Droid-box.ru',\n",
       "       'Пелевин В. В.', 'TOPIFY', 'Неупокоев Михаил Михайлович',\n",
       "       'Electronics51', 'DIY Light with ppfd.kz', 'smartkkt', 'Эстуаль',\n",
       "       'Компьютерс', 'ABS-TECHNO.RU', 'GENERAL MICROWAVE', 'TINAVINA',\n",
       "       'votmarket', 'Мир Репитеров', 'Acs Shop', 'TopSpare', 'ЗЕОН',\n",
       "       'MERKA', 'АБР Технолоджи', 'GIGAMART', 'ScanerAvto', 'Мингалёв',\n",
       "       'МИР', 'Товары для дома', 'Rus-Shop', 'Buchok', 'Русаков М. В.',\n",
       "       'STPOSKZ', 'XEON STORE', 'РЕТ - компьютерный супермаркет', 'DECK',\n",
       "       'RgCom', '4T-Computer Store', 'АйТи-Изи', 'IT-Lavka', 'D-Tora',\n",
       "       'FREERIDE', 'SATEG', '1932 Toys', 'Partslog', 'DNSBOX',\n",
       "       'Линуксцентр', 'Меджидов Ш. А.', 'Chuwi.by', 'ФРИМЕН', 'Кастом ПК',\n",
       "       'OptSale', 'Axel shop', 'KSKSHOP', 'РЕГИОН КАСС', 'UNiService',\n",
       "       'ЖЕЛЕЗНЫЙ ДВОРИК', 'Континент', 'KING KOMP', 'Control PC',\n",
       "       'ПК Каморка', 'Курбацкий', 'СервисКомп+', 'ALFA-SYSTEM', 'ZEON',\n",
       "       'XDOT PC', 'PROHA', 'Добротный', 'Соловьёв Дмитрий Русланович',\n",
       "       'COMPDAY.RU', 'STYLUS-CH', 'Verified',\n",
       "       'Магазин одежды и товаров для дома', 'Табакиточка', 'Mar Arm',\n",
       "       'I-GAMEZ КОМПЬЮТЕРЫ', 'Volken', 'Самсонов А. Д.', 'SAGE by Encome',\n",
       "       'ATB POS', 'XPRINTER.KZ', 'System Point', 'Корпорация Центр',\n",
       "       '\"XFinity Store\"', 'Тимошенко М.В,', 'Компас',\n",
       "       'Мастерская Д.К. Попова', 'ПКР', 'АРМК', 'Москомпьютер',\n",
       "       'AlmatyPOS', 'BitBase', 'Bagma technology', 'REAL-PC', 'IGORTSEV',\n",
       "       'Царь-ПК', 'M-Bit', 'SHARK', 'Xport Store', 'megamarket',\n",
       "       'SevenGroup', 'IT-Bro', 'Personal PC'], dtype=object)"
      ]
     },
     "execution_count": 16,
     "metadata": {},
     "output_type": "execute_result"
    }
   ],
   "source": [
    "df_copy['seller'].unique()"
   ]
  },
  {
   "cell_type": "code",
   "execution_count": 17,
   "id": "6866edc8-13f9-4d34-b1df-19fd4fb0ae23",
   "metadata": {},
   "outputs": [
    {
     "data": {
      "text/plain": [
       "array([nan, 4.7, 4.3, 0. , 4.6, 4.4, 4.1, 3.4, 4.2, 5. , 4. , 3.8, 4.8,\n",
       "       4.9, 3.1, 4.5, 3.7, 1.5, 3.5, 3.9, 3.3, 3.6, 3. ])"
      ]
     },
     "execution_count": 17,
     "metadata": {},
     "output_type": "execute_result"
    }
   ],
   "source": [
    "df_copy['seller_rating'].unique()"
   ]
  },
  {
   "cell_type": "code",
   "execution_count": 18,
   "id": "ada659a8-62c5-4911-a8f6-56285ecc3fb1",
   "metadata": {},
   "outputs": [
    {
     "data": {
      "text/plain": [
       "array(['3года', nan, '3 Года (36 месяцев)', '6 мес.', '6 мес', '3 года',\n",
       "       '36 мес', '1 (один) год', '36 месяцев', '12 месяцев,', '24 мес',\n",
       "       '12 месяцев', '12 мес', '1 год', '7 дней', '1 год ( 12 месяцев )',\n",
       "       '3 мес', '30 дней', '24 месяца', '12 мес.', '2 года', '6 месяцев',\n",
       "       '36 мес.', '12', '3 месяца', '1', '14 дней', '365; дней',\n",
       "       '1 год; 12 мес', '1 год; 12 месяцев', '1 месяц', '2 месяца',\n",
       "       '12 месяцев от King Komp', '12 месяцев от KING KOMP',\n",
       "       '1 год (12 месяцев)'], dtype=object)"
      ]
     },
     "execution_count": 18,
     "metadata": {},
     "output_type": "execute_result"
    }
   ],
   "source": [
    "df_copy['guaranty'].unique()"
   ]
  },
  {
   "cell_type": "code",
   "execution_count": 19,
   "id": "f0a9bf9f-2ba3-4d20-8936-91585d337a39",
   "metadata": {},
   "outputs": [
    {
     "data": {
      "text/plain": [
       "array(['Россия', 'Китай', nan, 'США', 'Франция', 'Тайвань', 'Малайзия',\n",
       "       'Япония', 'Швейцария', 'Вьетнам', 'Беларусь'], dtype=object)"
      ]
     },
     "execution_count": 19,
     "metadata": {},
     "output_type": "execute_result"
    }
   ],
   "source": [
    "df_copy['manufacturer_country'].unique()"
   ]
  },
  {
   "cell_type": "markdown",
   "id": "903bba3d-7d34-401e-8673-22ac3a85ce81",
   "metadata": {},
   "source": [
    "Обзор пропущенных значений по признакам:\n",
    "1. price - скорее всего, по ошибке, была пропущена цена одного из товаров. Восстановить значение не получится, удалим.\n",
    "2. sales - отсутствует информация о том, что товар был куплен ни разу, из-за этого и присутствуют пропуски. Значения колонок будут приведены к числовому типу, пропущенные ячейки будут заполнены.\n",
    "3. seller - об отсутствующих продавцах трудно будет что-то сказать, но так как в условии явно не было сказано о удалении неизвестных продавцов, и в задаче анализу подвергаются компьютеры, пропуски заполнятся.\n",
    "4. seller_rating - данные об отсутствующем рейтинге продавца будут важны при анализе популярности различных конфигураций ПК, поэтому отсутствующие значения будут удалены.\n",
    "5. guaranty - исходя из набора значений, его отсутствие означает отсутствие гарантии. Пропуски будут заполнены.\n",
    "6. manufacturer_country - отсутствующие данные о стране производителе ПК будут удалены."
   ]
  },
  {
   "cell_type": "markdown",
   "id": "2cc63490-eeb5-4bd0-b215-35dcec93d682",
   "metadata": {},
   "source": [
    "### 3.4. Предобработка данных из колонок"
   ]
  },
  {
   "cell_type": "markdown",
   "id": "f83cd317-3236-4bfc-8271-e85570e4102f",
   "metadata": {},
   "source": [
    "#### 3.4.1. 'price'"
   ]
  },
  {
   "cell_type": "code",
   "execution_count": 20,
   "id": "ecd2d232-a3ae-4233-be4b-acf80b60f8f0",
   "metadata": {},
   "outputs": [
    {
     "data": {
      "text/plain": [
       "product_id                 0\n",
       "title                      0\n",
       "price                      0\n",
       "sales                   2975\n",
       "feedbacks                  0\n",
       "seller                    96\n",
       "seller_rating             97\n",
       "cpu                        0\n",
       "ram                        0\n",
       "hdd                        0\n",
       "gpu                        0\n",
       "os                         0\n",
       "guaranty                1644\n",
       "manufacturer_country    1685\n",
       "dtype: int64"
      ]
     },
     "execution_count": 20,
     "metadata": {},
     "output_type": "execute_result"
    }
   ],
   "source": [
    "df_copy.dropna(subset=['price'], inplace=True)\n",
    "df_copy.isna().sum()"
   ]
  },
  {
   "cell_type": "code",
   "execution_count": 21,
   "id": "cdedb2a4-cd8b-4ffa-8acf-c2c883c565fa",
   "metadata": {},
   "outputs": [
    {
     "name": "stdout",
     "output_type": "stream",
     "text": [
      "<class 'pandas.core.frame.DataFrame'>\n",
      "Index: 4009 entries, 0 to 4499\n",
      "Data columns (total 14 columns):\n",
      " #   Column                Non-Null Count  Dtype  \n",
      "---  ------                --------------  -----  \n",
      " 0   product_id            4009 non-null   int64  \n",
      " 1   title                 4009 non-null   object \n",
      " 2   price                 4009 non-null   object \n",
      " 3   sales                 1034 non-null   object \n",
      " 4   feedbacks             4009 non-null   object \n",
      " 5   seller                3913 non-null   object \n",
      " 6   seller_rating         3912 non-null   float64\n",
      " 7   cpu                   4009 non-null   object \n",
      " 8   ram                   4009 non-null   object \n",
      " 9   hdd                   4009 non-null   object \n",
      " 10  gpu                   4009 non-null   object \n",
      " 11  os                    4009 non-null   object \n",
      " 12  guaranty              2365 non-null   object \n",
      " 13  manufacturer_country  2324 non-null   object \n",
      "dtypes: float64(1), int64(1), object(12)\n",
      "memory usage: 469.8+ KB\n"
     ]
    }
   ],
   "source": [
    "df_copy.info()"
   ]
  },
  {
   "cell_type": "markdown",
   "id": "f0b904d5-983b-4a5a-95b9-b9b62fe23a78",
   "metadata": {},
   "source": [
    "#### 3.4.2. 'sales'"
   ]
  },
  {
   "cell_type": "code",
   "execution_count": 22,
   "id": "212ba3fb-dd62-4aef-96a6-1276e3f3b16e",
   "metadata": {},
   "outputs": [],
   "source": [
    "indexes_to_drop = df_copy[df_copy['sales'] == 'Купили более 5\\xa0200 раз'].index\n",
    "df_copy.drop(indexes_to_drop, inplace=True)"
   ]
  },
  {
   "cell_type": "code",
   "execution_count": 23,
   "id": "523b12c1-5f62-4472-b02a-dc604ce2a78c",
   "metadata": {},
   "outputs": [
    {
     "data": {
      "text/plain": [
       "array(['Купили более 400 раз', nan, 'Купили более 10 раз',\n",
       "       'Купили более 200 раз', 'Купили более 40 раз',\n",
       "       'Купили более 5 раз', 'Купили более 30 раз', 'Купили более 20 раз',\n",
       "       'Купили более 50 раз', 'Купили менее 5 раз',\n",
       "       'Купили более 500 раз', 'Купили более 100 раз',\n",
       "       'Купили более 80 раз', 'Купили более 800 раз',\n",
       "       'Купили более 90 раз', 'Купили более 300 раз',\n",
       "       'Купили более 60 раз', 'Купили более 70 раз'], dtype=object)"
      ]
     },
     "execution_count": 23,
     "metadata": {},
     "output_type": "execute_result"
    }
   ],
   "source": [
    "df_copy['sales'].unique()"
   ]
  },
  {
   "cell_type": "code",
   "execution_count": 24,
   "id": "58e08ba7-bac5-4229-a566-d48e9a3fddff",
   "metadata": {},
   "outputs": [],
   "source": [
    "df_copy['sales_num'] = (df_copy['sales']\n",
    "                        .str.extract(r'(\\d+)')  # извлекаем первое число\n",
    "                        .fillna(0)              # заменяем NaN на 0\n",
    "                        .astype(int)            # преобразуем в целое число\n",
    ")"
   ]
  },
  {
   "cell_type": "code",
   "execution_count": 25,
   "id": "8841a224-0ca9-4057-9f2d-07a056008f78",
   "metadata": {},
   "outputs": [
    {
     "data": {
      "text/html": [
       "<div>\n",
       "<style scoped>\n",
       "    .dataframe tbody tr th:only-of-type {\n",
       "        vertical-align: middle;\n",
       "    }\n",
       "\n",
       "    .dataframe tbody tr th {\n",
       "        vertical-align: top;\n",
       "    }\n",
       "\n",
       "    .dataframe thead th {\n",
       "        text-align: right;\n",
       "    }\n",
       "</style>\n",
       "<table border=\"1\" class=\"dataframe\">\n",
       "  <thead>\n",
       "    <tr style=\"text-align: right;\">\n",
       "      <th></th>\n",
       "      <th>product_id</th>\n",
       "      <th>title</th>\n",
       "      <th>price</th>\n",
       "      <th>sales</th>\n",
       "      <th>feedbacks</th>\n",
       "      <th>seller</th>\n",
       "      <th>seller_rating</th>\n",
       "      <th>cpu</th>\n",
       "      <th>ram</th>\n",
       "      <th>hdd</th>\n",
       "      <th>gpu</th>\n",
       "      <th>os</th>\n",
       "      <th>guaranty</th>\n",
       "      <th>manufacturer_country</th>\n",
       "      <th>sales_num</th>\n",
       "    </tr>\n",
       "  </thead>\n",
       "  <tbody>\n",
       "    <tr>\n",
       "      <th>0</th>\n",
       "      <td>10148385</td>\n",
       "      <td>Системный блок OFFICE 120 WB 0710623 J1800/4Gb...</td>\n",
       "      <td>10805₽</td>\n",
       "      <td>Купили более 400 раз</td>\n",
       "      <td>7 отзывов</td>\n",
       "      <td>NaN</td>\n",
       "      <td>NaN</td>\n",
       "      <td>{'Процессор_тип': 'Intel Celeron', 'Количество...</td>\n",
       "      <td>{'Тип оперативной памяти': 'DDR 3', 'Объем опе...</td>\n",
       "      <td>{'Объем накопителя HDD': None, 'Объем накопите...</td>\n",
       "      <td>Intel HD Graphics</td>\n",
       "      <td>отсутствует</td>\n",
       "      <td>3года</td>\n",
       "      <td>Россия</td>\n",
       "      <td>400</td>\n",
       "    </tr>\n",
       "    <tr>\n",
       "      <th>1</th>\n",
       "      <td>17877962</td>\n",
       "      <td>Системный блок</td>\n",
       "      <td>32900₽</td>\n",
       "      <td>NaN</td>\n",
       "      <td>0 отзывов</td>\n",
       "      <td>NaN</td>\n",
       "      <td>NaN</td>\n",
       "      <td>{'Процессор_тип': 'Intel Core i5', 'Количество...</td>\n",
       "      <td>{'Тип оперативной памяти': 'не заполнено', 'Об...</td>\n",
       "      <td>{'Объем накопителя HDD': None, 'Объем накопите...</td>\n",
       "      <td>не заполнено</td>\n",
       "      <td>отсутствует</td>\n",
       "      <td>NaN</td>\n",
       "      <td>Китай</td>\n",
       "      <td>0</td>\n",
       "    </tr>\n",
       "    <tr>\n",
       "      <th>2</th>\n",
       "      <td>17880420</td>\n",
       "      <td>Компьютер Hp Prodesk 400 g6 mt</td>\n",
       "      <td>35720₽</td>\n",
       "      <td>NaN</td>\n",
       "      <td>0 отзывов</td>\n",
       "      <td>NaN</td>\n",
       "      <td>NaN</td>\n",
       "      <td>{'Процессор_тип': 'не заполнено', 'Количество ...</td>\n",
       "      <td>{'Тип оперативной памяти': 'не заполнено', 'Об...</td>\n",
       "      <td>{'Объем накопителя HDD': None, 'Объем накопите...</td>\n",
       "      <td>не заполнено</td>\n",
       "      <td>отсутствует</td>\n",
       "      <td>NaN</td>\n",
       "      <td>NaN</td>\n",
       "      <td>0</td>\n",
       "    </tr>\n",
       "    <tr>\n",
       "      <th>3</th>\n",
       "      <td>19347937</td>\n",
       "      <td>Офисный Компьютер Robotcomp Казначей V1</td>\n",
       "      <td>39237₽</td>\n",
       "      <td>Купили более 10 раз</td>\n",
       "      <td>1 отзыв</td>\n",
       "      <td>Robotcomp</td>\n",
       "      <td>4.7</td>\n",
       "      <td>{'Процессор_тип': 'Intel Core i5', 'Количество...</td>\n",
       "      <td>{'Тип оперативной памяти': 'DDR 4', 'Объем опе...</td>\n",
       "      <td>{'Объем накопителя HDD': None, 'Объем накопите...</td>\n",
       "      <td>Intel UHD Graphics 630</td>\n",
       "      <td>windows пробная</td>\n",
       "      <td>3 Года (36 месяцев)</td>\n",
       "      <td>Россия</td>\n",
       "      <td>10</td>\n",
       "    </tr>\n",
       "    <tr>\n",
       "      <th>4</th>\n",
       "      <td>19348951</td>\n",
       "      <td>Игровой Компьютер Robotcomp М16 2.0 V1</td>\n",
       "      <td>76188₽</td>\n",
       "      <td>Купили более 200 раз</td>\n",
       "      <td>94 отзыва</td>\n",
       "      <td>Robotcomp</td>\n",
       "      <td>4.7</td>\n",
       "      <td>{'Процессор_тип': 'Intel Core i5', 'Количество...</td>\n",
       "      <td>{'Тип оперативной памяти': 'DDR 4', 'Объем опе...</td>\n",
       "      <td>{'Объем накопителя HDD': None, 'Объем накопите...</td>\n",
       "      <td>NVIDIA GeForce GTX 1660</td>\n",
       "      <td>windows пробная</td>\n",
       "      <td>3 Года (36 месяцев)</td>\n",
       "      <td>Россия</td>\n",
       "      <td>200</td>\n",
       "    </tr>\n",
       "  </tbody>\n",
       "</table>\n",
       "</div>"
      ],
      "text/plain": [
       "   product_id                                              title   price  \\\n",
       "0    10148385  Системный блок OFFICE 120 WB 0710623 J1800/4Gb...  10805₽   \n",
       "1    17877962                                     Системный блок  32900₽   \n",
       "2    17880420                     Компьютер Hp Prodesk 400 g6 mt  35720₽   \n",
       "3    19347937            Офисный Компьютер Robotcomp Казначей V1  39237₽   \n",
       "4    19348951             Игровой Компьютер Robotcomp М16 2.0 V1  76188₽   \n",
       "\n",
       "                  sales   feedbacks     seller  seller_rating  \\\n",
       "0  Купили более 400 раз   7 отзывов        NaN            NaN   \n",
       "1                   NaN   0 отзывов        NaN            NaN   \n",
       "2                   NaN   0 отзывов        NaN            NaN   \n",
       "3   Купили более 10 раз     1 отзыв  Robotcomp            4.7   \n",
       "4  Купили более 200 раз   94 отзыва  Robotcomp            4.7   \n",
       "\n",
       "                                                 cpu  \\\n",
       "0  {'Процессор_тип': 'Intel Celeron', 'Количество...   \n",
       "1  {'Процессор_тип': 'Intel Core i5', 'Количество...   \n",
       "2  {'Процессор_тип': 'не заполнено', 'Количество ...   \n",
       "3  {'Процессор_тип': 'Intel Core i5', 'Количество...   \n",
       "4  {'Процессор_тип': 'Intel Core i5', 'Количество...   \n",
       "\n",
       "                                                 ram  \\\n",
       "0  {'Тип оперативной памяти': 'DDR 3', 'Объем опе...   \n",
       "1  {'Тип оперативной памяти': 'не заполнено', 'Об...   \n",
       "2  {'Тип оперативной памяти': 'не заполнено', 'Об...   \n",
       "3  {'Тип оперативной памяти': 'DDR 4', 'Объем опе...   \n",
       "4  {'Тип оперативной памяти': 'DDR 4', 'Объем опе...   \n",
       "\n",
       "                                                 hdd                      gpu  \\\n",
       "0  {'Объем накопителя HDD': None, 'Объем накопите...        Intel HD Graphics   \n",
       "1  {'Объем накопителя HDD': None, 'Объем накопите...             не заполнено   \n",
       "2  {'Объем накопителя HDD': None, 'Объем накопите...             не заполнено   \n",
       "3  {'Объем накопителя HDD': None, 'Объем накопите...   Intel UHD Graphics 630   \n",
       "4  {'Объем накопителя HDD': None, 'Объем накопите...  NVIDIA GeForce GTX 1660   \n",
       "\n",
       "                os             guaranty manufacturer_country  sales_num  \n",
       "0      отсутствует                3года               Россия        400  \n",
       "1      отсутствует                  NaN                Китай          0  \n",
       "2      отсутствует                  NaN                  NaN          0  \n",
       "3  windows пробная  3 Года (36 месяцев)               Россия         10  \n",
       "4  windows пробная  3 Года (36 месяцев)               Россия        200  "
      ]
     },
     "execution_count": 25,
     "metadata": {},
     "output_type": "execute_result"
    }
   ],
   "source": [
    "df_copy.head()"
   ]
  },
  {
   "cell_type": "code",
   "execution_count": 26,
   "id": "84a9e5cb-137d-4f97-a8b9-030176e3bc3a",
   "metadata": {},
   "outputs": [],
   "source": [
    "df_copy.drop(columns = 'sales', inplace = True)"
   ]
  },
  {
   "cell_type": "code",
   "execution_count": 27,
   "id": "23a9dc56-d672-4469-9823-a692da6cbeaf",
   "metadata": {},
   "outputs": [
    {
     "name": "stdout",
     "output_type": "stream",
     "text": [
      "<class 'pandas.core.frame.DataFrame'>\n",
      "Index: 4008 entries, 0 to 4499\n",
      "Data columns (total 14 columns):\n",
      " #   Column                Non-Null Count  Dtype  \n",
      "---  ------                --------------  -----  \n",
      " 0   product_id            4008 non-null   int64  \n",
      " 1   title                 4008 non-null   object \n",
      " 2   price                 4008 non-null   object \n",
      " 3   feedbacks             4008 non-null   object \n",
      " 4   seller                3912 non-null   object \n",
      " 5   seller_rating         3911 non-null   float64\n",
      " 6   cpu                   4008 non-null   object \n",
      " 7   ram                   4008 non-null   object \n",
      " 8   hdd                   4008 non-null   object \n",
      " 9   gpu                   4008 non-null   object \n",
      " 10  os                    4008 non-null   object \n",
      " 11  guaranty              2365 non-null   object \n",
      " 12  manufacturer_country  2323 non-null   object \n",
      " 13  sales_num             4008 non-null   int32  \n",
      "dtypes: float64(1), int32(1), int64(1), object(11)\n",
      "memory usage: 454.0+ KB\n"
     ]
    }
   ],
   "source": [
    "df_copy.info()"
   ]
  },
  {
   "cell_type": "code",
   "execution_count": 28,
   "id": "1aed0c45-57f7-45f5-b389-bafd8a38152c",
   "metadata": {},
   "outputs": [
    {
     "data": {
      "text/plain": [
       "array([400,   0,  10, 200,  40,   5,  30,  20,  50, 500, 100,  80, 800,\n",
       "        90, 300,  60,  70])"
      ]
     },
     "execution_count": 28,
     "metadata": {},
     "output_type": "execute_result"
    }
   ],
   "source": [
    "df_copy['sales_num'].unique()"
   ]
  },
  {
   "cell_type": "markdown",
   "id": "2c022a31-dc70-4f83-9d11-24d7ff763035",
   "metadata": {},
   "source": [
    "#### 3.4.3. 'seller'"
   ]
  },
  {
   "cell_type": "code",
   "execution_count": 29,
   "id": "7eab8be0-9b7e-42b2-b9ec-6155e576722c",
   "metadata": {},
   "outputs": [],
   "source": [
    "df_copy.dropna(subset = ['seller'], inplace = True)"
   ]
  },
  {
   "cell_type": "code",
   "execution_count": 30,
   "id": "e89fd6cd-b421-407f-b9db-fe2b28999efd",
   "metadata": {},
   "outputs": [
    {
     "data": {
      "text/plain": [
       "array(['Robotcomp', 'Market-77.ru', 'AXXES', 'САТЕЛЛИТ', 'Flash-ca',\n",
       "       'Фотосклад', 'Roo24.ru', 'Innopax', 'koiko', 'Кравец А. С.',\n",
       "       'Карасёв Максим Павлович', 'TERABYTE', 'Позитроника',\n",
       "       'Chip computers', 'Кравец С. П.', 'Гудилина И. А.', 'OptZone',\n",
       "       'FUTUREMAG', 'ПопШоп', 'KiBor', 'Семенова Н. С.', 'Zipov',\n",
       "       'Клеткин В. Д.', 'Бесшумный Компьютер', 'mrm-power', 'BeastPC',\n",
       "       'Техноцентр', 'Удачный Подарок', 'FLAMEFOX', 'Droid-box.ru',\n",
       "       'Пелевин В. В.', 'TOPIFY', 'Неупокоев Михаил Михайлович',\n",
       "       'Electronics51', 'DIY Light with ppfd.kz', 'smartkkt', 'Эстуаль',\n",
       "       'Компьютерс', 'ABS-TECHNO.RU', 'GENERAL MICROWAVE', 'TINAVINA',\n",
       "       'votmarket', 'Мир Репитеров', 'Acs Shop', 'TopSpare', 'ЗЕОН',\n",
       "       'MERKA', 'АБР Технолоджи', 'GIGAMART', 'ScanerAvto', 'Мингалёв',\n",
       "       'МИР', 'Товары для дома', 'Buchok', 'Русаков М. В.', 'STPOSKZ',\n",
       "       'XEON STORE', 'РЕТ - компьютерный супермаркет', 'DECK', 'RgCom',\n",
       "       '4T-Computer Store', 'АйТи-Изи', 'IT-Lavka', 'D-Tora', 'FREERIDE',\n",
       "       'SATEG', '1932 Toys', 'Partslog', 'DNSBOX', 'Линуксцентр',\n",
       "       'Меджидов Ш. А.', 'Chuwi.by', 'ФРИМЕН', 'Кастом ПК', 'OptSale',\n",
       "       'Axel shop', 'KSKSHOP', 'РЕГИОН КАСС', 'UNiService',\n",
       "       'ЖЕЛЕЗНЫЙ ДВОРИК', 'Континент', 'KING KOMP', 'Control PC',\n",
       "       'ПК Каморка', 'Курбацкий', 'СервисКомп+', 'ALFA-SYSTEM', 'ZEON',\n",
       "       'XDOT PC', 'PROHA', 'Добротный', 'Соловьёв Дмитрий Русланович',\n",
       "       'COMPDAY.RU', 'STYLUS-CH', 'Verified',\n",
       "       'Магазин одежды и товаров для дома', 'Табакиточка', 'Mar Arm',\n",
       "       'I-GAMEZ КОМПЬЮТЕРЫ', 'Volken', 'Самсонов А. Д.', 'SAGE by Encome',\n",
       "       'ATB POS', 'XPRINTER.KZ', 'System Point', 'Корпорация Центр',\n",
       "       '\"XFinity Store\"', 'Тимошенко М.В,', 'Компас',\n",
       "       'Мастерская Д.К. Попова', 'ПКР', 'АРМК', 'Москомпьютер',\n",
       "       'AlmatyPOS', 'BitBase', 'Bagma technology', 'REAL-PC', 'IGORTSEV',\n",
       "       'Царь-ПК', 'M-Bit', 'SHARK', 'Xport Store', 'megamarket',\n",
       "       'SevenGroup', 'IT-Bro', 'Personal PC'], dtype=object)"
      ]
     },
     "execution_count": 30,
     "metadata": {},
     "output_type": "execute_result"
    }
   ],
   "source": [
    "df_copy['seller'].unique()"
   ]
  },
  {
   "cell_type": "markdown",
   "id": "d3f88615-5abc-4594-b6a9-af16b241004d",
   "metadata": {},
   "source": [
    "#### 3.4.4. 'seller_rating'"
   ]
  },
  {
   "cell_type": "code",
   "execution_count": 31,
   "id": "33d84067-2fc0-4a9f-9185-baa903215d50",
   "metadata": {},
   "outputs": [],
   "source": [
    "df_copy.dropna(subset = ['seller_rating'], inplace = True)"
   ]
  },
  {
   "cell_type": "code",
   "execution_count": 32,
   "id": "73c19f54-8f51-461e-944f-ec126fa3635d",
   "metadata": {},
   "outputs": [
    {
     "data": {
      "text/plain": [
       "array([4.7, 4.3, 0. , 4.6, 4.4, 4.1, 3.4, 4.2, 5. , 4. , 3.8, 4.8, 4.9,\n",
       "       3.1, 4.5, 3.7, 1.5, 3.5, 3.9, 3.3, 3.6, 3. ])"
      ]
     },
     "execution_count": 32,
     "metadata": {},
     "output_type": "execute_result"
    }
   ],
   "source": [
    "df_copy['seller_rating'].unique()"
   ]
  },
  {
   "cell_type": "markdown",
   "id": "c875f30b-a96f-471a-a97d-2a4a70051c06",
   "metadata": {},
   "source": [
    "#### 3.4.5. 'manufacturer_country'"
   ]
  },
  {
   "cell_type": "code",
   "execution_count": 33,
   "id": "cd218d29-3fce-4833-9666-f47f765d8183",
   "metadata": {},
   "outputs": [],
   "source": [
    "df_copy.dropna(subset = ['manufacturer_country'], inplace = True)"
   ]
  },
  {
   "cell_type": "code",
   "execution_count": 34,
   "id": "f71d0947-8ed9-4846-abd9-69450b20a95a",
   "metadata": {},
   "outputs": [
    {
     "data": {
      "text/plain": [
       "array(['Россия', 'Китай', 'США', 'Франция', 'Тайвань', 'Малайзия',\n",
       "       'Япония', 'Швейцария', 'Вьетнам', 'Беларусь'], dtype=object)"
      ]
     },
     "execution_count": 34,
     "metadata": {},
     "output_type": "execute_result"
    }
   ],
   "source": [
    "df_copy['manufacturer_country'].unique()"
   ]
  },
  {
   "cell_type": "markdown",
   "id": "155d2e5b-1b2e-4ce2-95dc-f90513543c4c",
   "metadata": {},
   "source": [
    "#### 3.4.6. 'guaranty'"
   ]
  },
  {
   "cell_type": "code",
   "execution_count": 35,
   "id": "81eaad22-c396-4d1a-aad5-4a08c819e887",
   "metadata": {},
   "outputs": [
    {
     "data": {
      "text/plain": [
       "array(['3y', '6m', '0', '1y', '2y', '7d', '3m', '30d', '1m', '2m'],\n",
       "      dtype=object)"
      ]
     },
     "execution_count": 35,
     "metadata": {},
     "output_type": "execute_result"
    }
   ],
   "source": [
    "# Функция для преобразования в компактный формат\n",
    "def guaranty_to_period(text):\n",
    "    if pd.isna(text):\n",
    "        return \"0\"\n",
    "    \n",
    "    text = str(text).lower()\n",
    "    text = text.replace('(', '').replace(')', '').replace(',', '').replace(';', '').strip()\n",
    "    \n",
    "    # Извлекаем все числа из строки\n",
    "    numbers = [int(s) for s in text.split() if s.isdigit()]\n",
    "    if not numbers:\n",
    "        return np.nan\n",
    "    num = numbers[0]  # берём первое найденное число\n",
    "    \n",
    "    # Определяем период с приоритетом для лет\n",
    "    if 'год' in text or 'лет' in text:\n",
    "        return f\"{num}y\"\n",
    "    elif 'мес' in text or 'месяц' in text:\n",
    "        if num >= 12:\n",
    "            return f\"{num // 12}y\"\n",
    "        else: return f\"{num}m\"\n",
    "    elif 'дн' in text or 'дней' in text:\n",
    "        if num == 365:\n",
    "            return \"1y\"\n",
    "        else: return f\"{num}d\"\n",
    "    else:\n",
    "        return np.nan\n",
    "\n",
    "# Применяем функцию\n",
    "df_copy['guaranty_period'] = df_copy['guaranty'].apply(guaranty_to_period)\n",
    "\n",
    "# Удаляем строки с неудачными преобразованиями (например, \"12\", \"1\")\n",
    "df_copy.dropna(subset=['guaranty_period'], inplace=True)\n",
    "\n",
    "# Проверяем результат\n",
    "df_copy['guaranty_period'].unique()"
   ]
  },
  {
   "cell_type": "code",
   "execution_count": 36,
   "id": "97d60fd1-6752-4589-9202-72cd1156b086",
   "metadata": {},
   "outputs": [
    {
     "name": "stdout",
     "output_type": "stream",
     "text": [
      "<class 'pandas.core.frame.DataFrame'>\n",
      "Index: 2235 entries, 3 to 4483\n",
      "Data columns (total 15 columns):\n",
      " #   Column                Non-Null Count  Dtype  \n",
      "---  ------                --------------  -----  \n",
      " 0   product_id            2235 non-null   int64  \n",
      " 1   title                 2235 non-null   object \n",
      " 2   price                 2235 non-null   object \n",
      " 3   feedbacks             2235 non-null   object \n",
      " 4   seller                2235 non-null   object \n",
      " 5   seller_rating         2235 non-null   float64\n",
      " 6   cpu                   2235 non-null   object \n",
      " 7   ram                   2235 non-null   object \n",
      " 8   hdd                   2235 non-null   object \n",
      " 9   gpu                   2235 non-null   object \n",
      " 10  os                    2235 non-null   object \n",
      " 11  guaranty              1880 non-null   object \n",
      " 12  manufacturer_country  2235 non-null   object \n",
      " 13  sales_num             2235 non-null   int32  \n",
      " 14  guaranty_period       2235 non-null   object \n",
      "dtypes: float64(1), int32(1), int64(1), object(12)\n",
      "memory usage: 270.6+ KB\n"
     ]
    }
   ],
   "source": [
    "df_copy.info()"
   ]
  },
  {
   "cell_type": "code",
   "execution_count": 37,
   "id": "ca6cf907-fad4-46ed-83bc-56f11008a4f3",
   "metadata": {},
   "outputs": [],
   "source": [
    "df_copy.drop(columns = 'guaranty', inplace = True)"
   ]
  },
  {
   "cell_type": "code",
   "execution_count": 38,
   "id": "240e4bff-30da-49e5-a236-d508a855ac34",
   "metadata": {},
   "outputs": [
    {
     "data": {
      "text/html": [
       "<div>\n",
       "<style scoped>\n",
       "    .dataframe tbody tr th:only-of-type {\n",
       "        vertical-align: middle;\n",
       "    }\n",
       "\n",
       "    .dataframe tbody tr th {\n",
       "        vertical-align: top;\n",
       "    }\n",
       "\n",
       "    .dataframe thead th {\n",
       "        text-align: right;\n",
       "    }\n",
       "</style>\n",
       "<table border=\"1\" class=\"dataframe\">\n",
       "  <thead>\n",
       "    <tr style=\"text-align: right;\">\n",
       "      <th></th>\n",
       "      <th>product_id</th>\n",
       "      <th>title</th>\n",
       "      <th>price</th>\n",
       "      <th>feedbacks</th>\n",
       "      <th>seller</th>\n",
       "      <th>seller_rating</th>\n",
       "      <th>cpu</th>\n",
       "      <th>ram</th>\n",
       "      <th>hdd</th>\n",
       "      <th>gpu</th>\n",
       "      <th>os</th>\n",
       "      <th>manufacturer_country</th>\n",
       "      <th>sales_num</th>\n",
       "      <th>guaranty_period</th>\n",
       "    </tr>\n",
       "  </thead>\n",
       "  <tbody>\n",
       "    <tr>\n",
       "      <th>3</th>\n",
       "      <td>19347937</td>\n",
       "      <td>Офисный Компьютер Robotcomp Казначей V1</td>\n",
       "      <td>39237₽</td>\n",
       "      <td>1 отзыв</td>\n",
       "      <td>Robotcomp</td>\n",
       "      <td>4.7</td>\n",
       "      <td>{'Процессор_тип': 'Intel Core i5', 'Количество...</td>\n",
       "      <td>{'Тип оперативной памяти': 'DDR 4', 'Объем опе...</td>\n",
       "      <td>{'Объем накопителя HDD': None, 'Объем накопите...</td>\n",
       "      <td>Intel UHD Graphics 630</td>\n",
       "      <td>windows пробная</td>\n",
       "      <td>Россия</td>\n",
       "      <td>10</td>\n",
       "      <td>3y</td>\n",
       "    </tr>\n",
       "    <tr>\n",
       "      <th>4</th>\n",
       "      <td>19348951</td>\n",
       "      <td>Игровой Компьютер Robotcomp М16 2.0 V1</td>\n",
       "      <td>76188₽</td>\n",
       "      <td>94 отзыва</td>\n",
       "      <td>Robotcomp</td>\n",
       "      <td>4.7</td>\n",
       "      <td>{'Процессор_тип': 'Intel Core i5', 'Количество...</td>\n",
       "      <td>{'Тип оперативной памяти': 'DDR 4', 'Объем опе...</td>\n",
       "      <td>{'Объем накопителя HDD': None, 'Объем накопите...</td>\n",
       "      <td>NVIDIA GeForce GTX 1660</td>\n",
       "      <td>windows пробная</td>\n",
       "      <td>Россия</td>\n",
       "      <td>200</td>\n",
       "      <td>3y</td>\n",
       "    </tr>\n",
       "    <tr>\n",
       "      <th>5</th>\n",
       "      <td>19355097</td>\n",
       "      <td>Игровой Компьютер Robotcomp M-16 V1</td>\n",
       "      <td>55625₽</td>\n",
       "      <td>12 отзывов</td>\n",
       "      <td>Robotcomp</td>\n",
       "      <td>4.7</td>\n",
       "      <td>{'Процессор_тип': 'Intel Core i5', 'Количество...</td>\n",
       "      <td>{'Тип оперативной памяти': 'DDR 4', 'Объем опе...</td>\n",
       "      <td>{'Объем накопителя HDD': None, 'Объем накопите...</td>\n",
       "      <td>NVIDIA GeForce GTX 1650</td>\n",
       "      <td>windows пробная</td>\n",
       "      <td>Россия</td>\n",
       "      <td>40</td>\n",
       "      <td>3y</td>\n",
       "    </tr>\n",
       "    <tr>\n",
       "      <th>7</th>\n",
       "      <td>19358744</td>\n",
       "      <td>Игровой Компьютер Robotcomp Анаконда 2.0 V1</td>\n",
       "      <td>128284₽</td>\n",
       "      <td>4 отзыва</td>\n",
       "      <td>Robotcomp</td>\n",
       "      <td>4.7</td>\n",
       "      <td>{'Процессор_тип': 'Intel Core i5', 'Количество...</td>\n",
       "      <td>{'Тип оперативной памяти': 'DDR 4', 'Объем опе...</td>\n",
       "      <td>{'Объем накопителя HDD': None, 'Объем накопите...</td>\n",
       "      <td>NVIDIA GeForce RTX 3070</td>\n",
       "      <td>windows пробная</td>\n",
       "      <td>Россия</td>\n",
       "      <td>5</td>\n",
       "      <td>3y</td>\n",
       "    </tr>\n",
       "    <tr>\n",
       "      <th>8</th>\n",
       "      <td>19364495</td>\n",
       "      <td>Игровой Компьютер Robotcomp F22 Raptor V1</td>\n",
       "      <td>48386₽</td>\n",
       "      <td>9 отзывов</td>\n",
       "      <td>Robotcomp</td>\n",
       "      <td>4.7</td>\n",
       "      <td>{'Процессор_тип': 'Intel Core i3', 'Количество...</td>\n",
       "      <td>{'Тип оперативной памяти': 'DDR 4', 'Объем опе...</td>\n",
       "      <td>{'Объем накопителя HDD': None, 'Объем накопите...</td>\n",
       "      <td>NVIDIA GeForce GTX 1650</td>\n",
       "      <td>windows пробная</td>\n",
       "      <td>Россия</td>\n",
       "      <td>30</td>\n",
       "      <td>3y</td>\n",
       "    </tr>\n",
       "  </tbody>\n",
       "</table>\n",
       "</div>"
      ],
      "text/plain": [
       "   product_id                                        title    price  \\\n",
       "3    19347937      Офисный Компьютер Robotcomp Казначей V1   39237₽   \n",
       "4    19348951       Игровой Компьютер Robotcomp М16 2.0 V1   76188₽   \n",
       "5    19355097          Игровой Компьютер Robotcomp M-16 V1   55625₽   \n",
       "7    19358744  Игровой Компьютер Robotcomp Анаконда 2.0 V1  128284₽   \n",
       "8    19364495    Игровой Компьютер Robotcomp F22 Raptor V1   48386₽   \n",
       "\n",
       "     feedbacks     seller  seller_rating  \\\n",
       "3      1 отзыв  Robotcomp            4.7   \n",
       "4    94 отзыва  Robotcomp            4.7   \n",
       "5   12 отзывов  Robotcomp            4.7   \n",
       "7     4 отзыва  Robotcomp            4.7   \n",
       "8    9 отзывов  Robotcomp            4.7   \n",
       "\n",
       "                                                 cpu  \\\n",
       "3  {'Процессор_тип': 'Intel Core i5', 'Количество...   \n",
       "4  {'Процессор_тип': 'Intel Core i5', 'Количество...   \n",
       "5  {'Процессор_тип': 'Intel Core i5', 'Количество...   \n",
       "7  {'Процессор_тип': 'Intel Core i5', 'Количество...   \n",
       "8  {'Процессор_тип': 'Intel Core i3', 'Количество...   \n",
       "\n",
       "                                                 ram  \\\n",
       "3  {'Тип оперативной памяти': 'DDR 4', 'Объем опе...   \n",
       "4  {'Тип оперативной памяти': 'DDR 4', 'Объем опе...   \n",
       "5  {'Тип оперативной памяти': 'DDR 4', 'Объем опе...   \n",
       "7  {'Тип оперативной памяти': 'DDR 4', 'Объем опе...   \n",
       "8  {'Тип оперативной памяти': 'DDR 4', 'Объем опе...   \n",
       "\n",
       "                                                 hdd                      gpu  \\\n",
       "3  {'Объем накопителя HDD': None, 'Объем накопите...   Intel UHD Graphics 630   \n",
       "4  {'Объем накопителя HDD': None, 'Объем накопите...  NVIDIA GeForce GTX 1660   \n",
       "5  {'Объем накопителя HDD': None, 'Объем накопите...  NVIDIA GeForce GTX 1650   \n",
       "7  {'Объем накопителя HDD': None, 'Объем накопите...  NVIDIA GeForce RTX 3070   \n",
       "8  {'Объем накопителя HDD': None, 'Объем накопите...  NVIDIA GeForce GTX 1650   \n",
       "\n",
       "                os manufacturer_country  sales_num guaranty_period  \n",
       "3  windows пробная               Россия         10              3y  \n",
       "4  windows пробная               Россия        200              3y  \n",
       "5  windows пробная               Россия         40              3y  \n",
       "7  windows пробная               Россия          5              3y  \n",
       "8  windows пробная               Россия         30              3y  "
      ]
     },
     "execution_count": 38,
     "metadata": {},
     "output_type": "execute_result"
    }
   ],
   "source": [
    "df_copy.head()"
   ]
  },
  {
   "cell_type": "code",
   "execution_count": 39,
   "id": "55f53d8f-45f5-42fc-96a1-776430b69fde",
   "metadata": {},
   "outputs": [],
   "source": [
    "df_copy.reset_index(drop=True, inplace=True)"
   ]
  },
  {
   "cell_type": "code",
   "execution_count": 40,
   "id": "f804e489-a21f-4f52-85e7-9bfd13df0e7f",
   "metadata": {},
   "outputs": [
    {
     "name": "stdout",
     "output_type": "stream",
     "text": [
      "<class 'pandas.core.frame.DataFrame'>\n",
      "RangeIndex: 2235 entries, 0 to 2234\n",
      "Data columns (total 14 columns):\n",
      " #   Column                Non-Null Count  Dtype  \n",
      "---  ------                --------------  -----  \n",
      " 0   product_id            2235 non-null   int64  \n",
      " 1   title                 2235 non-null   object \n",
      " 2   price                 2235 non-null   object \n",
      " 3   feedbacks             2235 non-null   object \n",
      " 4   seller                2235 non-null   object \n",
      " 5   seller_rating         2235 non-null   float64\n",
      " 6   cpu                   2235 non-null   object \n",
      " 7   ram                   2235 non-null   object \n",
      " 8   hdd                   2235 non-null   object \n",
      " 9   gpu                   2235 non-null   object \n",
      " 10  os                    2235 non-null   object \n",
      " 11  manufacturer_country  2235 non-null   object \n",
      " 12  sales_num             2235 non-null   int32  \n",
      " 13  guaranty_period       2235 non-null   object \n",
      "dtypes: float64(1), int32(1), int64(1), object(11)\n",
      "memory usage: 235.9+ KB\n"
     ]
    }
   ],
   "source": [
    "df_copy.info()"
   ]
  },
  {
   "cell_type": "markdown",
   "id": "1d3b803f-ffb4-4a48-87ee-c495f9db9822",
   "metadata": {},
   "source": [
    "### 3.5. Работа с вложенными структурами данных"
   ]
  },
  {
   "cell_type": "markdown",
   "id": "6f355449-bc44-4d84-9090-675faf09575c",
   "metadata": {},
   "source": [
    "#### 3.5.1. 'cpu'"
   ]
  },
  {
   "cell_type": "code",
   "execution_count": 41,
   "id": "5e2a5245-01f3-4795-bda0-aec7ab5a93d7",
   "metadata": {},
   "outputs": [
    {
     "data": {
      "text/plain": [
       "\"{'Процессор_тип': 'Intel Core i5', 'Количество ядер процессора': '6'}\""
      ]
     },
     "execution_count": 41,
     "metadata": {},
     "output_type": "execute_result"
    }
   ],
   "source": [
    "df_copy['cpu'][0]"
   ]
  },
  {
   "cell_type": "code",
   "execution_count": 42,
   "id": "cd3bff23-c102-4440-8e08-3c6c253c065d",
   "metadata": {},
   "outputs": [
    {
     "data": {
      "text/html": [
       "<div>\n",
       "<style scoped>\n",
       "    .dataframe tbody tr th:only-of-type {\n",
       "        vertical-align: middle;\n",
       "    }\n",
       "\n",
       "    .dataframe tbody tr th {\n",
       "        vertical-align: top;\n",
       "    }\n",
       "\n",
       "    .dataframe thead th {\n",
       "        text-align: right;\n",
       "    }\n",
       "</style>\n",
       "<table border=\"1\" class=\"dataframe\">\n",
       "  <thead>\n",
       "    <tr style=\"text-align: right;\">\n",
       "      <th></th>\n",
       "      <th>product_id</th>\n",
       "      <th>title</th>\n",
       "      <th>price</th>\n",
       "      <th>feedbacks</th>\n",
       "      <th>seller</th>\n",
       "      <th>seller_rating</th>\n",
       "      <th>ram</th>\n",
       "      <th>hdd</th>\n",
       "      <th>gpu</th>\n",
       "      <th>os</th>\n",
       "      <th>manufacturer_country</th>\n",
       "      <th>sales_num</th>\n",
       "      <th>guaranty_period</th>\n",
       "      <th>cpu_type</th>\n",
       "      <th>cpu_cores</th>\n",
       "    </tr>\n",
       "  </thead>\n",
       "  <tbody>\n",
       "    <tr>\n",
       "      <th>0</th>\n",
       "      <td>19347937</td>\n",
       "      <td>Офисный Компьютер Robotcomp Казначей V1</td>\n",
       "      <td>39237₽</td>\n",
       "      <td>1 отзыв</td>\n",
       "      <td>Robotcomp</td>\n",
       "      <td>4.7</td>\n",
       "      <td>{'Тип оперативной памяти': 'DDR 4', 'Объем опе...</td>\n",
       "      <td>{'Объем накопителя HDD': None, 'Объем накопите...</td>\n",
       "      <td>Intel UHD Graphics 630</td>\n",
       "      <td>windows пробная</td>\n",
       "      <td>Россия</td>\n",
       "      <td>10</td>\n",
       "      <td>3y</td>\n",
       "      <td>Intel Core i5</td>\n",
       "      <td>6</td>\n",
       "    </tr>\n",
       "    <tr>\n",
       "      <th>1</th>\n",
       "      <td>19348951</td>\n",
       "      <td>Игровой Компьютер Robotcomp М16 2.0 V1</td>\n",
       "      <td>76188₽</td>\n",
       "      <td>94 отзыва</td>\n",
       "      <td>Robotcomp</td>\n",
       "      <td>4.7</td>\n",
       "      <td>{'Тип оперативной памяти': 'DDR 4', 'Объем опе...</td>\n",
       "      <td>{'Объем накопителя HDD': None, 'Объем накопите...</td>\n",
       "      <td>NVIDIA GeForce GTX 1660</td>\n",
       "      <td>windows пробная</td>\n",
       "      <td>Россия</td>\n",
       "      <td>200</td>\n",
       "      <td>3y</td>\n",
       "      <td>Intel Core i5</td>\n",
       "      <td>6</td>\n",
       "    </tr>\n",
       "    <tr>\n",
       "      <th>2</th>\n",
       "      <td>19355097</td>\n",
       "      <td>Игровой Компьютер Robotcomp M-16 V1</td>\n",
       "      <td>55625₽</td>\n",
       "      <td>12 отзывов</td>\n",
       "      <td>Robotcomp</td>\n",
       "      <td>4.7</td>\n",
       "      <td>{'Тип оперативной памяти': 'DDR 4', 'Объем опе...</td>\n",
       "      <td>{'Объем накопителя HDD': None, 'Объем накопите...</td>\n",
       "      <td>NVIDIA GeForce GTX 1650</td>\n",
       "      <td>windows пробная</td>\n",
       "      <td>Россия</td>\n",
       "      <td>40</td>\n",
       "      <td>3y</td>\n",
       "      <td>Intel Core i5</td>\n",
       "      <td>6</td>\n",
       "    </tr>\n",
       "    <tr>\n",
       "      <th>3</th>\n",
       "      <td>19358744</td>\n",
       "      <td>Игровой Компьютер Robotcomp Анаконда 2.0 V1</td>\n",
       "      <td>128284₽</td>\n",
       "      <td>4 отзыва</td>\n",
       "      <td>Robotcomp</td>\n",
       "      <td>4.7</td>\n",
       "      <td>{'Тип оперативной памяти': 'DDR 4', 'Объем опе...</td>\n",
       "      <td>{'Объем накопителя HDD': None, 'Объем накопите...</td>\n",
       "      <td>NVIDIA GeForce RTX 3070</td>\n",
       "      <td>windows пробная</td>\n",
       "      <td>Россия</td>\n",
       "      <td>5</td>\n",
       "      <td>3y</td>\n",
       "      <td>Intel Core i5</td>\n",
       "      <td>10</td>\n",
       "    </tr>\n",
       "    <tr>\n",
       "      <th>4</th>\n",
       "      <td>19364495</td>\n",
       "      <td>Игровой Компьютер Robotcomp F22 Raptor V1</td>\n",
       "      <td>48386₽</td>\n",
       "      <td>9 отзывов</td>\n",
       "      <td>Robotcomp</td>\n",
       "      <td>4.7</td>\n",
       "      <td>{'Тип оперативной памяти': 'DDR 4', 'Объем опе...</td>\n",
       "      <td>{'Объем накопителя HDD': None, 'Объем накопите...</td>\n",
       "      <td>NVIDIA GeForce GTX 1650</td>\n",
       "      <td>windows пробная</td>\n",
       "      <td>Россия</td>\n",
       "      <td>30</td>\n",
       "      <td>3y</td>\n",
       "      <td>Intel Core i3</td>\n",
       "      <td>4</td>\n",
       "    </tr>\n",
       "  </tbody>\n",
       "</table>\n",
       "</div>"
      ],
      "text/plain": [
       "   product_id                                        title    price  \\\n",
       "0    19347937      Офисный Компьютер Robotcomp Казначей V1   39237₽   \n",
       "1    19348951       Игровой Компьютер Robotcomp М16 2.0 V1   76188₽   \n",
       "2    19355097          Игровой Компьютер Robotcomp M-16 V1   55625₽   \n",
       "3    19358744  Игровой Компьютер Robotcomp Анаконда 2.0 V1  128284₽   \n",
       "4    19364495    Игровой Компьютер Robotcomp F22 Raptor V1   48386₽   \n",
       "\n",
       "     feedbacks     seller  seller_rating  \\\n",
       "0      1 отзыв  Robotcomp            4.7   \n",
       "1    94 отзыва  Robotcomp            4.7   \n",
       "2   12 отзывов  Robotcomp            4.7   \n",
       "3     4 отзыва  Robotcomp            4.7   \n",
       "4    9 отзывов  Robotcomp            4.7   \n",
       "\n",
       "                                                 ram  \\\n",
       "0  {'Тип оперативной памяти': 'DDR 4', 'Объем опе...   \n",
       "1  {'Тип оперативной памяти': 'DDR 4', 'Объем опе...   \n",
       "2  {'Тип оперативной памяти': 'DDR 4', 'Объем опе...   \n",
       "3  {'Тип оперативной памяти': 'DDR 4', 'Объем опе...   \n",
       "4  {'Тип оперативной памяти': 'DDR 4', 'Объем опе...   \n",
       "\n",
       "                                                 hdd                      gpu  \\\n",
       "0  {'Объем накопителя HDD': None, 'Объем накопите...   Intel UHD Graphics 630   \n",
       "1  {'Объем накопителя HDD': None, 'Объем накопите...  NVIDIA GeForce GTX 1660   \n",
       "2  {'Объем накопителя HDD': None, 'Объем накопите...  NVIDIA GeForce GTX 1650   \n",
       "3  {'Объем накопителя HDD': None, 'Объем накопите...  NVIDIA GeForce RTX 3070   \n",
       "4  {'Объем накопителя HDD': None, 'Объем накопите...  NVIDIA GeForce GTX 1650   \n",
       "\n",
       "                os manufacturer_country  sales_num guaranty_period  \\\n",
       "0  windows пробная               Россия         10              3y   \n",
       "1  windows пробная               Россия        200              3y   \n",
       "2  windows пробная               Россия         40              3y   \n",
       "3  windows пробная               Россия          5              3y   \n",
       "4  windows пробная               Россия         30              3y   \n",
       "\n",
       "        cpu_type cpu_cores  \n",
       "0  Intel Core i5         6  \n",
       "1  Intel Core i5         6  \n",
       "2  Intel Core i5         6  \n",
       "3  Intel Core i5        10  \n",
       "4  Intel Core i3         4  "
      ]
     },
     "execution_count": 42,
     "metadata": {},
     "output_type": "execute_result"
    }
   ],
   "source": [
    "df_copy['cpu_dict'] = df_copy['cpu'].apply(lambda x: json.loads(x.replace(\"'\", '\"')))\n",
    "\n",
    "df_copy['cpu_type'] = df_copy['cpu_dict'].apply(lambda x: x.get('Процессор_тип'))\n",
    "df_copy['cpu_cores'] = df_copy['cpu_dict'].apply(lambda x: x.get('Количество ядер процессора'))\n",
    "\n",
    "df_copy.drop(columns = ['cpu', 'cpu_dict'], inplace=True)\n",
    "\n",
    "df_copy.head()"
   ]
  },
  {
   "cell_type": "code",
   "execution_count": 43,
   "id": "2e21f970-494e-4a47-9a78-2bd9f6a1af7c",
   "metadata": {},
   "outputs": [
    {
     "data": {
      "text/plain": [
       "array(['Intel Core i5', 'Intel Core i3', 'AMD Ryzen 5', 'AMD Athlon',\n",
       "       'Intel Core i7', 'Intel Core i9', 'AMD Ryzen 3',\n",
       "       'Gemini Lake Refresh J4115', 'не заполнено',\n",
       "       'Gemini Lake Refresh J4125', 'Intel Core 12400F',\n",
       "       'Gemini Lake Refresh Processor J4125', 'Intel J4125', 'Intel',\n",
       "       'Intel Xeon', '6010', '12400f', 'Intel Pentium', 'AMD A6',\n",
       "       '8 ядер', 'Intel J3455', 'N3350', '4 ядра intel', 'Intel 4 ядра',\n",
       "       'Intel Atom x5-Z8500', 'Intel Celeron',\n",
       "       'Intel Apollo Lake J3355 Dual-Core (2 ГГц)', 'AMD E1-6010',\n",
       "       'Intel N5095', 'AMD RYZEN 4600g Vega7 арт. 100343717',\n",
       "       'Intel Processor N5095', 'Встроенный intel J3160 - core 1.5 ГГц',\n",
       "       'Intel Z8350 4 ядра 1,92 ГГц 64 бита', 'Intel N5105',\n",
       "       'AMD RYZEN 4600g Vega7 арт. 143553804', 'AMD Ryzen 9',\n",
       "       'AMD Ryzen 7', 'A10-5800KRAM', 'AMD FX-4300', 'AMD FX-6100',\n",
       "       'Intеl Quad Q9400', 'Intеl Quad 9400', 'Intel E5',\n",
       "       'Intel Core Quad 9400', 'Intel E3', 'AMD Radeon RX 570', 'Q9400',\n",
       "       'Intеl Quad', 'Ryzen; 3 1300x', 'Intel J1800 2,0 GHz quad core',\n",
       "       'AMD рязань 5 4650', 'ARM Cortex-A53'], dtype=object)"
      ]
     },
     "execution_count": 43,
     "metadata": {},
     "output_type": "execute_result"
    }
   ],
   "source": [
    "df_copy['cpu_type'].unique()"
   ]
  },
  {
   "cell_type": "code",
   "execution_count": 44,
   "id": "61bd3e83-171d-4c90-8ce7-61a6715c2775",
   "metadata": {
    "editable": true,
    "slideshow": {
     "slide_type": ""
    },
    "tags": []
   },
   "outputs": [],
   "source": [
    "df_copy['cpu_type'] = df_copy['cpu_type'].str.strip().str.lower()\n",
    "# Замена некорректных написаний брендов\n",
    "brand_replacements = {\n",
    "    'intel': 'intel',\n",
    "    'amd': 'amd',\n",
    "    'рязань': 'ryzen',  # Исправление опечатки\n",
    "    'intеl': 'intel',    # Исправление кириллической 'е'\n",
    "    'arm': 'arm'\n",
    "}\n",
    "\n",
    "# Стандартизация моделей процессоров\n",
    "model_replacements = {\n",
    "    'core i': 'core i',\n",
    "    'xeon': 'xeon',\n",
    "    'pentium': 'pentium',\n",
    "    'celeron': 'celeron',\n",
    "    'athlon': 'athlon',\n",
    "    'ryzen': 'ryzen',\n",
    "    'apollo lake': 'apollo lake',\n",
    "    'gemini lake': 'gemini lake'\n",
    "}\n",
    "\n",
    "def standardize_cpu_name(cpu):\n",
    "    if pd.isna(cpu) or cpu == 'не заполнено':\n",
    "        return np.nan\n",
    "    \n",
    "    # Замена брендов\n",
    "    for wrong, correct in brand_replacements.items():\n",
    "        cpu = cpu.replace(wrong, correct)\n",
    "    \n",
    "    # Стандартизация моделей\n",
    "    for pattern, replacement in model_replacements.items():\n",
    "        if pattern in cpu:\n",
    "            cpu = cpu.replace(pattern, replacement)\n",
    "    \n",
    "    # Удаление технических характеристик (ГГц, ядер и т.д.)\n",
    "    cpu = re.sub(r'[\\d,]+ гц', '', cpu)\n",
    "    cpu = re.sub(r'\\d+-ядерный', '', cpu)\n",
    "    cpu = re.sub(r'\\d+ ядра', '', cpu)\n",
    "    cpu = re.sub(r'\\d+ бита', '', cpu)\n",
    "    cpu = re.sub(r'арт\\. \\d+', '', cpu)\n",
    "    cpu = re.sub(r'встроенный', '', cpu)\n",
    "    \n",
    "    # Удаление лишних пробелов и дефисов\n",
    "    cpu = re.sub(r'\\s+', ' ', cpu).strip()\n",
    "    cpu = re.sub(r'\\s*-\\s*', ' ', cpu)\n",
    "    \n",
    "    return cpu\n",
    "\n",
    "df_copy['cpu_type_clean'] = df_copy['cpu_type'].apply(standardize_cpu_name)"
   ]
  },
  {
   "cell_type": "code",
   "execution_count": 45,
   "id": "121852e6-56bb-47ec-9ca0-d1848630e086",
   "metadata": {},
   "outputs": [
    {
     "data": {
      "text/plain": [
       "array(['intel core i5', 'intel core i3', 'amd ryzen 5', 'amd athlon',\n",
       "       'intel core i7', 'intel core i9', 'amd ryzen 3',\n",
       "       'gemini lake refresh j4115', nan, 'gemini lake refresh j4125',\n",
       "       'intel core 12400f', 'gemini lake refresh processor j4125',\n",
       "       'intel j4125', 'intel', 'intel xeon', '6010', '12400f',\n",
       "       'intel pentium', 'amd a6', '8 ядер', 'intel j3455', 'n3350',\n",
       "       'intel atom x5 z8500', 'intel celeron',\n",
       "       'intel apollo lake j3355 dual core (2 ггц)', 'amd e1 6010',\n",
       "       'intel n5095', 'amd ryzen 4600g vega7', 'intel processor n5095',\n",
       "       'intel j3160 core 1.5 ггц', 'intel z8350 1,92 ггц', 'intel n5105',\n",
       "       'amd ryzen 9', 'amd ryzen 7', 'a10 5800kram', 'amd fx 4300',\n",
       "       'amd fx 6100', 'intel quad q9400', 'intel quad 9400', 'intel e5',\n",
       "       'intel core quad 9400', 'intel e3', 'amd radeon rx 570', 'q9400',\n",
       "       'intel quad', 'ryzen; 3 1300x', 'intel j1800 2,0 ghz quad core',\n",
       "       'amd ryzen 5 4650', 'arm cortex a53'], dtype=object)"
      ]
     },
     "execution_count": 45,
     "metadata": {},
     "output_type": "execute_result"
    }
   ],
   "source": [
    "df_copy['cpu_type_clean'].unique()"
   ]
  },
  {
   "cell_type": "code",
   "execution_count": 46,
   "id": "70e143e4-9888-4edb-b46e-b0841b3904f7",
   "metadata": {},
   "outputs": [],
   "source": [
    "df_copy.dropna(subset=['cpu_type_clean'], inplace=True)\n",
    "df_copy.reset_index(drop=True, inplace=True)"
   ]
  },
  {
   "cell_type": "code",
   "execution_count": 47,
   "id": "9691bb27-f1a6-4d3f-954f-b112230942d0",
   "metadata": {},
   "outputs": [
    {
     "name": "stdout",
     "output_type": "stream",
     "text": [
      "cpu_category\n",
      "Intel Core i5      515\n",
      "Intel Core i3      388\n",
      "AMD Ryzen 5        334\n",
      "Intel Core i7      201\n",
      "Intel Xeon          97\n",
      "AMD Athlon          67\n",
      "Intel Celeron       48\n",
      "AMD A6              37\n",
      "other Intel cpu     32\n",
      "AMD Ryzen 3         20\n",
      "Intel Quad          19\n",
      "Intel Atom          18\n",
      "Intel Pentium       16\n",
      "Intel Core i9       13\n",
      "other                8\n",
      "AMD Ryzen 9          4\n",
      "AMD Ryzen 7          3\n",
      "AMD FX               3\n",
      "AMD A10              1\n",
      "AMD E1               1\n",
      "ARM Cortex           1\n",
      "Name: count, dtype: int64\n"
     ]
    }
   ],
   "source": [
    "# Создаем категории для основных линеек процессоров\n",
    "def categorize_cpu(cpu):\n",
    "    if not cpu:\n",
    "        return 'other'\n",
    "    \n",
    "    cpu = cpu.lower()\n",
    "    \n",
    "    if 'core i3' in cpu:\n",
    "        return 'Intel Core i3'\n",
    "    elif ('core i5' in cpu or '12400' in cpu):\n",
    "        return 'Intel Core i5'\n",
    "    elif 'core i7' in cpu:\n",
    "        return 'Intel Core i7'\n",
    "    elif 'core i9' in cpu:\n",
    "        return 'Intel Core i9'\n",
    "    elif 'ryzen 3' in cpu:\n",
    "        return 'AMD Ryzen 3'\n",
    "    elif 'ryzen 5' in cpu:\n",
    "        return 'AMD Ryzen 5'\n",
    "    elif 'ryzen 7' in cpu:\n",
    "        return 'AMD Ryzen 7'\n",
    "    elif 'ryzen 9' in cpu:\n",
    "        return 'AMD Ryzen 9'\n",
    "    elif ('xeon' in cpu or 'e5' in cpu):\n",
    "        return 'Intel Xeon'\n",
    "    elif 'pentium' in cpu:\n",
    "        return 'Intel Pentium'\n",
    "    elif ('celeron' in cpu or 'n5095' in cpu or 'j' in cpu):\n",
    "        return 'Intel Celeron'\n",
    "    elif 'athlon' in cpu:\n",
    "        return 'AMD Athlon'\n",
    "    elif 'arm' in cpu:\n",
    "        return 'ARM Cortex'\n",
    "    elif 'gemini' in cpu:\n",
    "        return 'Intel Gemini Lake'\n",
    "    elif 'apollo' in cpu:\n",
    "        return 'Intel Apollo Lake'\n",
    "    elif ('quad' in cpu or '9400' in cpu):\n",
    "        return 'Intel Quad'\n",
    "    elif 'e1' in cpu:\n",
    "        return 'AMD E1'\n",
    "    elif 'a10' in cpu:\n",
    "        return 'AMD A10'\n",
    "    elif 'a6' in cpu:\n",
    "        return 'AMD A6'\n",
    "    elif ('atom' in cpu or 'z8350' in cpu or 'z8500' in cpu):\n",
    "        return 'Intel Atom'\n",
    "    elif 'fx' in cpu:\n",
    "        return 'AMD FX'\n",
    "    elif 'intel' in cpu:\n",
    "        return 'other Intel cpu'\n",
    "    else:\n",
    "        return 'other'\n",
    "\n",
    "df_copy['cpu_category'] = df_copy['cpu_type_clean'].apply(categorize_cpu)\n",
    "\n",
    "print(df_copy['cpu_category'].value_counts())"
   ]
  },
  {
   "cell_type": "code",
   "execution_count": 48,
   "id": "3c72ef04-dbd6-4369-baee-8e9a8efad69e",
   "metadata": {},
   "outputs": [
    {
     "name": "stdout",
     "output_type": "stream",
     "text": [
      "<class 'pandas.core.frame.DataFrame'>\n",
      "RangeIndex: 1826 entries, 0 to 1825\n",
      "Data columns (total 17 columns):\n",
      " #   Column                Non-Null Count  Dtype  \n",
      "---  ------                --------------  -----  \n",
      " 0   product_id            1826 non-null   int64  \n",
      " 1   title                 1826 non-null   object \n",
      " 2   price                 1826 non-null   object \n",
      " 3   feedbacks             1826 non-null   object \n",
      " 4   seller                1826 non-null   object \n",
      " 5   seller_rating         1826 non-null   float64\n",
      " 6   ram                   1826 non-null   object \n",
      " 7   hdd                   1826 non-null   object \n",
      " 8   gpu                   1826 non-null   object \n",
      " 9   os                    1826 non-null   object \n",
      " 10  manufacturer_country  1826 non-null   object \n",
      " 11  sales_num             1826 non-null   int32  \n",
      " 12  guaranty_period       1826 non-null   object \n",
      " 13  cpu_type              1826 non-null   object \n",
      " 14  cpu_cores             1826 non-null   object \n",
      " 15  cpu_type_clean        1826 non-null   object \n",
      " 16  cpu_category          1826 non-null   object \n",
      "dtypes: float64(1), int32(1), int64(1), object(14)\n",
      "memory usage: 235.5+ KB\n"
     ]
    }
   ],
   "source": [
    "df_copy.info()"
   ]
  },
  {
   "cell_type": "code",
   "execution_count": 49,
   "id": "e47bed0c-18f5-418c-b12e-8595569bbbab",
   "metadata": {},
   "outputs": [],
   "source": [
    "df_copy.drop(columns = ['cpu_type', 'cpu_type_clean'], inplace=True)"
   ]
  },
  {
   "cell_type": "code",
   "execution_count": 50,
   "id": "c8707e0f-4566-4405-a51b-d61e113cced5",
   "metadata": {},
   "outputs": [
    {
     "data": {
      "text/plain": [
       "cpu_cores\n",
       "6               687\n",
       "4               456\n",
       "2               145\n",
       "4 ядра          136\n",
       "10              100\n",
       "12               72\n",
       "8 ядер           66\n",
       "24 ядра          60\n",
       "8                37\n",
       "не заполнено     37\n",
       "16               15\n",
       "20                7\n",
       "14                4\n",
       "6 ядер            2\n",
       "2 шт              2\n",
       "Name: count, dtype: int64"
      ]
     },
     "execution_count": 50,
     "metadata": {},
     "output_type": "execute_result"
    }
   ],
   "source": [
    "df_copy['cpu_cores'].value_counts()"
   ]
  },
  {
   "cell_type": "code",
   "execution_count": 51,
   "id": "44f258d1-aa3b-4165-947d-eff5dbcbfa95",
   "metadata": {},
   "outputs": [],
   "source": [
    "# Функция для извлечения числа ядер\n",
    "def extract_cores(value):\n",
    "    if pd.isna(value) or str(value).strip().lower() == 'не заполнено':\n",
    "        return np.nan\n",
    "    \n",
    "    # Извлекаем первое число из строки\n",
    "    numbers = [int(s) for s in str(value).split() if s.isdigit()]\n",
    "    return numbers[0] if numbers else np.nan\n",
    "\n",
    "# Применяем функцию\n",
    "df_copy['cpu_cores'] = df_copy['cpu_cores'].apply(extract_cores)\n",
    "\n",
    "# Удаляем строки с NaN (включая \"не заполнено\")\n",
    "df_copy.dropna(subset=['cpu_cores'], inplace=True)\n",
    "\n",
    "# Преобразуем в целые числа\n",
    "df_copy['cpu_cores'] = df_copy['cpu_cores'].astype(int)"
   ]
  },
  {
   "cell_type": "code",
   "execution_count": 52,
   "id": "7bd6b497-7561-4fae-b4a7-b27393189f64",
   "metadata": {},
   "outputs": [
    {
     "data": {
      "text/plain": [
       "cpu_cores\n",
       "6     689\n",
       "4     592\n",
       "2     147\n",
       "8     103\n",
       "10    100\n",
       "12     72\n",
       "24     60\n",
       "16     15\n",
       "20      7\n",
       "14      4\n",
       "Name: count, dtype: int64"
      ]
     },
     "execution_count": 52,
     "metadata": {},
     "output_type": "execute_result"
    }
   ],
   "source": [
    "df_copy['cpu_cores'].value_counts()"
   ]
  },
  {
   "cell_type": "markdown",
   "id": "afe9950c-c031-4192-8a97-9613506c768c",
   "metadata": {},
   "source": [
    "#### 3.5.2. 'ram'"
   ]
  },
  {
   "cell_type": "code",
   "execution_count": 53,
   "id": "67fa068c-e051-4a6a-86fe-27805312c53d",
   "metadata": {},
   "outputs": [
    {
     "data": {
      "text/plain": [
       "\"{'Тип оперативной памяти': 'DDR 4', 'Объем оперативной памяти (Гб)': '8'}\""
      ]
     },
     "execution_count": 53,
     "metadata": {},
     "output_type": "execute_result"
    }
   ],
   "source": [
    "df_copy['ram'][0]"
   ]
  },
  {
   "cell_type": "code",
   "execution_count": 54,
   "id": "4d93cdc4-214a-47e0-9d95-9214c1d56dbf",
   "metadata": {},
   "outputs": [
    {
     "name": "stdout",
     "output_type": "stream",
     "text": [
      "Успешно обработано записей: 1786\n"
     ]
    }
   ],
   "source": [
    "# Функция для безопасного извлечения данных\n",
    "def parse_ram(ram_str):\n",
    "    try:\n",
    "        # Пробуем заменить кавычки и распарсить JSON\n",
    "        data = json.loads(ram_str.replace(\"'\", '\"'))\n",
    "        return (\n",
    "            data.get('Тип оперативной памяти'),\n",
    "            data.get('Объем оперативной памяти (Гб)')\n",
    "        )\n",
    "    except:\n",
    "        return (None, None)\n",
    "\n",
    "# Применяем функцию и создаем колонки\n",
    "df_copy[['ram_type', 'ram_storage']] = pd.DataFrame(\n",
    "    df_copy['ram'].apply(parse_ram).tolist(),\n",
    "    index=df_copy.index\n",
    ")\n",
    "\n",
    "# Удаляем строки, где не распарсились оба значения\n",
    "df_copy.dropna(subset=['ram_type', 'ram_storage'], how='all', inplace=True)\n",
    "\n",
    "# Удаляем исходную колонку\n",
    "df_copy.drop(columns=['ram'], inplace=True)\n",
    "\n",
    "# Проверяем результат\n",
    "print(\"Успешно обработано записей:\", len(df_copy))"
   ]
  },
  {
   "cell_type": "code",
   "execution_count": 55,
   "id": "4eafeba3-b05c-4ca8-9d0a-fac36f018261",
   "metadata": {},
   "outputs": [
    {
     "data": {
      "text/plain": [
       "ram_storage\n",
       "16       468\n",
       "16 ГБ    329\n",
       "32       231\n",
       "8        177\n",
       "8 ГБ     168\n",
       "32 ГБ     99\n",
       "4 ГБ      83\n",
       "64        63\n",
       "16 Gb     60\n",
       "16 гб     41\n",
       "4         24\n",
       "32 гб     13\n",
       "8 гб       9\n",
       "2          6\n",
       "8 GB       3\n",
       "6 ГБ       3\n",
       "16ГБ       2\n",
       "4 гб       2\n",
       "64 ГБ      2\n",
       "8Гб        1\n",
       "4 GB       1\n",
       "1          1\n",
       "Name: count, dtype: int64"
      ]
     },
     "execution_count": 55,
     "metadata": {},
     "output_type": "execute_result"
    }
   ],
   "source": [
    "df_copy['ram_storage'].value_counts()"
   ]
  },
  {
   "cell_type": "code",
   "execution_count": 56,
   "id": "d54ff80b-5b05-48d0-9f89-94b36f9dc4cd",
   "metadata": {},
   "outputs": [
    {
     "data": {
      "text/plain": [
       "ram_type\n",
       "DDR 4           1389\n",
       "DDR 3            308\n",
       "не заполнено      71\n",
       "DDR 5              9\n",
       "4Gb                2\n",
       "16                 2\n",
       "DDR                1\n",
       "SODDIM             1\n",
       "16 Гб              1\n",
       "4GB                1\n",
       "RAM 16 ГБ          1\n",
       "Name: count, dtype: int64"
      ]
     },
     "execution_count": 56,
     "metadata": {},
     "output_type": "execute_result"
    }
   ],
   "source": [
    "df_copy['ram_type'].value_counts()"
   ]
  },
  {
   "cell_type": "code",
   "execution_count": 57,
   "id": "74f81437-ca5a-48e9-a589-5812c7035492",
   "metadata": {},
   "outputs": [
    {
     "name": "stdout",
     "output_type": "stream",
     "text": [
      "Уникальные значения после очистки:\n",
      "ram_type\n",
      "DDR 4     1389\n",
      "DDR 3      308\n",
      "DDR 5        9\n",
      "SODIMM       1\n",
      "Name: count, dtype: int64\n"
     ]
    }
   ],
   "source": [
    "# Функция для стандартизации типа RAM\n",
    "def clean_ram_type(ram):\n",
    "    ram = str(ram).strip().upper()  # Приводим к верхнему регистру и удаляем пробелы\n",
    "    \n",
    "    # Оставляем только корректные значения DDR и SODDIM\n",
    "    if ram.startswith('DDR'):\n",
    "        # Извлекаем номер поколения (3, 4, 5)\n",
    "        ddr_version = ''.join([c for c in ram if c.isdigit()])\n",
    "        return f'DDR {ddr_version}' if ddr_version else None\n",
    "    elif ram == 'SODDIM':\n",
    "        return 'SODIMM'  # Стандартизируем написание\n",
    "    else:\n",
    "        return None  # Помечаем на удаление\n",
    "\n",
    "# Применяем функцию\n",
    "df_copy['ram_type'] = df_copy['ram_type'].apply(clean_ram_type)\n",
    "\n",
    "# Удаляем строки с некорректными значениями (None)\n",
    "df_copy.dropna(subset=['ram_type'], inplace=True)\n",
    "\n",
    "# Проверяем результат\n",
    "print(\"Уникальные значения после очистки:\")\n",
    "print(df_copy['ram_type'].value_counts())"
   ]
  },
  {
   "cell_type": "code",
   "execution_count": 58,
   "id": "6aa42d09-a2bb-4d32-870e-0eb7d4806128",
   "metadata": {},
   "outputs": [
    {
     "name": "stdout",
     "output_type": "stream",
     "text": [
      "<class 'pandas.core.frame.DataFrame'>\n",
      "Index: 1707 entries, 0 to 1824\n",
      "Data columns (total 16 columns):\n",
      " #   Column                Non-Null Count  Dtype  \n",
      "---  ------                --------------  -----  \n",
      " 0   product_id            1707 non-null   int64  \n",
      " 1   title                 1707 non-null   object \n",
      " 2   price                 1707 non-null   object \n",
      " 3   feedbacks             1707 non-null   object \n",
      " 4   seller                1707 non-null   object \n",
      " 5   seller_rating         1707 non-null   float64\n",
      " 6   hdd                   1707 non-null   object \n",
      " 7   gpu                   1707 non-null   object \n",
      " 8   os                    1707 non-null   object \n",
      " 9   manufacturer_country  1707 non-null   object \n",
      " 10  sales_num             1707 non-null   int32  \n",
      " 11  guaranty_period       1707 non-null   object \n",
      " 12  cpu_cores             1707 non-null   int32  \n",
      " 13  cpu_category          1707 non-null   object \n",
      " 14  ram_type              1707 non-null   object \n",
      " 15  ram_storage           1707 non-null   object \n",
      "dtypes: float64(1), int32(2), int64(1), object(12)\n",
      "memory usage: 213.4+ KB\n"
     ]
    }
   ],
   "source": [
    "df_copy.info()"
   ]
  },
  {
   "cell_type": "code",
   "execution_count": 59,
   "id": "5f50c301-dafc-4460-96ac-590fbe7f9060",
   "metadata": {},
   "outputs": [],
   "source": [
    "df_copy.reset_index(drop=True, inplace=True)"
   ]
  },
  {
   "cell_type": "code",
   "execution_count": 60,
   "id": "e344fa86-7610-4fdb-bd67-560d1b89478e",
   "metadata": {},
   "outputs": [
    {
     "name": "stdout",
     "output_type": "stream",
     "text": [
      "<class 'pandas.core.frame.DataFrame'>\n",
      "RangeIndex: 1707 entries, 0 to 1706\n",
      "Data columns (total 16 columns):\n",
      " #   Column                Non-Null Count  Dtype  \n",
      "---  ------                --------------  -----  \n",
      " 0   product_id            1707 non-null   int64  \n",
      " 1   title                 1707 non-null   object \n",
      " 2   price                 1707 non-null   object \n",
      " 3   feedbacks             1707 non-null   object \n",
      " 4   seller                1707 non-null   object \n",
      " 5   seller_rating         1707 non-null   float64\n",
      " 6   hdd                   1707 non-null   object \n",
      " 7   gpu                   1707 non-null   object \n",
      " 8   os                    1707 non-null   object \n",
      " 9   manufacturer_country  1707 non-null   object \n",
      " 10  sales_num             1707 non-null   int32  \n",
      " 11  guaranty_period       1707 non-null   object \n",
      " 12  cpu_cores             1707 non-null   int32  \n",
      " 13  cpu_category          1707 non-null   object \n",
      " 14  ram_type              1707 non-null   object \n",
      " 15  ram_storage           1707 non-null   object \n",
      "dtypes: float64(1), int32(2), int64(1), object(12)\n",
      "memory usage: 200.2+ KB\n"
     ]
    }
   ],
   "source": [
    "df_copy.info()"
   ]
  },
  {
   "cell_type": "code",
   "execution_count": 61,
   "id": "d2665db6-d2e4-4adc-b70f-11fdbce124d7",
   "metadata": {},
   "outputs": [
    {
     "name": "stdout",
     "output_type": "stream",
     "text": [
      "ram_storage\n",
      "16    875\n",
      "32    342\n",
      "8     329\n",
      "4      88\n",
      "64     65\n",
      "2       6\n",
      "6       2\n",
      "Name: count, dtype: int64\n"
     ]
    }
   ],
   "source": [
    "def clean_ram_storage(value):\n",
    "    # Преобразуем в строку и очищаем\n",
    "    value = str(value).strip().upper()\n",
    "    \n",
    "    # Удаляем все нецифровые символы (кроме чисел)\n",
    "    digits = re.sub(r'[^\\d]', '', value)\n",
    "    \n",
    "    # Если нет цифр - возвращаем None\n",
    "    if not digits:\n",
    "        return None\n",
    "    \n",
    "    # Преобразуем в число\n",
    "    return int(digits)\n",
    "\n",
    "# Применяем функцию\n",
    "df_copy['ram_storage'] = df_copy['ram_storage'].apply(clean_ram_storage)\n",
    "\n",
    "# Удаляем строки с некорректными значениями\n",
    "df_copy.dropna(subset=['ram_storage'], inplace=True)\n",
    "print(df_copy['ram_storage'].value_counts())"
   ]
  },
  {
   "cell_type": "code",
   "execution_count": 62,
   "id": "4030ddab-10f7-4552-8c44-606b93026724",
   "metadata": {},
   "outputs": [
    {
     "name": "stdout",
     "output_type": "stream",
     "text": [
      "<class 'pandas.core.frame.DataFrame'>\n",
      "RangeIndex: 1707 entries, 0 to 1706\n",
      "Data columns (total 16 columns):\n",
      " #   Column                Non-Null Count  Dtype  \n",
      "---  ------                --------------  -----  \n",
      " 0   product_id            1707 non-null   int64  \n",
      " 1   title                 1707 non-null   object \n",
      " 2   price                 1707 non-null   object \n",
      " 3   feedbacks             1707 non-null   object \n",
      " 4   seller                1707 non-null   object \n",
      " 5   seller_rating         1707 non-null   float64\n",
      " 6   hdd                   1707 non-null   object \n",
      " 7   gpu                   1707 non-null   object \n",
      " 8   os                    1707 non-null   object \n",
      " 9   manufacturer_country  1707 non-null   object \n",
      " 10  sales_num             1707 non-null   int32  \n",
      " 11  guaranty_period       1707 non-null   object \n",
      " 12  cpu_cores             1707 non-null   int32  \n",
      " 13  cpu_category          1707 non-null   object \n",
      " 14  ram_type              1707 non-null   object \n",
      " 15  ram_storage           1707 non-null   int64  \n",
      "dtypes: float64(1), int32(2), int64(2), object(11)\n",
      "memory usage: 200.2+ KB\n"
     ]
    }
   ],
   "source": [
    "df_copy.info()"
   ]
  },
  {
   "cell_type": "markdown",
   "id": "89f74e72-9987-411f-a1b6-a0915c4cf14f",
   "metadata": {},
   "source": [
    "#### 3.5.2. 'hdd'"
   ]
  },
  {
   "cell_type": "code",
   "execution_count": 63,
   "id": "46adbd60-9cab-4b7a-9c78-db3c50fd5988",
   "metadata": {},
   "outputs": [
    {
     "data": {
      "text/plain": [
       "\"{'Объем накопителя HDD': None, 'Объем накопителя SSD': '480 ГБ'}\""
      ]
     },
     "execution_count": 63,
     "metadata": {},
     "output_type": "execute_result"
    }
   ],
   "source": [
    "df_copy['hdd'][0]"
   ]
  },
  {
   "cell_type": "code",
   "execution_count": 64,
   "id": "bc514f9b-df79-499a-a723-8212ad911bfb",
   "metadata": {},
   "outputs": [
    {
     "name": "stdout",
     "output_type": "stream",
     "text": [
      "Осталось записей: 1351\n",
      "\n",
      "Распределение HDD (ГБ):\n",
      "hdd_size_gb\n",
      "0.0        31\n",
      "1.0        13\n",
      "2.0        26\n",
      "64.0        3\n",
      "120.0      18\n",
      "128.0      10\n",
      "240.0     106\n",
      "250.0       3\n",
      "256.0      45\n",
      "480.0     296\n",
      "500.0     120\n",
      "512.0     100\n",
      "960.0     157\n",
      "1000.0    321\n",
      "1024.0     76\n",
      "1500.0      1\n",
      "2000.0     22\n",
      "2048.0      3\n",
      "Name: count, dtype: int64\n",
      "\n",
      "Распределение SSD (ГБ):\n",
      "ssd_size_gb\n",
      "0.0         2\n",
      "1.0        13\n",
      "2.0        26\n",
      "64.0        3\n",
      "120.0      73\n",
      "128.0      11\n",
      "240.0     179\n",
      "250.0       3\n",
      "256.0     102\n",
      "480.0     381\n",
      "500.0      61\n",
      "512.0     216\n",
      "960.0     165\n",
      "1000.0    105\n",
      "1024.0      9\n",
      "1500.0      1\n",
      "2048.0      1\n",
      "Name: count, dtype: int64\n"
     ]
    }
   ],
   "source": [
    "def parse_storage(storage_str):\n",
    "    try:\n",
    "        data = json.loads(storage_str.replace(\"'\", '\"'))\n",
    "        \n",
    "        def clean_size(size):\n",
    "            if pd.isna(size) or size is None:\n",
    "                return 0.0\n",
    "            size = str(size).upper()\n",
    "            if 'ТБ' in size or 'TB' in size:\n",
    "                size = size.replace('ТБ', '').replace('TB', '').strip()\n",
    "                return int(float(size) * 1024)\n",
    "            else:\n",
    "                size = size.replace('ГБ', '').replace('GB', '').strip()\n",
    "                return int(size) if size.isdigit() else 0.0\n",
    "        \n",
    "        hdd = clean_size(data.get('Объем накопителя HDD'))\n",
    "        ssd = clean_size(data.get('Объем накопителя SSD'))\n",
    "        \n",
    "        return hdd, ssd\n",
    "        \n",
    "    except (json.JSONDecodeError, KeyError, TypeError):\n",
    "        # Если JSON-парсинг не сработал, используем регулярные выражения\n",
    "        hdd_match = re.search(r'(\\d+\\.?\\d*)\\s*(?:ГБ|TB|ТБ)', storage_str, re.IGNORECASE)\n",
    "        ssd_match = re.search(r'(\\d+\\.?\\d*)\\s*(?:ГБ|TB|ТБ)', storage_str, re.IGNORECASE)\n",
    "        \n",
    "        hdd = int(float(hdd_match.group(1))) if hdd_match else 0.0\n",
    "        ssd = int(float(ssd_match.group(1))) if ssd_match else 0.0\n",
    "        \n",
    "        return hdd, ssd\n",
    "\n",
    "# Применяем функцию и создаем отдельный DataFrame\n",
    "storage_df = pd.DataFrame(\n",
    "    df_copy['hdd'].apply(parse_storage).tolist(),\n",
    "    columns=['hdd_size_gb', 'ssd_size_gb'],\n",
    "    index=df_copy.index\n",
    ")\n",
    "\n",
    "# Объединяем с исходным DataFrame\n",
    "df_copy = pd.concat([df_copy, storage_df], axis=1)\n",
    "\n",
    "# Удаляем строки, где оба накопителя не указаны\n",
    "df_copy = df_copy.dropna(\n",
    "    subset=['hdd_size_gb', 'ssd_size_gb'],\n",
    "    how='all'\n",
    ")\n",
    "\n",
    "df_copy = df_copy[~((df_copy['hdd_size_gb'] == 0.0) & (df_copy['ssd_size_gb'] == 0.0))]\n",
    "\n",
    "# Удаляем исходный столбец\n",
    "df_copy = df_copy.drop(columns=['hdd'], errors='ignore')\n",
    "\n",
    "# Проверяем результат\n",
    "print(f\"Осталось записей: {len(df_copy)}\")\n",
    "print(\"\\nРаспределение HDD (ГБ):\")\n",
    "print(df_copy['hdd_size_gb'].value_counts().sort_index())\n",
    "print(\"\\nРаспределение SSD (ГБ):\")\n",
    "print(df_copy['ssd_size_gb'].value_counts().sort_index())\n"
   ]
  },
  {
   "cell_type": "code",
   "execution_count": 65,
   "id": "709308c4-c19f-4e87-a513-aa596e995f97",
   "metadata": {},
   "outputs": [
    {
     "data": {
      "text/html": [
       "<div>\n",
       "<style scoped>\n",
       "    .dataframe tbody tr th:only-of-type {\n",
       "        vertical-align: middle;\n",
       "    }\n",
       "\n",
       "    .dataframe tbody tr th {\n",
       "        vertical-align: top;\n",
       "    }\n",
       "\n",
       "    .dataframe thead th {\n",
       "        text-align: right;\n",
       "    }\n",
       "</style>\n",
       "<table border=\"1\" class=\"dataframe\">\n",
       "  <thead>\n",
       "    <tr style=\"text-align: right;\">\n",
       "      <th></th>\n",
       "      <th>product_id</th>\n",
       "      <th>title</th>\n",
       "      <th>price</th>\n",
       "      <th>feedbacks</th>\n",
       "      <th>seller</th>\n",
       "      <th>seller_rating</th>\n",
       "      <th>gpu</th>\n",
       "      <th>os</th>\n",
       "      <th>manufacturer_country</th>\n",
       "      <th>sales_num</th>\n",
       "      <th>guaranty_period</th>\n",
       "      <th>cpu_cores</th>\n",
       "      <th>cpu_category</th>\n",
       "      <th>ram_type</th>\n",
       "      <th>ram_storage</th>\n",
       "      <th>hdd_size_gb</th>\n",
       "      <th>ssd_size_gb</th>\n",
       "    </tr>\n",
       "  </thead>\n",
       "  <tbody>\n",
       "    <tr>\n",
       "      <th>0</th>\n",
       "      <td>19347937</td>\n",
       "      <td>Офисный Компьютер Robotcomp Казначей V1</td>\n",
       "      <td>39237₽</td>\n",
       "      <td>1 отзыв</td>\n",
       "      <td>Robotcomp</td>\n",
       "      <td>4.7</td>\n",
       "      <td>Intel UHD Graphics 630</td>\n",
       "      <td>windows пробная</td>\n",
       "      <td>Россия</td>\n",
       "      <td>10</td>\n",
       "      <td>3y</td>\n",
       "      <td>6</td>\n",
       "      <td>Intel Core i5</td>\n",
       "      <td>DDR 4</td>\n",
       "      <td>8</td>\n",
       "      <td>480.0</td>\n",
       "      <td>480.0</td>\n",
       "    </tr>\n",
       "    <tr>\n",
       "      <th>1</th>\n",
       "      <td>19348951</td>\n",
       "      <td>Игровой Компьютер Robotcomp М16 2.0 V1</td>\n",
       "      <td>76188₽</td>\n",
       "      <td>94 отзыва</td>\n",
       "      <td>Robotcomp</td>\n",
       "      <td>4.7</td>\n",
       "      <td>NVIDIA GeForce GTX 1660</td>\n",
       "      <td>windows пробная</td>\n",
       "      <td>Россия</td>\n",
       "      <td>200</td>\n",
       "      <td>3y</td>\n",
       "      <td>6</td>\n",
       "      <td>Intel Core i5</td>\n",
       "      <td>DDR 4</td>\n",
       "      <td>16</td>\n",
       "      <td>960.0</td>\n",
       "      <td>960.0</td>\n",
       "    </tr>\n",
       "    <tr>\n",
       "      <th>2</th>\n",
       "      <td>19355097</td>\n",
       "      <td>Игровой Компьютер Robotcomp M-16 V1</td>\n",
       "      <td>55625₽</td>\n",
       "      <td>12 отзывов</td>\n",
       "      <td>Robotcomp</td>\n",
       "      <td>4.7</td>\n",
       "      <td>NVIDIA GeForce GTX 1650</td>\n",
       "      <td>windows пробная</td>\n",
       "      <td>Россия</td>\n",
       "      <td>40</td>\n",
       "      <td>3y</td>\n",
       "      <td>6</td>\n",
       "      <td>Intel Core i5</td>\n",
       "      <td>DDR 4</td>\n",
       "      <td>16</td>\n",
       "      <td>480.0</td>\n",
       "      <td>480.0</td>\n",
       "    </tr>\n",
       "    <tr>\n",
       "      <th>3</th>\n",
       "      <td>19358744</td>\n",
       "      <td>Игровой Компьютер Robotcomp Анаконда 2.0 V1</td>\n",
       "      <td>128284₽</td>\n",
       "      <td>4 отзыва</td>\n",
       "      <td>Robotcomp</td>\n",
       "      <td>4.7</td>\n",
       "      <td>NVIDIA GeForce RTX 3070</td>\n",
       "      <td>windows пробная</td>\n",
       "      <td>Россия</td>\n",
       "      <td>5</td>\n",
       "      <td>3y</td>\n",
       "      <td>10</td>\n",
       "      <td>Intel Core i5</td>\n",
       "      <td>DDR 4</td>\n",
       "      <td>16</td>\n",
       "      <td>960.0</td>\n",
       "      <td>960.0</td>\n",
       "    </tr>\n",
       "    <tr>\n",
       "      <th>4</th>\n",
       "      <td>19364495</td>\n",
       "      <td>Игровой Компьютер Robotcomp F22 Raptor V1</td>\n",
       "      <td>48386₽</td>\n",
       "      <td>9 отзывов</td>\n",
       "      <td>Robotcomp</td>\n",
       "      <td>4.7</td>\n",
       "      <td>NVIDIA GeForce GTX 1650</td>\n",
       "      <td>windows пробная</td>\n",
       "      <td>Россия</td>\n",
       "      <td>30</td>\n",
       "      <td>3y</td>\n",
       "      <td>4</td>\n",
       "      <td>Intel Core i3</td>\n",
       "      <td>DDR 4</td>\n",
       "      <td>16</td>\n",
       "      <td>480.0</td>\n",
       "      <td>480.0</td>\n",
       "    </tr>\n",
       "  </tbody>\n",
       "</table>\n",
       "</div>"
      ],
      "text/plain": [
       "   product_id                                        title    price  \\\n",
       "0    19347937      Офисный Компьютер Robotcomp Казначей V1   39237₽   \n",
       "1    19348951       Игровой Компьютер Robotcomp М16 2.0 V1   76188₽   \n",
       "2    19355097          Игровой Компьютер Robotcomp M-16 V1   55625₽   \n",
       "3    19358744  Игровой Компьютер Robotcomp Анаконда 2.0 V1  128284₽   \n",
       "4    19364495    Игровой Компьютер Robotcomp F22 Raptor V1   48386₽   \n",
       "\n",
       "     feedbacks     seller  seller_rating                      gpu  \\\n",
       "0      1 отзыв  Robotcomp            4.7   Intel UHD Graphics 630   \n",
       "1    94 отзыва  Robotcomp            4.7  NVIDIA GeForce GTX 1660   \n",
       "2   12 отзывов  Robotcomp            4.7  NVIDIA GeForce GTX 1650   \n",
       "3     4 отзыва  Robotcomp            4.7  NVIDIA GeForce RTX 3070   \n",
       "4    9 отзывов  Robotcomp            4.7  NVIDIA GeForce GTX 1650   \n",
       "\n",
       "                os manufacturer_country  sales_num guaranty_period  cpu_cores  \\\n",
       "0  windows пробная               Россия         10              3y          6   \n",
       "1  windows пробная               Россия        200              3y          6   \n",
       "2  windows пробная               Россия         40              3y          6   \n",
       "3  windows пробная               Россия          5              3y         10   \n",
       "4  windows пробная               Россия         30              3y          4   \n",
       "\n",
       "    cpu_category ram_type  ram_storage  hdd_size_gb  ssd_size_gb  \n",
       "0  Intel Core i5    DDR 4            8        480.0        480.0  \n",
       "1  Intel Core i5    DDR 4           16        960.0        960.0  \n",
       "2  Intel Core i5    DDR 4           16        480.0        480.0  \n",
       "3  Intel Core i5    DDR 4           16        960.0        960.0  \n",
       "4  Intel Core i3    DDR 4           16        480.0        480.0  "
      ]
     },
     "execution_count": 65,
     "metadata": {},
     "output_type": "execute_result"
    }
   ],
   "source": [
    "df_copy.head()"
   ]
  },
  {
   "cell_type": "code",
   "execution_count": 66,
   "id": "579988bf-f155-4b8a-bb4b-47615d222f5c",
   "metadata": {},
   "outputs": [
    {
     "name": "stdout",
     "output_type": "stream",
     "text": [
      "Финальное количество записей: 1351\n",
      "\n",
      "Распределение HDD (ГБ) после очистки:\n",
      "hdd_size_gb\n",
      "0.0        31\n",
      "1.0        13\n",
      "2.0        26\n",
      "64.0        3\n",
      "120.0      18\n",
      "128.0      10\n",
      "240.0     106\n",
      "250.0       3\n",
      "256.0      45\n",
      "480.0     296\n",
      "500.0     120\n",
      "512.0     100\n",
      "960.0     157\n",
      "1000.0    321\n",
      "1024.0     76\n",
      "1500.0      1\n",
      "2000.0     22\n",
      "2048.0      3\n",
      "Name: count, dtype: int64\n",
      "\n",
      "Распределение SSD (ГБ) после очистки:\n",
      "ssd_size_gb\n",
      "0.0         2\n",
      "1.0        13\n",
      "2.0        26\n",
      "64.0        3\n",
      "120.0      73\n",
      "128.0      11\n",
      "240.0     179\n",
      "250.0       3\n",
      "256.0     102\n",
      "480.0     381\n",
      "500.0      61\n",
      "512.0     216\n",
      "960.0     165\n",
      "1000.0    105\n",
      "1024.0      9\n",
      "1500.0      1\n",
      "2048.0      1\n",
      "Name: count, dtype: int64\n"
     ]
    }
   ],
   "source": [
    "df_copy['hdd_size_gb'] = df_copy['hdd_size_gb'].fillna(0)\n",
    "df_copy['ssd_size_gb'] = df_copy['ssd_size_gb'].fillna(0)\n",
    "print(f\"Финальное количество записей: {len(df_copy)}\")\n",
    "print(\"\\nРаспределение HDD (ГБ) после очистки:\")\n",
    "print(df_copy['hdd_size_gb'].value_counts(dropna=False).sort_index())\n",
    "print(\"\\nРаспределение SSD (ГБ) после очистки:\")\n",
    "print(df_copy['ssd_size_gb'].value_counts(dropna=False).sort_index())"
   ]
  },
  {
   "cell_type": "code",
   "execution_count": 67,
   "id": "c91c1138-f00e-41bc-8ab0-59c516df5bae",
   "metadata": {},
   "outputs": [
    {
     "name": "stdout",
     "output_type": "stream",
     "text": [
      "<class 'pandas.core.frame.DataFrame'>\n",
      "Index: 1351 entries, 0 to 1706\n",
      "Data columns (total 17 columns):\n",
      " #   Column                Non-Null Count  Dtype  \n",
      "---  ------                --------------  -----  \n",
      " 0   product_id            1351 non-null   int64  \n",
      " 1   title                 1351 non-null   object \n",
      " 2   price                 1351 non-null   object \n",
      " 3   feedbacks             1351 non-null   object \n",
      " 4   seller                1351 non-null   object \n",
      " 5   seller_rating         1351 non-null   float64\n",
      " 6   gpu                   1351 non-null   object \n",
      " 7   os                    1351 non-null   object \n",
      " 8   manufacturer_country  1351 non-null   object \n",
      " 9   sales_num             1351 non-null   int32  \n",
      " 10  guaranty_period       1351 non-null   object \n",
      " 11  cpu_cores             1351 non-null   int32  \n",
      " 12  cpu_category          1351 non-null   object \n",
      " 13  ram_type              1351 non-null   object \n",
      " 14  ram_storage           1351 non-null   int64  \n",
      " 15  hdd_size_gb           1351 non-null   float64\n",
      " 16  ssd_size_gb           1351 non-null   float64\n",
      "dtypes: float64(3), int32(2), int64(2), object(10)\n",
      "memory usage: 179.4+ KB\n"
     ]
    }
   ],
   "source": [
    "df_copy.info()"
   ]
  },
  {
   "cell_type": "markdown",
   "id": "b043de3f-ea7a-439f-a7f9-78e307fe4c33",
   "metadata": {},
   "source": [
    "### 3.6. Преобразование данных в необходимый формат"
   ]
  },
  {
   "cell_type": "code",
   "execution_count": 68,
   "id": "33f84285-4824-4cdd-a1e2-e642f6999a69",
   "metadata": {},
   "outputs": [
    {
     "data": {
      "text/html": [
       "<div>\n",
       "<style scoped>\n",
       "    .dataframe tbody tr th:only-of-type {\n",
       "        vertical-align: middle;\n",
       "    }\n",
       "\n",
       "    .dataframe tbody tr th {\n",
       "        vertical-align: top;\n",
       "    }\n",
       "\n",
       "    .dataframe thead th {\n",
       "        text-align: right;\n",
       "    }\n",
       "</style>\n",
       "<table border=\"1\" class=\"dataframe\">\n",
       "  <thead>\n",
       "    <tr style=\"text-align: right;\">\n",
       "      <th></th>\n",
       "      <th>product_id</th>\n",
       "      <th>title</th>\n",
       "      <th>price</th>\n",
       "      <th>feedbacks</th>\n",
       "      <th>seller</th>\n",
       "      <th>seller_rating</th>\n",
       "      <th>gpu</th>\n",
       "      <th>os</th>\n",
       "      <th>manufacturer_country</th>\n",
       "      <th>sales_num</th>\n",
       "      <th>guaranty_period</th>\n",
       "      <th>cpu_cores</th>\n",
       "      <th>cpu_category</th>\n",
       "      <th>ram_type</th>\n",
       "      <th>ram_storage</th>\n",
       "      <th>hdd_size_gb</th>\n",
       "      <th>ssd_size_gb</th>\n",
       "    </tr>\n",
       "  </thead>\n",
       "  <tbody>\n",
       "    <tr>\n",
       "      <th>0</th>\n",
       "      <td>19347937</td>\n",
       "      <td>Офисный Компьютер Robotcomp Казначей V1</td>\n",
       "      <td>39237₽</td>\n",
       "      <td>1 отзыв</td>\n",
       "      <td>Robotcomp</td>\n",
       "      <td>4.7</td>\n",
       "      <td>Intel UHD Graphics 630</td>\n",
       "      <td>windows пробная</td>\n",
       "      <td>Россия</td>\n",
       "      <td>10</td>\n",
       "      <td>3y</td>\n",
       "      <td>6</td>\n",
       "      <td>Intel Core i5</td>\n",
       "      <td>DDR 4</td>\n",
       "      <td>8</td>\n",
       "      <td>480.0</td>\n",
       "      <td>480.0</td>\n",
       "    </tr>\n",
       "    <tr>\n",
       "      <th>1</th>\n",
       "      <td>19348951</td>\n",
       "      <td>Игровой Компьютер Robotcomp М16 2.0 V1</td>\n",
       "      <td>76188₽</td>\n",
       "      <td>94 отзыва</td>\n",
       "      <td>Robotcomp</td>\n",
       "      <td>4.7</td>\n",
       "      <td>NVIDIA GeForce GTX 1660</td>\n",
       "      <td>windows пробная</td>\n",
       "      <td>Россия</td>\n",
       "      <td>200</td>\n",
       "      <td>3y</td>\n",
       "      <td>6</td>\n",
       "      <td>Intel Core i5</td>\n",
       "      <td>DDR 4</td>\n",
       "      <td>16</td>\n",
       "      <td>960.0</td>\n",
       "      <td>960.0</td>\n",
       "    </tr>\n",
       "    <tr>\n",
       "      <th>2</th>\n",
       "      <td>19355097</td>\n",
       "      <td>Игровой Компьютер Robotcomp M-16 V1</td>\n",
       "      <td>55625₽</td>\n",
       "      <td>12 отзывов</td>\n",
       "      <td>Robotcomp</td>\n",
       "      <td>4.7</td>\n",
       "      <td>NVIDIA GeForce GTX 1650</td>\n",
       "      <td>windows пробная</td>\n",
       "      <td>Россия</td>\n",
       "      <td>40</td>\n",
       "      <td>3y</td>\n",
       "      <td>6</td>\n",
       "      <td>Intel Core i5</td>\n",
       "      <td>DDR 4</td>\n",
       "      <td>16</td>\n",
       "      <td>480.0</td>\n",
       "      <td>480.0</td>\n",
       "    </tr>\n",
       "    <tr>\n",
       "      <th>3</th>\n",
       "      <td>19358744</td>\n",
       "      <td>Игровой Компьютер Robotcomp Анаконда 2.0 V1</td>\n",
       "      <td>128284₽</td>\n",
       "      <td>4 отзыва</td>\n",
       "      <td>Robotcomp</td>\n",
       "      <td>4.7</td>\n",
       "      <td>NVIDIA GeForce RTX 3070</td>\n",
       "      <td>windows пробная</td>\n",
       "      <td>Россия</td>\n",
       "      <td>5</td>\n",
       "      <td>3y</td>\n",
       "      <td>10</td>\n",
       "      <td>Intel Core i5</td>\n",
       "      <td>DDR 4</td>\n",
       "      <td>16</td>\n",
       "      <td>960.0</td>\n",
       "      <td>960.0</td>\n",
       "    </tr>\n",
       "    <tr>\n",
       "      <th>4</th>\n",
       "      <td>19364495</td>\n",
       "      <td>Игровой Компьютер Robotcomp F22 Raptor V1</td>\n",
       "      <td>48386₽</td>\n",
       "      <td>9 отзывов</td>\n",
       "      <td>Robotcomp</td>\n",
       "      <td>4.7</td>\n",
       "      <td>NVIDIA GeForce GTX 1650</td>\n",
       "      <td>windows пробная</td>\n",
       "      <td>Россия</td>\n",
       "      <td>30</td>\n",
       "      <td>3y</td>\n",
       "      <td>4</td>\n",
       "      <td>Intel Core i3</td>\n",
       "      <td>DDR 4</td>\n",
       "      <td>16</td>\n",
       "      <td>480.0</td>\n",
       "      <td>480.0</td>\n",
       "    </tr>\n",
       "  </tbody>\n",
       "</table>\n",
       "</div>"
      ],
      "text/plain": [
       "   product_id                                        title    price  \\\n",
       "0    19347937      Офисный Компьютер Robotcomp Казначей V1   39237₽   \n",
       "1    19348951       Игровой Компьютер Robotcomp М16 2.0 V1   76188₽   \n",
       "2    19355097          Игровой Компьютер Robotcomp M-16 V1   55625₽   \n",
       "3    19358744  Игровой Компьютер Robotcomp Анаконда 2.0 V1  128284₽   \n",
       "4    19364495    Игровой Компьютер Robotcomp F22 Raptor V1   48386₽   \n",
       "\n",
       "     feedbacks     seller  seller_rating                      gpu  \\\n",
       "0      1 отзыв  Robotcomp            4.7   Intel UHD Graphics 630   \n",
       "1    94 отзыва  Robotcomp            4.7  NVIDIA GeForce GTX 1660   \n",
       "2   12 отзывов  Robotcomp            4.7  NVIDIA GeForce GTX 1650   \n",
       "3     4 отзыва  Robotcomp            4.7  NVIDIA GeForce RTX 3070   \n",
       "4    9 отзывов  Robotcomp            4.7  NVIDIA GeForce GTX 1650   \n",
       "\n",
       "                os manufacturer_country  sales_num guaranty_period  cpu_cores  \\\n",
       "0  windows пробная               Россия         10              3y          6   \n",
       "1  windows пробная               Россия        200              3y          6   \n",
       "2  windows пробная               Россия         40              3y          6   \n",
       "3  windows пробная               Россия          5              3y         10   \n",
       "4  windows пробная               Россия         30              3y          4   \n",
       "\n",
       "    cpu_category ram_type  ram_storage  hdd_size_gb  ssd_size_gb  \n",
       "0  Intel Core i5    DDR 4            8        480.0        480.0  \n",
       "1  Intel Core i5    DDR 4           16        960.0        960.0  \n",
       "2  Intel Core i5    DDR 4           16        480.0        480.0  \n",
       "3  Intel Core i5    DDR 4           16        960.0        960.0  \n",
       "4  Intel Core i3    DDR 4           16        480.0        480.0  "
      ]
     },
     "execution_count": 68,
     "metadata": {},
     "output_type": "execute_result"
    }
   ],
   "source": [
    "df_copy.head()"
   ]
  },
  {
   "cell_type": "markdown",
   "id": "f5a19090-4d29-4d28-8677-41966b1b547c",
   "metadata": {},
   "source": [
    "#### 3.6.1. 'price'"
   ]
  },
  {
   "cell_type": "code",
   "execution_count": 69,
   "id": "f61a758c-1b1f-405d-8f0b-9591dff68012",
   "metadata": {},
   "outputs": [
    {
     "data": {
      "text/plain": [
       "price\n",
       "69079₽    10\n",
       "88110₽     8\n",
       "87120₽     8\n",
       "70312₽     8\n",
       "74626₽     8\n",
       "          ..\n",
       "54719₽     1\n",
       "47369₽     1\n",
       "30869₽     1\n",
       "58649₽     1\n",
       "21988₽     1\n",
       "Name: count, Length: 902, dtype: int64"
      ]
     },
     "execution_count": 69,
     "metadata": {},
     "output_type": "execute_result"
    }
   ],
   "source": [
    "df_copy['price'].value_counts()"
   ]
  },
  {
   "cell_type": "code",
   "execution_count": 70,
   "id": "6d6d3f3c-bfae-4631-910e-94e8bcd2a8ad",
   "metadata": {},
   "outputs": [
    {
     "name": "stdout",
     "output_type": "stream",
     "text": [
      "0     39237\n",
      "1     76188\n",
      "2     55625\n",
      "3    128284\n",
      "4     48386\n",
      "Name: price_rub, dtype: int32\n"
     ]
    }
   ],
   "source": [
    "# Удаляем символ рубля и преобразуем в число\n",
    "df_copy['price_rub'] = (\n",
    "    df_copy['price']\n",
    "    .str.replace('₽', '', regex=False)  # Удаляем символ рубля\n",
    "    .str.replace(' ', '', regex=False)   # Удаляем возможные пробелы\n",
    "    .astype(int)                         # Преобразуем в целое число\n",
    ")\n",
    "\n",
    "# Удаляем исходный столбец\n",
    "df_copy.drop(columns=['price'], inplace=True)\n",
    "\n",
    "# Проверяем результат\n",
    "print(df_copy['price_rub'].head())"
   ]
  },
  {
   "cell_type": "markdown",
   "id": "b683c1c6-d547-4e73-b1bd-d5fb849bab74",
   "metadata": {},
   "source": [
    "#### 3.6.2. 'feedbacks'"
   ]
  },
  {
   "cell_type": "code",
   "execution_count": 71,
   "id": "8f94dfa9-8b85-49a3-9a63-577b684544a6",
   "metadata": {},
   "outputs": [
    {
     "data": {
      "text/plain": [
       "feedbacks\n",
       "0 отзывов      918\n",
       "1 отзыв        138\n",
       "2 отзыва        56\n",
       "4 отзыва        36\n",
       "3 отзыва        33\n",
       "5 отзывов       15\n",
       "8 отзывов       14\n",
       "7 отзывов       12\n",
       "6 отзывов       11\n",
       "19 отзывов      11\n",
       "13 отзывов       6\n",
       "11 отзывов       6\n",
       "14 отзывов       6\n",
       "9 отзывов        5\n",
       "12 отзывов       5\n",
       "47 отзывов       5\n",
       "21 отзыв         5\n",
       "30 отзывов       5\n",
       "148 отзывов      5\n",
       "17 отзывов       4\n",
       "10 отзывов       4\n",
       "34 отзыва        4\n",
       "18 отзывов       3\n",
       "84 отзыва        3\n",
       "117 отзывов      3\n",
       "94 отзыва        3\n",
       "42 отзыва        3\n",
       "54 отзыва        3\n",
       "128 отзывов      3\n",
       "101 отзыв        3\n",
       "25 отзывов       3\n",
       "189 отзывов      2\n",
       "296 отзывов      2\n",
       "15 отзывов       2\n",
       "16 отзывов       2\n",
       "66 отзывов       2\n",
       "26 отзывов       2\n",
       "38 отзывов       2\n",
       "29 отзывов       2\n",
       "77 отзывов       1\n",
       "22 отзыва        1\n",
       "23 отзыва        1\n",
       "27 отзывов       1\n",
       "Name: count, dtype: int64"
      ]
     },
     "execution_count": 71,
     "metadata": {},
     "output_type": "execute_result"
    }
   ],
   "source": [
    "df_copy['feedbacks'].value_counts()"
   ]
  },
  {
   "cell_type": "code",
   "execution_count": 72,
   "id": "9a708cac-5d41-4bc5-a8ae-7b7e52377025",
   "metadata": {},
   "outputs": [
    {
     "name": "stdout",
     "output_type": "stream",
     "text": [
      "Распределение количества отзывов:\n",
      "feedbacks_count\n",
      "0      918\n",
      "1      138\n",
      "2       56\n",
      "3       33\n",
      "4       36\n",
      "5       15\n",
      "6       11\n",
      "7       12\n",
      "8       14\n",
      "9        5\n",
      "10       4\n",
      "11       6\n",
      "12       5\n",
      "13       6\n",
      "14       6\n",
      "15       2\n",
      "16       2\n",
      "17       4\n",
      "18       3\n",
      "19      11\n",
      "21       5\n",
      "22       1\n",
      "23       1\n",
      "25       3\n",
      "26       2\n",
      "27       1\n",
      "29       2\n",
      "30       5\n",
      "34       4\n",
      "38       2\n",
      "42       3\n",
      "47       5\n",
      "54       3\n",
      "66       2\n",
      "77       1\n",
      "84       3\n",
      "94       3\n",
      "101      3\n",
      "117      3\n",
      "128      3\n",
      "148      5\n",
      "189      2\n",
      "296      2\n",
      "Name: count, dtype: int64\n"
     ]
    }
   ],
   "source": [
    "# Извлекаем число из строки с отзывами\n",
    "df_copy['feedbacks_count'] = (\n",
    "    df_copy['feedbacks']\n",
    "    .str.extract(r'(\\d+)')  # Извлекаем только цифры\n",
    "    .astype(int)            # Преобразуем в целое число\n",
    ")\n",
    "\n",
    "# Удаляем исходный столбец (по желанию)\n",
    "df_copy.drop(columns=['feedbacks'], inplace=True)\n",
    "\n",
    "# Проверяем результат\n",
    "print(\"Распределение количества отзывов:\")\n",
    "print(df_copy['feedbacks_count'].value_counts().sort_index())"
   ]
  },
  {
   "cell_type": "code",
   "execution_count": 73,
   "id": "456c382a-a333-4416-82da-58b793d2f5b2",
   "metadata": {},
   "outputs": [
    {
     "data": {
      "text/html": [
       "<div>\n",
       "<style scoped>\n",
       "    .dataframe tbody tr th:only-of-type {\n",
       "        vertical-align: middle;\n",
       "    }\n",
       "\n",
       "    .dataframe tbody tr th {\n",
       "        vertical-align: top;\n",
       "    }\n",
       "\n",
       "    .dataframe thead th {\n",
       "        text-align: right;\n",
       "    }\n",
       "</style>\n",
       "<table border=\"1\" class=\"dataframe\">\n",
       "  <thead>\n",
       "    <tr style=\"text-align: right;\">\n",
       "      <th></th>\n",
       "      <th>product_id</th>\n",
       "      <th>title</th>\n",
       "      <th>seller</th>\n",
       "      <th>seller_rating</th>\n",
       "      <th>gpu</th>\n",
       "      <th>os</th>\n",
       "      <th>manufacturer_country</th>\n",
       "      <th>sales_num</th>\n",
       "      <th>guaranty_period</th>\n",
       "      <th>cpu_cores</th>\n",
       "      <th>cpu_category</th>\n",
       "      <th>ram_type</th>\n",
       "      <th>ram_storage</th>\n",
       "      <th>hdd_size_gb</th>\n",
       "      <th>ssd_size_gb</th>\n",
       "      <th>price_rub</th>\n",
       "      <th>feedbacks_count</th>\n",
       "    </tr>\n",
       "  </thead>\n",
       "  <tbody>\n",
       "    <tr>\n",
       "      <th>0</th>\n",
       "      <td>19347937</td>\n",
       "      <td>Офисный Компьютер Robotcomp Казначей V1</td>\n",
       "      <td>Robotcomp</td>\n",
       "      <td>4.7</td>\n",
       "      <td>Intel UHD Graphics 630</td>\n",
       "      <td>windows пробная</td>\n",
       "      <td>Россия</td>\n",
       "      <td>10</td>\n",
       "      <td>3y</td>\n",
       "      <td>6</td>\n",
       "      <td>Intel Core i5</td>\n",
       "      <td>DDR 4</td>\n",
       "      <td>8</td>\n",
       "      <td>480.0</td>\n",
       "      <td>480.0</td>\n",
       "      <td>39237</td>\n",
       "      <td>1</td>\n",
       "    </tr>\n",
       "    <tr>\n",
       "      <th>1</th>\n",
       "      <td>19348951</td>\n",
       "      <td>Игровой Компьютер Robotcomp М16 2.0 V1</td>\n",
       "      <td>Robotcomp</td>\n",
       "      <td>4.7</td>\n",
       "      <td>NVIDIA GeForce GTX 1660</td>\n",
       "      <td>windows пробная</td>\n",
       "      <td>Россия</td>\n",
       "      <td>200</td>\n",
       "      <td>3y</td>\n",
       "      <td>6</td>\n",
       "      <td>Intel Core i5</td>\n",
       "      <td>DDR 4</td>\n",
       "      <td>16</td>\n",
       "      <td>960.0</td>\n",
       "      <td>960.0</td>\n",
       "      <td>76188</td>\n",
       "      <td>94</td>\n",
       "    </tr>\n",
       "    <tr>\n",
       "      <th>2</th>\n",
       "      <td>19355097</td>\n",
       "      <td>Игровой Компьютер Robotcomp M-16 V1</td>\n",
       "      <td>Robotcomp</td>\n",
       "      <td>4.7</td>\n",
       "      <td>NVIDIA GeForce GTX 1650</td>\n",
       "      <td>windows пробная</td>\n",
       "      <td>Россия</td>\n",
       "      <td>40</td>\n",
       "      <td>3y</td>\n",
       "      <td>6</td>\n",
       "      <td>Intel Core i5</td>\n",
       "      <td>DDR 4</td>\n",
       "      <td>16</td>\n",
       "      <td>480.0</td>\n",
       "      <td>480.0</td>\n",
       "      <td>55625</td>\n",
       "      <td>12</td>\n",
       "    </tr>\n",
       "    <tr>\n",
       "      <th>3</th>\n",
       "      <td>19358744</td>\n",
       "      <td>Игровой Компьютер Robotcomp Анаконда 2.0 V1</td>\n",
       "      <td>Robotcomp</td>\n",
       "      <td>4.7</td>\n",
       "      <td>NVIDIA GeForce RTX 3070</td>\n",
       "      <td>windows пробная</td>\n",
       "      <td>Россия</td>\n",
       "      <td>5</td>\n",
       "      <td>3y</td>\n",
       "      <td>10</td>\n",
       "      <td>Intel Core i5</td>\n",
       "      <td>DDR 4</td>\n",
       "      <td>16</td>\n",
       "      <td>960.0</td>\n",
       "      <td>960.0</td>\n",
       "      <td>128284</td>\n",
       "      <td>4</td>\n",
       "    </tr>\n",
       "    <tr>\n",
       "      <th>4</th>\n",
       "      <td>19364495</td>\n",
       "      <td>Игровой Компьютер Robotcomp F22 Raptor V1</td>\n",
       "      <td>Robotcomp</td>\n",
       "      <td>4.7</td>\n",
       "      <td>NVIDIA GeForce GTX 1650</td>\n",
       "      <td>windows пробная</td>\n",
       "      <td>Россия</td>\n",
       "      <td>30</td>\n",
       "      <td>3y</td>\n",
       "      <td>4</td>\n",
       "      <td>Intel Core i3</td>\n",
       "      <td>DDR 4</td>\n",
       "      <td>16</td>\n",
       "      <td>480.0</td>\n",
       "      <td>480.0</td>\n",
       "      <td>48386</td>\n",
       "      <td>9</td>\n",
       "    </tr>\n",
       "  </tbody>\n",
       "</table>\n",
       "</div>"
      ],
      "text/plain": [
       "   product_id                                        title     seller  \\\n",
       "0    19347937      Офисный Компьютер Robotcomp Казначей V1  Robotcomp   \n",
       "1    19348951       Игровой Компьютер Robotcomp М16 2.0 V1  Robotcomp   \n",
       "2    19355097          Игровой Компьютер Robotcomp M-16 V1  Robotcomp   \n",
       "3    19358744  Игровой Компьютер Robotcomp Анаконда 2.0 V1  Robotcomp   \n",
       "4    19364495    Игровой Компьютер Robotcomp F22 Raptor V1  Robotcomp   \n",
       "\n",
       "   seller_rating                      gpu               os  \\\n",
       "0            4.7   Intel UHD Graphics 630  windows пробная   \n",
       "1            4.7  NVIDIA GeForce GTX 1660  windows пробная   \n",
       "2            4.7  NVIDIA GeForce GTX 1650  windows пробная   \n",
       "3            4.7  NVIDIA GeForce RTX 3070  windows пробная   \n",
       "4            4.7  NVIDIA GeForce GTX 1650  windows пробная   \n",
       "\n",
       "  manufacturer_country  sales_num guaranty_period  cpu_cores   cpu_category  \\\n",
       "0               Россия         10              3y          6  Intel Core i5   \n",
       "1               Россия        200              3y          6  Intel Core i5   \n",
       "2               Россия         40              3y          6  Intel Core i5   \n",
       "3               Россия          5              3y         10  Intel Core i5   \n",
       "4               Россия         30              3y          4  Intel Core i3   \n",
       "\n",
       "  ram_type  ram_storage  hdd_size_gb  ssd_size_gb  price_rub  feedbacks_count  \n",
       "0    DDR 4            8        480.0        480.0      39237                1  \n",
       "1    DDR 4           16        960.0        960.0      76188               94  \n",
       "2    DDR 4           16        480.0        480.0      55625               12  \n",
       "3    DDR 4           16        960.0        960.0     128284                4  \n",
       "4    DDR 4           16        480.0        480.0      48386                9  "
      ]
     },
     "execution_count": 73,
     "metadata": {},
     "output_type": "execute_result"
    }
   ],
   "source": [
    "df_copy.head()"
   ]
  },
  {
   "cell_type": "markdown",
   "id": "17eb4c93-fe8f-4262-98f1-931f261a8f2b",
   "metadata": {},
   "source": [
    "#### 3.6.3. 'os'"
   ]
  },
  {
   "cell_type": "code",
   "execution_count": 74,
   "id": "a485d06e-5079-485b-8bfb-0dffc22fd6d2",
   "metadata": {},
   "outputs": [
    {
     "data": {
      "text/plain": [
       "array(['windows пробная', 'Windows 10 Pro', 'Windows 10 Home',\n",
       "       'Windows 10', 'Windows 10 (Trial version)', 'Windows 11',\n",
       "       'отсутствует', 'Windows 11 Pro (Trial)', 'Windows 7/8/10, LINUX',\n",
       "       'Windows 11 Pro', 'Windows 10 Home пробная', 'Free DOS',\n",
       "       'Windows пробная версия', 'Windows 10 пробная',\n",
       "       'Windows 10 Pro Trial', 'Windows 11 Home', 'windows 10',\n",
       "       'Microsoft Windows 11', 'windows7/8/10, Linux, Ubuntu', 'DOS',\n",
       "       'Windows', 'windows 10 trial', 'Windows 10 pro Trial',\n",
       "       'WINDOWS 10', 'Без OC'], dtype=object)"
      ]
     },
     "execution_count": 74,
     "metadata": {},
     "output_type": "execute_result"
    }
   ],
   "source": [
    "df_copy['os'].unique()"
   ]
  },
  {
   "cell_type": "code",
   "execution_count": 75,
   "id": "f0d8315c-ca9d-45d0-ae39-33ab68ced30d",
   "metadata": {},
   "outputs": [
    {
     "name": "stdout",
     "output_type": "stream",
     "text": [
      "Стандартизированные значения ОС:\n",
      "os_ver\n",
      "Windows 10 Pro                  785\n",
      "windows (Trial)                 214\n",
      "Windows 10                      167\n",
      "Windows 10 Pro (Trial)           67\n",
      "FreeDOS                          37\n",
      "Windows 10 (Trial)               27\n",
      "No OS                            27\n",
      "Windows 11                       10\n",
      "Windows 11 Pro                    7\n",
      "Windows 11 Pro (Trial)            2\n",
      "Windows 7/8/10, LINUX             1\n",
      "Windows (Trial) версия            1\n",
      "windows7/8/10, Linux, Ubuntu      1\n",
      "DOS                               1\n",
      "Без OC                            1\n",
      "Name: count, dtype: int64\n",
      "\n",
      "Всего записей осталось: 1348\n"
     ]
    }
   ],
   "source": [
    "def standardize_os(os_str):\n",
    "    if pd.isna(os_str) or str(os_str).lower() in ['отсутствует', 'none', 'нет']:\n",
    "        return 'No OS'\n",
    "    \n",
    "    os_str = str(os_str).strip()\n",
    "    \n",
    "    # Приводим к единому формату пробных версий\n",
    "    os_str = (os_str.replace('(Trial version)', '(Trial)')\n",
    "              .replace('Trial version', '(Trial)')\n",
    "              .replace('пробная', '(Trial)')\n",
    "              .replace('Pro Trial', 'Pro (Trial)')\n",
    "              .replace('ProTrial', 'Pro (Trial)'))\n",
    "    \n",
    "    # Стандартизируем названия\n",
    "    os_lower = os_str.lower()\n",
    "    if 'windows 11 pro' in os_lower:\n",
    "        return 'Windows 11 Pro' + (' (Trial)' if '(trial)' in os_lower else '')\n",
    "    elif 'windows 11' in os_lower:\n",
    "        return 'Windows 11' + (' (Trial)' if '(trial)' in os_lower else '')\n",
    "    elif 'windows 10 pro' in os_lower:\n",
    "        return 'Windows 10 Pro' + (' (Trial)' if '(trial)' in os_lower else '')\n",
    "    elif 'windows 10' in os_lower:\n",
    "        return 'Windows 10' + (' (Trial)' if '(trial)' in os_lower else '')\n",
    "    elif 'free dos' in os_lower:\n",
    "        return 'FreeDOS'\n",
    "    elif 'windows' in os_lower and len(os_str.split()) == 1:\n",
    "        return None  # Помечаем на удаление\n",
    "    else:\n",
    "        return os_str\n",
    "\n",
    "# Применяем функцию\n",
    "df_copy['os_ver'] = df_copy['os'].apply(standardize_os)\n",
    "\n",
    "# Удаляем строки с простым \"Windows\" и исходный столбец\n",
    "df_copy = df_copy[df_copy['os_ver'].notna()]\n",
    "df_copy.drop(columns=['os'], inplace=True, errors='ignore')\n",
    "\n",
    "# Проверяем результат\n",
    "print(\"Стандартизированные значения ОС:\")\n",
    "print(df_copy['os_ver'].value_counts())\n",
    "print(f\"\\nВсего записей осталось: {len(df_copy)}\")"
   ]
  },
  {
   "cell_type": "code",
   "execution_count": 76,
   "id": "0bf6c0d4-6053-4dd5-acbb-0f10d93eebe6",
   "metadata": {},
   "outputs": [
    {
     "name": "stdout",
     "output_type": "stream",
     "text": [
      "<class 'pandas.core.frame.DataFrame'>\n",
      "Index: 1348 entries, 0 to 1706\n",
      "Data columns (total 17 columns):\n",
      " #   Column                Non-Null Count  Dtype  \n",
      "---  ------                --------------  -----  \n",
      " 0   product_id            1348 non-null   int64  \n",
      " 1   title                 1348 non-null   object \n",
      " 2   seller                1348 non-null   object \n",
      " 3   seller_rating         1348 non-null   float64\n",
      " 4   gpu                   1348 non-null   object \n",
      " 5   manufacturer_country  1348 non-null   object \n",
      " 6   sales_num             1348 non-null   int32  \n",
      " 7   guaranty_period       1348 non-null   object \n",
      " 8   cpu_cores             1348 non-null   int32  \n",
      " 9   cpu_category          1348 non-null   object \n",
      " 10  ram_type              1348 non-null   object \n",
      " 11  ram_storage           1348 non-null   int64  \n",
      " 12  hdd_size_gb           1348 non-null   float64\n",
      " 13  ssd_size_gb           1348 non-null   float64\n",
      " 14  price_rub             1348 non-null   int32  \n",
      " 15  feedbacks_count       1348 non-null   int32  \n",
      " 16  os_ver                1348 non-null   object \n",
      "dtypes: float64(3), int32(4), int64(2), object(8)\n",
      "memory usage: 168.5+ KB\n"
     ]
    }
   ],
   "source": [
    "df_copy.info()"
   ]
  },
  {
   "cell_type": "code",
   "execution_count": 77,
   "id": "0287a286-dc6b-4643-89b1-e9bcd0490672",
   "metadata": {},
   "outputs": [
    {
     "data": {
      "text/html": [
       "<div>\n",
       "<style scoped>\n",
       "    .dataframe tbody tr th:only-of-type {\n",
       "        vertical-align: middle;\n",
       "    }\n",
       "\n",
       "    .dataframe tbody tr th {\n",
       "        vertical-align: top;\n",
       "    }\n",
       "\n",
       "    .dataframe thead th {\n",
       "        text-align: right;\n",
       "    }\n",
       "</style>\n",
       "<table border=\"1\" class=\"dataframe\">\n",
       "  <thead>\n",
       "    <tr style=\"text-align: right;\">\n",
       "      <th></th>\n",
       "      <th>product_id</th>\n",
       "      <th>title</th>\n",
       "      <th>seller</th>\n",
       "      <th>seller_rating</th>\n",
       "      <th>gpu</th>\n",
       "      <th>manufacturer_country</th>\n",
       "      <th>sales_num</th>\n",
       "      <th>guaranty_period</th>\n",
       "      <th>cpu_cores</th>\n",
       "      <th>cpu_category</th>\n",
       "      <th>ram_type</th>\n",
       "      <th>ram_storage</th>\n",
       "      <th>hdd_size_gb</th>\n",
       "      <th>ssd_size_gb</th>\n",
       "      <th>price_rub</th>\n",
       "      <th>feedbacks_count</th>\n",
       "      <th>os_ver</th>\n",
       "    </tr>\n",
       "  </thead>\n",
       "  <tbody>\n",
       "    <tr>\n",
       "      <th>0</th>\n",
       "      <td>19347937</td>\n",
       "      <td>Офисный Компьютер Robotcomp Казначей V1</td>\n",
       "      <td>Robotcomp</td>\n",
       "      <td>4.7</td>\n",
       "      <td>Intel UHD Graphics 630</td>\n",
       "      <td>Россия</td>\n",
       "      <td>10</td>\n",
       "      <td>3y</td>\n",
       "      <td>6</td>\n",
       "      <td>Intel Core i5</td>\n",
       "      <td>DDR 4</td>\n",
       "      <td>8</td>\n",
       "      <td>480.0</td>\n",
       "      <td>480.0</td>\n",
       "      <td>39237</td>\n",
       "      <td>1</td>\n",
       "      <td>windows (Trial)</td>\n",
       "    </tr>\n",
       "    <tr>\n",
       "      <th>1</th>\n",
       "      <td>19348951</td>\n",
       "      <td>Игровой Компьютер Robotcomp М16 2.0 V1</td>\n",
       "      <td>Robotcomp</td>\n",
       "      <td>4.7</td>\n",
       "      <td>NVIDIA GeForce GTX 1660</td>\n",
       "      <td>Россия</td>\n",
       "      <td>200</td>\n",
       "      <td>3y</td>\n",
       "      <td>6</td>\n",
       "      <td>Intel Core i5</td>\n",
       "      <td>DDR 4</td>\n",
       "      <td>16</td>\n",
       "      <td>960.0</td>\n",
       "      <td>960.0</td>\n",
       "      <td>76188</td>\n",
       "      <td>94</td>\n",
       "      <td>windows (Trial)</td>\n",
       "    </tr>\n",
       "    <tr>\n",
       "      <th>2</th>\n",
       "      <td>19355097</td>\n",
       "      <td>Игровой Компьютер Robotcomp M-16 V1</td>\n",
       "      <td>Robotcomp</td>\n",
       "      <td>4.7</td>\n",
       "      <td>NVIDIA GeForce GTX 1650</td>\n",
       "      <td>Россия</td>\n",
       "      <td>40</td>\n",
       "      <td>3y</td>\n",
       "      <td>6</td>\n",
       "      <td>Intel Core i5</td>\n",
       "      <td>DDR 4</td>\n",
       "      <td>16</td>\n",
       "      <td>480.0</td>\n",
       "      <td>480.0</td>\n",
       "      <td>55625</td>\n",
       "      <td>12</td>\n",
       "      <td>windows (Trial)</td>\n",
       "    </tr>\n",
       "    <tr>\n",
       "      <th>3</th>\n",
       "      <td>19358744</td>\n",
       "      <td>Игровой Компьютер Robotcomp Анаконда 2.0 V1</td>\n",
       "      <td>Robotcomp</td>\n",
       "      <td>4.7</td>\n",
       "      <td>NVIDIA GeForce RTX 3070</td>\n",
       "      <td>Россия</td>\n",
       "      <td>5</td>\n",
       "      <td>3y</td>\n",
       "      <td>10</td>\n",
       "      <td>Intel Core i5</td>\n",
       "      <td>DDR 4</td>\n",
       "      <td>16</td>\n",
       "      <td>960.0</td>\n",
       "      <td>960.0</td>\n",
       "      <td>128284</td>\n",
       "      <td>4</td>\n",
       "      <td>windows (Trial)</td>\n",
       "    </tr>\n",
       "    <tr>\n",
       "      <th>4</th>\n",
       "      <td>19364495</td>\n",
       "      <td>Игровой Компьютер Robotcomp F22 Raptor V1</td>\n",
       "      <td>Robotcomp</td>\n",
       "      <td>4.7</td>\n",
       "      <td>NVIDIA GeForce GTX 1650</td>\n",
       "      <td>Россия</td>\n",
       "      <td>30</td>\n",
       "      <td>3y</td>\n",
       "      <td>4</td>\n",
       "      <td>Intel Core i3</td>\n",
       "      <td>DDR 4</td>\n",
       "      <td>16</td>\n",
       "      <td>480.0</td>\n",
       "      <td>480.0</td>\n",
       "      <td>48386</td>\n",
       "      <td>9</td>\n",
       "      <td>windows (Trial)</td>\n",
       "    </tr>\n",
       "  </tbody>\n",
       "</table>\n",
       "</div>"
      ],
      "text/plain": [
       "   product_id                                        title     seller  \\\n",
       "0    19347937      Офисный Компьютер Robotcomp Казначей V1  Robotcomp   \n",
       "1    19348951       Игровой Компьютер Robotcomp М16 2.0 V1  Robotcomp   \n",
       "2    19355097          Игровой Компьютер Robotcomp M-16 V1  Robotcomp   \n",
       "3    19358744  Игровой Компьютер Robotcomp Анаконда 2.0 V1  Robotcomp   \n",
       "4    19364495    Игровой Компьютер Robotcomp F22 Raptor V1  Robotcomp   \n",
       "\n",
       "   seller_rating                      gpu manufacturer_country  sales_num  \\\n",
       "0            4.7   Intel UHD Graphics 630               Россия         10   \n",
       "1            4.7  NVIDIA GeForce GTX 1660               Россия        200   \n",
       "2            4.7  NVIDIA GeForce GTX 1650               Россия         40   \n",
       "3            4.7  NVIDIA GeForce RTX 3070               Россия          5   \n",
       "4            4.7  NVIDIA GeForce GTX 1650               Россия         30   \n",
       "\n",
       "  guaranty_period  cpu_cores   cpu_category ram_type  ram_storage  \\\n",
       "0              3y          6  Intel Core i5    DDR 4            8   \n",
       "1              3y          6  Intel Core i5    DDR 4           16   \n",
       "2              3y          6  Intel Core i5    DDR 4           16   \n",
       "3              3y         10  Intel Core i5    DDR 4           16   \n",
       "4              3y          4  Intel Core i3    DDR 4           16   \n",
       "\n",
       "   hdd_size_gb  ssd_size_gb  price_rub  feedbacks_count           os_ver  \n",
       "0        480.0        480.0      39237                1  windows (Trial)  \n",
       "1        960.0        960.0      76188               94  windows (Trial)  \n",
       "2        480.0        480.0      55625               12  windows (Trial)  \n",
       "3        960.0        960.0     128284                4  windows (Trial)  \n",
       "4        480.0        480.0      48386                9  windows (Trial)  "
      ]
     },
     "execution_count": 77,
     "metadata": {},
     "output_type": "execute_result"
    }
   ],
   "source": [
    "df_copy.head()"
   ]
  },
  {
   "cell_type": "markdown",
   "id": "42c4bb90-af70-48c6-8106-d449a1961484",
   "metadata": {},
   "source": [
    "#### 3.6.4. 'gpu'"
   ]
  },
  {
   "cell_type": "code",
   "execution_count": 78,
   "id": "7e1ea9bc-abf4-48d0-9a26-63f6e8b9d9e8",
   "metadata": {},
   "outputs": [
    {
     "data": {
      "text/plain": [
       "array(['Intel UHD Graphics 630', 'NVIDIA GeForce GTX 1660',\n",
       "       'NVIDIA GeForce GTX 1650', 'NVIDIA GeForce RTX 3070',\n",
       "       'NVIDIA GeForce RTX 3050', 'AMD Radeon Vega 7',\n",
       "       'NVIDIA GeForce RTX 3080', 'AMD Radeon Vega 3',\n",
       "       'NVIDIA GeForce RTX 3060', 'NVIDIA GeForce GT 1030',\n",
       "       'intel UHD Graphics 750', 'Intel HD Graphics 6000',\n",
       "       'Intel HD Graphics 600', 'AMD Radeon RX 580',\n",
       "       'NVIDIA GeForce GTX 1050', 'NVIDIA GeForce RTX 2060',\n",
       "       'Intel UHD Graphics 610', 'AMD Radeon R5', 'не заполнено',\n",
       "       'NVIDIA', 'Intel HD Graphics 500', 'NVIDIA GeForce GT 730',\n",
       "       'AMD Radeon RX 6500', 'Intel HD Graphics 4000',\n",
       "       'NVIDIA GeForce GTX 1630', 'Intel HD Graphics 2000',\n",
       "       'Intel UHD Graphics', 'Intel Core i5 11400F 2.6ГГц',\n",
       "       'Intel Core i3 10105F 3.7ГГц', 'Intel HD Graphics',\n",
       "       'Intel UHD Graphics 600', 'AMD Radeon Vega 8', 'RTX 1650 4GB',\n",
       "       'UHD Graphics', 'AMD Radeon RX 6600', 'AMD Radeon RX 550',\n",
       "       'AMD Radeon RX 470', 'AMD Radeon Vega 6', 'Intel HD Graphics 2500',\n",
       "       'NVIDIA GeForce GTX 650', 'AMD Radeon RX 6700',\n",
       "       'NVIDIA GeForce RTX 4070', 'AMD Radeon RX 570',\n",
       "       'Intel UHD Graphics 620', 'NVIDIA GeForce RTX 2080', 'VEGA',\n",
       "       'NVIDIA GeForce GTX 1060', 'NVIDIA GeForce GTX 970'], dtype=object)"
      ]
     },
     "execution_count": 78,
     "metadata": {},
     "output_type": "execute_result"
    }
   ],
   "source": [
    "df_copy['gpu'].unique()"
   ]
  },
  {
   "cell_type": "code",
   "execution_count": 79,
   "id": "633511ba-30c8-44c9-891d-23d65faa5204",
   "metadata": {},
   "outputs": [
    {
     "name": "stdout",
     "output_type": "stream",
     "text": [
      "Стандартизированные значения GPU:\n",
      "gpu_type\n",
      "AMD Radeon 7               166\n",
      "NVIDIA GEFORCE RTX 3050    145\n",
      "Intel HD Graphics          134\n",
      "NVIDIA GEFORCE GTX 1660    128\n",
      "NVIDIA GEFORCE RTX 3060    127\n",
      "NVIDIA GEFORCE GT 1030     126\n",
      "NVIDIA GEFORCE GTX 1650    106\n",
      "NVIDIA GEFORCE RTX 3070     64\n",
      "Не указано                  58\n",
      "NVIDIA GEFORCE RTX 3080     49\n",
      "Intel UHD Graphics          46\n",
      "AMD Radeon 3                42\n",
      "AMD Radeon R5               40\n",
      "NVIDIA GEFORCE RTX 2060     38\n",
      "NVIDIA GEFORCE GTX 1060     12\n",
      "AMD Radeon 6600             12\n",
      "NVIDIA GEFORCE GTX 1050      9\n",
      "AMD Radeon 570               8\n",
      "AMD Radeon 580               7\n",
      "AMD Radeon 550               5\n",
      "AMD Radeon 6700              5\n",
      "AMD Radeon 8                 4\n",
      "AMD Radeon 470               3\n",
      "NVIDIA GEFORCE RTX 4070      2\n",
      "AMD Radeon 6500              2\n",
      "NVIDIA GEFORCE GTX 1630      2\n",
      "AMD Radeon Vega              1\n",
      "NVIDIA GEFORCE RTX 2080      1\n",
      "NVIDIA GEFORCE GT 730        1\n",
      "NVIDIA GEFORCE GTX 650       1\n",
      "AMD Radeon 6                 1\n",
      "NVIDIA 4GB                   1\n",
      "NVIDIA                       1\n",
      "NVIDIA GEFORCE GTX 970       1\n",
      "Name: count, dtype: int64\n"
     ]
    }
   ],
   "source": [
    "import re\n",
    "\n",
    "def clean_gpu(gpu_str):\n",
    "    if pd.isna(gpu_str) or str(gpu_str).lower() in ['не заполнено', 'none', 'нет']:\n",
    "        return 'Не указано'\n",
    "\n",
    "    gpu_str = str(gpu_str).strip().upper()\n",
    "\n",
    "    # Удаляем лишние слова/символы\n",
    "    gpu_str = re.sub(r'\\s+', ' ', gpu_str)\n",
    "    gpu_str = re.sub(r'[^\\w\\s]', '', gpu_str)\n",
    "\n",
    "    # Убираем случайные CPU-описания\n",
    "    if 'CORE I' in gpu_str or 'CELERON' in gpu_str or 'XENON' in gpu_str or 'PENTIUM' in gpu_str:\n",
    "        return 'Не указано'\n",
    "\n",
    "    # Стандартизуем производителей\n",
    "    if 'NVIDIA' in gpu_str:\n",
    "        #gpu_str = gpu_str.replace('RTX', 'GEFORCE RTX').replace('GTX', 'GEFORCE GTX')\n",
    "        if 'GEFORCE' not in gpu_str:\n",
    "            gpu_str = 'NVIDIA ' + gpu_str.replace('NVIDIA', '').strip()\n",
    "        return gpu_str.strip()\n",
    "\n",
    "    elif 'AMD' in gpu_str:\n",
    "        gpu_str = gpu_str.replace('RADEON', 'Radeon').replace('RX', 'RX ')\n",
    "        if 'RADEON' not in gpu_str:\n",
    "            return f'AMD Radeon {gpu_str.split()[-1]}'\n",
    "        return 'AMD Radeon ' + ' '.join(gpu_str.split()[1:])\n",
    "\n",
    "    elif 'INTEL' in gpu_str:\n",
    "        if 'UHD' in gpu_str:\n",
    "            return 'Intel UHD Graphics'\n",
    "        elif 'HD' in gpu_str:\n",
    "            return 'Intel HD Graphics'\n",
    "        else:\n",
    "            return 'Intel Integrated Graphics'\n",
    "\n",
    "    elif 'VEGA' in gpu_str:\n",
    "        if 'VEGA 7' in gpu_str:\n",
    "            return 'AMD Radeon Vega 7'\n",
    "        elif 'VEGA 8' in gpu_str:\n",
    "            return 'AMD Radeon Vega 8'\n",
    "        else:\n",
    "            return 'AMD Radeon Vega'\n",
    "\n",
    "    elif 'UHD' in gpu_str:\n",
    "        return 'Intel UHD Graphics'\n",
    "\n",
    "    elif 'HD GRAPHICS' in gpu_str:\n",
    "        return 'Intel HD Graphics'\n",
    "\n",
    "    elif 'GT ' in gpu_str or 'GTX' in gpu_str or 'RTX' in gpu_str:\n",
    "        return f'NVIDIA {gpu_str.split()[-1]}'\n",
    "\n",
    "    elif 'RX ' in gpu_str:\n",
    "        return f'AMD Radeon {gpu_str.split()[-1]}'\n",
    "\n",
    "    else:\n",
    "        return 'Не указано'\n",
    "\n",
    "# Применяем новую функцию очистки\n",
    "df_copy['gpu_type'] = df_copy['gpu'].apply(clean_gpu)\n",
    "\n",
    "# Удаляем исходный столбец\n",
    "df_copy.drop(columns=['gpu'], inplace=True, errors='ignore')\n",
    "\n",
    "# Вывод уникальных значений после очистки\n",
    "print(\"Стандартизированные значения GPU:\")\n",
    "print(df_copy['gpu_type'].value_counts(dropna=False))"
   ]
  },
  {
   "cell_type": "code",
   "execution_count": 80,
   "id": "9f9408e5-0b03-486a-aeb2-6d428332002b",
   "metadata": {},
   "outputs": [
    {
     "name": "stdout",
     "output_type": "stream",
     "text": [
      "Оставшиеся уникальные значения gpu_type:\n",
      "gpu_type\n",
      "AMD Radeon 7               166\n",
      "NVIDIA GEFORCE RTX 3050    145\n",
      "Intel HD Graphics          134\n",
      "NVIDIA GEFORCE GTX 1660    128\n",
      "NVIDIA GEFORCE RTX 3060    127\n",
      "NVIDIA GEFORCE GT 1030     126\n",
      "NVIDIA GEFORCE GTX 1650    106\n",
      "NVIDIA GEFORCE RTX 3070     64\n",
      "NVIDIA GEFORCE RTX 3080     49\n",
      "Intel UHD Graphics          46\n",
      "AMD Radeon 3                42\n",
      "AMD Radeon R5               40\n",
      "NVIDIA GEFORCE RTX 2060     38\n",
      "AMD Radeon 6600             12\n",
      "NVIDIA GEFORCE GTX 1060     12\n",
      "NVIDIA GEFORCE GTX 1050      9\n",
      "AMD Radeon 570               8\n",
      "AMD Radeon 580               7\n",
      "AMD Radeon 550               5\n",
      "AMD Radeon 6700              5\n",
      "AMD Radeon 8                 4\n",
      "AMD Radeon 470               3\n",
      "AMD Radeon 6500              2\n",
      "NVIDIA GEFORCE GTX 1630      2\n",
      "NVIDIA GEFORCE RTX 4070      2\n",
      "AMD Radeon Vega              1\n",
      "NVIDIA GEFORCE GT 730        1\n",
      "NVIDIA GEFORCE RTX 2080      1\n",
      "NVIDIA GEFORCE GTX 650       1\n",
      "NVIDIA GEFORCE GTX 970       1\n",
      "Name: count, dtype: int64\n"
     ]
    }
   ],
   "source": [
    "# Список \"плохих\" значений GPU\n",
    "bad_gpu_values = [\n",
    "    'AMD Radeon 6',\n",
    "    'NVIDIA 4GB',\n",
    "    'NVIDIA',\n",
    "    'Не указано'\n",
    "]\n",
    "\n",
    "# Фильтруем DataFrame — оставляем только те строки, где gpu_type НЕ в bad_gpu_values\n",
    "df_copy = df_copy[~df_copy['gpu_type'].isin(bad_gpu_values)]\n",
    "\n",
    "# Сбрасываем индекс (опционально)\n",
    "df_copy.reset_index(drop=True, inplace=True)\n",
    "\n",
    "# Проверяем результат\n",
    "print(\"Оставшиеся уникальные значения gpu_type:\")\n",
    "print(df_copy['gpu_type'].value_counts(dropna=False))"
   ]
  },
  {
   "cell_type": "code",
   "execution_count": 81,
   "id": "fc85ecfc-bf21-4da7-b1e9-888203e094fd",
   "metadata": {},
   "outputs": [
    {
     "data": {
      "text/plain": [
       "(1287, 17)"
      ]
     },
     "execution_count": 81,
     "metadata": {},
     "output_type": "execute_result"
    }
   ],
   "source": [
    "df_copy.shape"
   ]
  },
  {
   "cell_type": "markdown",
   "id": "6e6003cc-3a2e-4be1-939b-0b4c770a296e",
   "metadata": {},
   "source": [
    "# 4. Анализ данных"
   ]
  },
  {
   "cell_type": "markdown",
   "id": "565309b6-4431-41b8-b08b-86fa55b15f3e",
   "metadata": {},
   "source": [
    "**Этапы анализа**:\n",
    "\n",
    "1. Определить целевые и факторные переменные.\n",
    "2. Определить типы переменных.\n",
    "3. Проанализировать каждый признак отдельно.\n",
    "4. Проанализировать взаимосвязи признаков.\n",
    "5. Проинтерпретировать результаты."
   ]
  },
  {
   "cell_type": "markdown",
   "id": "38c7671c-89c5-4d50-914e-1cb8bda3ebda",
   "metadata": {},
   "source": [
    "**Цели анализа**:\n",
    "1. Проанализировать цену и популярность (выраженную в\n",
    "количестве продаж) персональных компьютеров.\n",
    "2. Выявить зависимость этих показателей от комплектующих."
   ]
  },
  {
   "cell_type": "markdown",
   "id": "a4678deb-7662-4bd4-be5e-666657231521",
   "metadata": {},
   "source": [
    "**Типы переменных**\n",
    "\n",
    "1. *Категориальные*:\n",
    "    <br>1.1. product_id (идентификатор товара)\n",
    "    <br>1.2. title (название товара)\n",
    "    <br>1.3. seller (продавец)\n",
    "    <br>1.4. gpu (\"линейка\" графического процессора)\n",
    "    <br>1.5. manufacturer_country (страна-производитель)\n",
    "    <br>1.6. cpu_category (\"линейка\" процессора)\n",
    "    <br>1.7. ram_type (тип оперативной памяти)\n",
    "    <br>1.8. os_ver (версия операционной системы)\n",
    "    <br>1.9. guaranty_period (срок гарантии)\n",
    "\n",
    "2. *Количественные дискретные*:\n",
    "    <br>2.1. sales_num (количество продаж)\n",
    "    <br>2.2. cpu_cores (количество ядер процессора)\n",
    "    <br>2.3. ram_storage (объем оперативной памяти в ГБ)\n",
    "    <br>2.4. hdd_size_gb (объем HDD в ГБ)\n",
    "    <br>2.5. ssd_size_gb (объем SSD в ГБ)\n",
    "    <br>2.6. feedbacks_count (количество отзывов)\n",
    "\n",
    "3. *Количественные непрерывные*:\n",
    "    <br>3.1. seller_rating (рейтинг продавца)\n",
    "    <br>3.2. price_rub (цена в рублях)\n",
    "   "
   ]
  },
  {
   "cell_type": "markdown",
   "id": "b6f55db8-ab3a-4a9a-89ff-2eca0f177857",
   "metadata": {},
   "source": [
    "**Целевые переменные**\n",
    "\n",
    "1. price_rub\n",
    "2. sales_num"
   ]
  },
  {
   "cell_type": "markdown",
   "id": "96c3801f-fb70-491f-944c-71164139a29a",
   "metadata": {},
   "source": [
    "### 4.1. Количественные признаки"
   ]
  },
  {
   "cell_type": "markdown",
   "id": "c970e9cd-f926-4316-a369-217890e33292",
   "metadata": {},
   "source": [
    "#### 4.1.1. 'sales_num'"
   ]
  },
  {
   "cell_type": "code",
   "execution_count": 82,
   "id": "d007f0b2-9008-480f-a424-c178724c2998",
   "metadata": {},
   "outputs": [],
   "source": [
    "sales = df_copy.sales_num"
   ]
  },
  {
   "cell_type": "code",
   "execution_count": 83,
   "id": "ce57cd83-0b47-42cd-a83e-d43989631015",
   "metadata": {},
   "outputs": [
    {
     "name": "stdout",
     "output_type": "stream",
     "text": [
      "Наибольшее количество продаж: 500\n",
      "Наименьшее количество продаж: 0\n",
      "Среднее количество продаж: 7.210567210567211\n",
      "Медианное количество продаж: 0.0\n"
     ]
    }
   ],
   "source": [
    "max_value = sales.max()\n",
    "min_value = sales.min()\n",
    "mean_value = sales.mean()\n",
    "median_value = sales.median()\n",
    "print(f'Наибольшее количество продаж: {max_value}', f'Наименьшее количество продаж: {min_value}',\n",
    "     f'Среднее количество продаж: {mean_value}', f'Медианное количество продаж: {median_value}', sep='\\n')"
   ]
  },
  {
   "cell_type": "code",
   "execution_count": 84,
   "id": "dfbfab4d-0fab-402f-a644-5fe637be03fd",
   "metadata": {},
   "outputs": [
    {
     "name": "stdout",
     "output_type": "stream",
     "text": [
      "10-й процентиль: 0.0\n",
      "25-й процентиль: 0.0\n",
      "50-й процентиль: 0.0\n",
      "75-й процентиль: 5.0\n",
      "90-й процентиль: 10.0\n"
     ]
    }
   ],
   "source": [
    "percentile_10_value = sales.quantile(0.10)\n",
    "percentile_25_value = sales.quantile(0.25)\n",
    "percentile_50_value = sales.quantile(0.50)\n",
    "percentile_75_value = sales.quantile(0.75)\n",
    "percentile_90_value = sales.quantile(0.90)\n",
    "print(f'10-й процентиль: {percentile_10_value}',\n",
    "      f'25-й процентиль: {percentile_25_value}',\n",
    "      f'50-й процентиль: {percentile_50_value}',\n",
    "      f'75-й процентиль: {percentile_75_value}',\n",
    "      f'90-й процентиль: {percentile_90_value}', sep='\\n')"
   ]
  },
  {
   "cell_type": "code",
   "execution_count": 85,
   "id": "7111eaec-610e-4759-9be4-69733b12e53d",
   "metadata": {},
   "outputs": [
    {
     "data": {
      "text/plain": [
       "count    1287.000000\n",
       "mean        7.210567\n",
       "std        32.188040\n",
       "min         0.000000\n",
       "25%         0.000000\n",
       "50%         0.000000\n",
       "75%         5.000000\n",
       "max       500.000000\n",
       "Name: sales_num, dtype: float64"
      ]
     },
     "execution_count": 85,
     "metadata": {},
     "output_type": "execute_result"
    }
   ],
   "source": [
    "sales.describe()"
   ]
  },
  {
   "cell_type": "code",
   "execution_count": 86,
   "id": "b6c38d31-64e8-4c7c-a1c0-777e2a1f6591",
   "metadata": {},
   "outputs": [
    {
     "data": {
      "image/png": "[encoded data removed]",
      "text/plain": [
       "<Figure size 640x480 with 1 Axes>"
      ]
     },
     "metadata": {},
     "output_type": "display_data"
    }
   ],
   "source": [
    "sns.histplot(sales, bins=20, color='blue')\n",
    "plt.title('Гистограмма распределения количества продаж ПК')\n",
    "plt.xlabel('Возраст, количество лет')\n",
    "plt.ylabel('Количество')\n",
    "plt.show()"
   ]
  },
  {
   "cell_type": "code",
   "execution_count": 87,
   "id": "532805aa-69b0-4db4-81a2-2a4fc5bff931",
   "metadata": {},
   "outputs": [
    {
     "data": {
      "text/plain": [
       "11"
      ]
     },
     "execution_count": 87,
     "metadata": {},
     "output_type": "execute_result"
    }
   ],
   "source": [
    "# количество объектов, значения возраста по которым превышает 99 процентиль\n",
    "len(df_copy[df_copy.sales_num>sales.quantile(0.99)])"
   ]
  },
  {
   "cell_type": "code",
   "execution_count": 88,
   "id": "28894150-bcdd-40f3-8f4d-cf7f6cfaeaf2",
   "metadata": {},
   "outputs": [
    {
     "data": {
      "text/html": [
       "<div>\n",
       "<style scoped>\n",
       "    .dataframe tbody tr th:only-of-type {\n",
       "        vertical-align: middle;\n",
       "    }\n",
       "\n",
       "    .dataframe tbody tr th {\n",
       "        vertical-align: top;\n",
       "    }\n",
       "\n",
       "    .dataframe thead th {\n",
       "        text-align: right;\n",
       "    }\n",
       "</style>\n",
       "<table border=\"1\" class=\"dataframe\">\n",
       "  <thead>\n",
       "    <tr style=\"text-align: right;\">\n",
       "      <th></th>\n",
       "      <th>product_id</th>\n",
       "      <th>title</th>\n",
       "      <th>seller</th>\n",
       "      <th>seller_rating</th>\n",
       "      <th>manufacturer_country</th>\n",
       "      <th>sales_num</th>\n",
       "      <th>guaranty_period</th>\n",
       "      <th>cpu_cores</th>\n",
       "      <th>cpu_category</th>\n",
       "      <th>ram_type</th>\n",
       "      <th>ram_storage</th>\n",
       "      <th>hdd_size_gb</th>\n",
       "      <th>ssd_size_gb</th>\n",
       "      <th>price_rub</th>\n",
       "      <th>feedbacks_count</th>\n",
       "      <th>os_ver</th>\n",
       "      <th>gpu_type</th>\n",
       "    </tr>\n",
       "  </thead>\n",
       "  <tbody>\n",
       "    <tr>\n",
       "      <th>22</th>\n",
       "      <td>20904019</td>\n",
       "      <td>Игровой Компьютер Robotcomp Аллигатор V3</td>\n",
       "      <td>Robotcomp</td>\n",
       "      <td>4.7</td>\n",
       "      <td>Россия</td>\n",
       "      <td>500</td>\n",
       "      <td>3y</td>\n",
       "      <td>6</td>\n",
       "      <td>AMD Ryzen 5</td>\n",
       "      <td>DDR 4</td>\n",
       "      <td>16</td>\n",
       "      <td>480.0</td>\n",
       "      <td>480.0</td>\n",
       "      <td>34017</td>\n",
       "      <td>128</td>\n",
       "      <td>Windows 10 Pro</td>\n",
       "      <td>AMD Radeon 7</td>\n",
       "    </tr>\n",
       "    <tr>\n",
       "      <th>63</th>\n",
       "      <td>25968600</td>\n",
       "      <td>Игровой Компьютер Robotcomp Старт V1</td>\n",
       "      <td>Robotcomp</td>\n",
       "      <td>4.7</td>\n",
       "      <td>Россия</td>\n",
       "      <td>500</td>\n",
       "      <td>3y</td>\n",
       "      <td>4</td>\n",
       "      <td>Intel Core i3</td>\n",
       "      <td>DDR 4</td>\n",
       "      <td>8</td>\n",
       "      <td>480.0</td>\n",
       "      <td>480.0</td>\n",
       "      <td>30760</td>\n",
       "      <td>148</td>\n",
       "      <td>windows (Trial)</td>\n",
       "      <td>NVIDIA GEFORCE GT 1030</td>\n",
       "    </tr>\n",
       "    <tr>\n",
       "      <th>21</th>\n",
       "      <td>20904018</td>\n",
       "      <td>Игровой Компьютер Robotcomp Аллигатор V2</td>\n",
       "      <td>Robotcomp</td>\n",
       "      <td>4.7</td>\n",
       "      <td>Россия</td>\n",
       "      <td>400</td>\n",
       "      <td>3y</td>\n",
       "      <td>6</td>\n",
       "      <td>AMD Ryzen 5</td>\n",
       "      <td>DDR 4</td>\n",
       "      <td>16</td>\n",
       "      <td>480.0</td>\n",
       "      <td>480.0</td>\n",
       "      <td>32617</td>\n",
       "      <td>101</td>\n",
       "      <td>Windows 10 Pro</td>\n",
       "      <td>AMD Radeon 7</td>\n",
       "    </tr>\n",
       "    <tr>\n",
       "      <th>273</th>\n",
       "      <td>93548269</td>\n",
       "      <td>Игровой компьютер Life Tech Bastion</td>\n",
       "      <td>ABS-TECHNO.RU</td>\n",
       "      <td>4.4</td>\n",
       "      <td>Россия</td>\n",
       "      <td>400</td>\n",
       "      <td>3y</td>\n",
       "      <td>2</td>\n",
       "      <td>Intel Core i5</td>\n",
       "      <td>DDR 3</td>\n",
       "      <td>8</td>\n",
       "      <td>240.0</td>\n",
       "      <td>240.0</td>\n",
       "      <td>25989</td>\n",
       "      <td>189</td>\n",
       "      <td>Windows 10 Pro</td>\n",
       "      <td>NVIDIA GEFORCE GT 1030</td>\n",
       "    </tr>\n",
       "    <tr>\n",
       "      <th>154</th>\n",
       "      <td>70685264</td>\n",
       "      <td>Настольный Компьютер Robotcomp Orion V1</td>\n",
       "      <td>Robotcomp</td>\n",
       "      <td>4.7</td>\n",
       "      <td>Россия</td>\n",
       "      <td>300</td>\n",
       "      <td>3y</td>\n",
       "      <td>2</td>\n",
       "      <td>AMD A6</td>\n",
       "      <td>DDR 4</td>\n",
       "      <td>8</td>\n",
       "      <td>240.0</td>\n",
       "      <td>240.0</td>\n",
       "      <td>18957</td>\n",
       "      <td>66</td>\n",
       "      <td>windows (Trial)</td>\n",
       "      <td>AMD Radeon R5</td>\n",
       "    </tr>\n",
       "    <tr>\n",
       "      <th>1</th>\n",
       "      <td>19348951</td>\n",
       "      <td>Игровой Компьютер Robotcomp М16 2.0 V1</td>\n",
       "      <td>Robotcomp</td>\n",
       "      <td>4.7</td>\n",
       "      <td>Россия</td>\n",
       "      <td>200</td>\n",
       "      <td>3y</td>\n",
       "      <td>6</td>\n",
       "      <td>Intel Core i5</td>\n",
       "      <td>DDR 4</td>\n",
       "      <td>16</td>\n",
       "      <td>960.0</td>\n",
       "      <td>960.0</td>\n",
       "      <td>76188</td>\n",
       "      <td>94</td>\n",
       "      <td>windows (Trial)</td>\n",
       "      <td>NVIDIA GEFORCE GTX 1660</td>\n",
       "    </tr>\n",
       "    <tr>\n",
       "      <th>23</th>\n",
       "      <td>21001520</td>\n",
       "      <td>Игровой Компьютер Robotcomp Аллигатор 3.0 V1</td>\n",
       "      <td>Robotcomp</td>\n",
       "      <td>4.7</td>\n",
       "      <td>Россия</td>\n",
       "      <td>200</td>\n",
       "      <td>3y</td>\n",
       "      <td>6</td>\n",
       "      <td>AMD Ryzen 5</td>\n",
       "      <td>DDR 4</td>\n",
       "      <td>32</td>\n",
       "      <td>1000.0</td>\n",
       "      <td>512.0</td>\n",
       "      <td>40694</td>\n",
       "      <td>54</td>\n",
       "      <td>windows (Trial)</td>\n",
       "      <td>AMD Radeon 7</td>\n",
       "    </tr>\n",
       "    <tr>\n",
       "      <th>25</th>\n",
       "      <td>21011648</td>\n",
       "      <td>Игровой Компьютер Robotcomp Аллигатор 3.0 V3</td>\n",
       "      <td>Robotcomp</td>\n",
       "      <td>4.7</td>\n",
       "      <td>Россия</td>\n",
       "      <td>200</td>\n",
       "      <td>3y</td>\n",
       "      <td>6</td>\n",
       "      <td>AMD Ryzen 5</td>\n",
       "      <td>DDR 4</td>\n",
       "      <td>32</td>\n",
       "      <td>1000.0</td>\n",
       "      <td>512.0</td>\n",
       "      <td>47827</td>\n",
       "      <td>84</td>\n",
       "      <td>Windows 10 Pro</td>\n",
       "      <td>AMD Radeon 7</td>\n",
       "    </tr>\n",
       "    <tr>\n",
       "      <th>132</th>\n",
       "      <td>63112869</td>\n",
       "      <td>Игровой Kомпьютер</td>\n",
       "      <td>BeastPC</td>\n",
       "      <td>4.8</td>\n",
       "      <td>Китай</td>\n",
       "      <td>200</td>\n",
       "      <td>0</td>\n",
       "      <td>6</td>\n",
       "      <td>Intel Xeon</td>\n",
       "      <td>DDR 4</td>\n",
       "      <td>16</td>\n",
       "      <td>512.0</td>\n",
       "      <td>512.0</td>\n",
       "      <td>40000</td>\n",
       "      <td>77</td>\n",
       "      <td>Windows 10</td>\n",
       "      <td>AMD Radeon 580</td>\n",
       "    </tr>\n",
       "    <tr>\n",
       "      <th>254</th>\n",
       "      <td>88538598</td>\n",
       "      <td>Игровой Компьютер Robotcomp Аллигатор V1</td>\n",
       "      <td>Robotcomp</td>\n",
       "      <td>4.7</td>\n",
       "      <td>Россия</td>\n",
       "      <td>200</td>\n",
       "      <td>3y</td>\n",
       "      <td>6</td>\n",
       "      <td>AMD Ryzen 5</td>\n",
       "      <td>DDR 4</td>\n",
       "      <td>16</td>\n",
       "      <td>480.0</td>\n",
       "      <td>480.0</td>\n",
       "      <td>30628</td>\n",
       "      <td>296</td>\n",
       "      <td>windows (Trial)</td>\n",
       "      <td>AMD Radeon 7</td>\n",
       "    </tr>\n",
       "    <tr>\n",
       "      <th>346</th>\n",
       "      <td>100343717</td>\n",
       "      <td>Игровой Компьютер NAGIBATOR AMD RYZEN 5 4600G ...</td>\n",
       "      <td>FREERIDE</td>\n",
       "      <td>4.9</td>\n",
       "      <td>Россия</td>\n",
       "      <td>200</td>\n",
       "      <td>1y</td>\n",
       "      <td>6</td>\n",
       "      <td>other</td>\n",
       "      <td>DDR 4</td>\n",
       "      <td>16</td>\n",
       "      <td>512.0</td>\n",
       "      <td>512.0</td>\n",
       "      <td>35940</td>\n",
       "      <td>117</td>\n",
       "      <td>Windows 10 (Trial)</td>\n",
       "      <td>AMD Radeon 7</td>\n",
       "    </tr>\n",
       "  </tbody>\n",
       "</table>\n",
       "</div>"
      ],
      "text/plain": [
       "     product_id                                              title  \\\n",
       "22     20904019           Игровой Компьютер Robotcomp Аллигатор V3   \n",
       "63     25968600               Игровой Компьютер Robotcomp Старт V1   \n",
       "21     20904018           Игровой Компьютер Robotcomp Аллигатор V2   \n",
       "273    93548269                Игровой компьютер Life Tech Bastion   \n",
       "154    70685264            Настольный Компьютер Robotcomp Orion V1   \n",
       "1      19348951             Игровой Компьютер Robotcomp М16 2.0 V1   \n",
       "23     21001520       Игровой Компьютер Robotcomp Аллигатор 3.0 V1   \n",
       "25     21011648       Игровой Компьютер Robotcomp Аллигатор 3.0 V3   \n",
       "132    63112869                                  Игровой Kомпьютер   \n",
       "254    88538598           Игровой Компьютер Robotcomp Аллигатор V1   \n",
       "346   100343717  Игровой Компьютер NAGIBATOR AMD RYZEN 5 4600G ...   \n",
       "\n",
       "            seller  seller_rating manufacturer_country  sales_num  \\\n",
       "22       Robotcomp            4.7               Россия        500   \n",
       "63       Robotcomp            4.7               Россия        500   \n",
       "21       Robotcomp            4.7               Россия        400   \n",
       "273  ABS-TECHNO.RU            4.4               Россия        400   \n",
       "154      Robotcomp            4.7               Россия        300   \n",
       "1        Robotcomp            4.7               Россия        200   \n",
       "23       Robotcomp            4.7               Россия        200   \n",
       "25       Robotcomp            4.7               Россия        200   \n",
       "132        BeastPC            4.8                Китай        200   \n",
       "254      Robotcomp            4.7               Россия        200   \n",
       "346       FREERIDE            4.9               Россия        200   \n",
       "\n",
       "    guaranty_period  cpu_cores   cpu_category ram_type  ram_storage  \\\n",
       "22               3y          6    AMD Ryzen 5    DDR 4           16   \n",
       "63               3y          4  Intel Core i3    DDR 4            8   \n",
       "21               3y          6    AMD Ryzen 5    DDR 4           16   \n",
       "273              3y          2  Intel Core i5    DDR 3            8   \n",
       "154              3y          2         AMD A6    DDR 4            8   \n",
       "1                3y          6  Intel Core i5    DDR 4           16   \n",
       "23               3y          6    AMD Ryzen 5    DDR 4           32   \n",
       "25               3y          6    AMD Ryzen 5    DDR 4           32   \n",
       "132               0          6     Intel Xeon    DDR 4           16   \n",
       "254              3y          6    AMD Ryzen 5    DDR 4           16   \n",
       "346              1y          6          other    DDR 4           16   \n",
       "\n",
       "     hdd_size_gb  ssd_size_gb  price_rub  feedbacks_count              os_ver  \\\n",
       "22         480.0        480.0      34017              128      Windows 10 Pro   \n",
       "63         480.0        480.0      30760              148     windows (Trial)   \n",
       "21         480.0        480.0      32617              101      Windows 10 Pro   \n",
       "273        240.0        240.0      25989              189      Windows 10 Pro   \n",
       "154        240.0        240.0      18957               66     windows (Trial)   \n",
       "1          960.0        960.0      76188               94     windows (Trial)   \n",
       "23        1000.0        512.0      40694               54     windows (Trial)   \n",
       "25        1000.0        512.0      47827               84      Windows 10 Pro   \n",
       "132        512.0        512.0      40000               77          Windows 10   \n",
       "254        480.0        480.0      30628              296     windows (Trial)   \n",
       "346        512.0        512.0      35940              117  Windows 10 (Trial)   \n",
       "\n",
       "                    gpu_type  \n",
       "22              AMD Radeon 7  \n",
       "63    NVIDIA GEFORCE GT 1030  \n",
       "21              AMD Radeon 7  \n",
       "273   NVIDIA GEFORCE GT 1030  \n",
       "154            AMD Radeon R5  \n",
       "1    NVIDIA GEFORCE GTX 1660  \n",
       "23              AMD Radeon 7  \n",
       "25              AMD Radeon 7  \n",
       "132           AMD Radeon 580  \n",
       "254             AMD Radeon 7  \n",
       "346             AMD Radeon 7  "
      ]
     },
     "execution_count": 88,
     "metadata": {},
     "output_type": "execute_result"
    }
   ],
   "source": [
    "# рассмотрим объекты, значения возраста по которым превышает 99 процентиль\n",
    "df_copy[df_copy.sales_num>sales.quantile(0.99)].sort_values(by='sales_num', ascending=False)"
   ]
  },
  {
   "cell_type": "code",
   "execution_count": 89,
   "id": "27248d84-ec48-4999-80bf-5b033d41e91a",
   "metadata": {},
   "outputs": [
    {
     "data": {
      "text/plain": [
       "count    1287.000000\n",
       "mean        7.210567\n",
       "std        32.188040\n",
       "min         0.000000\n",
       "25%         0.000000\n",
       "50%         0.000000\n",
       "75%         5.000000\n",
       "max       500.000000\n",
       "Name: sales_num, dtype: float64"
      ]
     },
     "execution_count": 89,
     "metadata": {},
     "output_type": "execute_result"
    }
   ],
   "source": [
    "# исключим данные наблюдения из датасета\n",
    "#df_copy = df_copy[df_copy.sales_num<=sales.quantile(0.99)]\n",
    "#sales = df_copy.sales_num\n",
    "sales.describe()"
   ]
  },
  {
   "cell_type": "markdown",
   "id": "a8ce726e-9658-4191-ae31-a3ee00ff7bae",
   "metadata": {},
   "source": [
    "#### 4.1.2. 'cpu_cores'"
   ]
  },
  {
   "cell_type": "code",
   "execution_count": 90,
   "id": "0fd762c9-07d4-4e24-a148-66d64893eec8",
   "metadata": {},
   "outputs": [
    {
     "data": {
      "text/plain": [
       "count    1287.000000\n",
       "mean        6.192696\n",
       "std         3.810460\n",
       "min         2.000000\n",
       "25%         4.000000\n",
       "50%         6.000000\n",
       "75%         6.000000\n",
       "max        24.000000\n",
       "Name: cpu_cores, dtype: float64"
      ]
     },
     "execution_count": 90,
     "metadata": {},
     "output_type": "execute_result"
    }
   ],
   "source": [
    "df_copy.cpu_cores.describe()"
   ]
  },
  {
   "cell_type": "code",
   "execution_count": 120,
   "id": "e7f59683-5082-49c8-89ed-0ff9bb6c8a93",
   "metadata": {},
   "outputs": [
    {
     "data": {
      "image/png": "[encoded data removed]",
      "text/plain": [
       "<Figure size 1200x600 with 1 Axes>"
      ]
     },
     "metadata": {},
     "output_type": "display_data"
    }
   ],
   "source": [
    "plt.figure(figsize=(12, 6))\n",
    "ax = sns.barplot(\n",
    "    y=df_copy.cpu_cores.value_counts().values,\n",
    "    x=df_copy.cpu_cores.value_counts().index\n",
    ")\n",
    "ax.bar_label(ax.containers[0], fontsize=10)\n",
    "plt.title('Распределение числа ядер ЦП')\n",
    "plt.xlabel('Число ядер')\n",
    "plt.ylabel('Количество процессоров')\n",
    "#plt.xticks(rotation=45)\n",
    "plt.tight_layout()\n",
    "plt.savefig(\"pc_cpu_cores.png\", format = \"png\", dpi=500, bbox_inches='tight')\n",
    "plt.show()"
   ]
  },
  {
   "cell_type": "markdown",
   "id": "c3248d42-3fdd-4cbb-bc87-5a5497c520f5",
   "metadata": {},
   "source": [
    "#### 4.1.3. 'ram_storage'"
   ]
  },
  {
   "cell_type": "code",
   "execution_count": 92,
   "id": "90d62aa4-56c4-41d6-a6a6-cd2387a5b6f8",
   "metadata": {},
   "outputs": [
    {
     "data": {
      "text/plain": [
       "count    1287.000000\n",
       "mean        6.192696\n",
       "std         3.810460\n",
       "min         2.000000\n",
       "25%         4.000000\n",
       "50%         6.000000\n",
       "75%         6.000000\n",
       "max        24.000000\n",
       "Name: cpu_cores, dtype: float64"
      ]
     },
     "execution_count": 92,
     "metadata": {},
     "output_type": "execute_result"
    }
   ],
   "source": [
    "df_copy.cpu_cores.describe()"
   ]
  },
  {
   "cell_type": "code",
   "execution_count": 128,
   "id": "2ab73dc4-7549-44d7-9b21-442cfc2aa78a",
   "metadata": {},
   "outputs": [
    {
     "data": {
      "image/png": "[encoded data removed]",
      "text/plain": [
       "<Figure size 1200x600 with 1 Axes>"
      ]
     },
     "metadata": {},
     "output_type": "display_data"
    }
   ],
   "source": [
    "plt.figure(figsize=(12, 6))\n",
    "ax = sns.barplot(\n",
    "    y=df_copy.ram_storage.value_counts().values,\n",
    "    x=df_copy.ram_storage.value_counts().index\n",
    ")\n",
    "ax.bar_label(ax.containers[0], fontsize=10)\n",
    "plt.title('Распределение объёмов оперативной памяти')\n",
    "plt.xlabel('Объем RAM')\n",
    "plt.ylabel('Количество продаж')\n",
    "plt.tight_layout()\n",
    "plt.savefig(\"pc_ram_storage.png\", format = \"png\", dpi=500, bbox_inches='tight')\n",
    "plt.show()"
   ]
  },
  {
   "cell_type": "markdown",
   "id": "23d2da41-f64d-4082-9e5b-7fd57063964d",
   "metadata": {},
   "source": [
    "#### 4.1.4. 'hdd_size_gb'"
   ]
  },
  {
   "cell_type": "code",
   "execution_count": 94,
   "id": "cfd1b9b2-8684-4308-9e9d-1bea50d574ef",
   "metadata": {},
   "outputs": [
    {
     "data": {
      "text/plain": [
       "count    1287.000000\n",
       "mean      675.604507\n",
       "std       373.353763\n",
       "min         0.000000\n",
       "25%       480.000000\n",
       "50%       512.000000\n",
       "75%      1000.000000\n",
       "max      2048.000000\n",
       "Name: hdd_size_gb, dtype: float64"
      ]
     },
     "execution_count": 94,
     "metadata": {},
     "output_type": "execute_result"
    }
   ],
   "source": [
    "df_copy.hdd_size_gb.describe()"
   ]
  },
  {
   "cell_type": "code",
   "execution_count": 130,
   "id": "8548b84f-a02c-4a81-a318-86cf29335198",
   "metadata": {},
   "outputs": [
    {
     "data": {
      "image/png": "[encoded data removed]",
      "text/plain": [
       "<Figure size 1200x600 with 1 Axes>"
      ]
     },
     "metadata": {},
     "output_type": "display_data"
    }
   ],
   "source": [
    "plt.figure(figsize=(12, 6))\n",
    "ax = sns.barplot(\n",
    "    y=df_copy.hdd_size_gb.value_counts().values,\n",
    "    x=df_copy.hdd_size_gb.value_counts().index\n",
    ")\n",
    "ax.bar_label(ax.containers[0], fontsize=10)\n",
    "plt.title('Распределение объёмов жёстких дисков')\n",
    "plt.xlabel('Объем HDD (ГБ)')\n",
    "plt.ylabel('Количество продаж')\n",
    "plt.xticks(rotation=45)\n",
    "plt.tight_layout()\n",
    "plt.savefig(\"pc_hdd.png\", format = \"png\", dpi=500, bbox_inches='tight')\n",
    "plt.show()"
   ]
  },
  {
   "cell_type": "markdown",
   "id": "fdc934ce-1fcc-4e28-8041-e3e25938707d",
   "metadata": {},
   "source": [
    "#### 4.1.5. 'ssd_size_gb'"
   ]
  },
  {
   "cell_type": "code",
   "execution_count": 96,
   "id": "97fbbf31-7ed3-4e9a-930b-8ae81daa30e7",
   "metadata": {},
   "outputs": [
    {
     "data": {
      "text/plain": [
       "count    1287.000000\n",
       "mean      508.048951\n",
       "std       284.846599\n",
       "min         0.000000\n",
       "25%       256.000000\n",
       "50%       480.000000\n",
       "75%       512.000000\n",
       "max      2048.000000\n",
       "Name: ssd_size_gb, dtype: float64"
      ]
     },
     "execution_count": 96,
     "metadata": {},
     "output_type": "execute_result"
    }
   ],
   "source": [
    "df_copy.ssd_size_gb.describe()"
   ]
  },
  {
   "cell_type": "code",
   "execution_count": 131,
   "id": "5d961789-92eb-4f9a-8b0c-d47127dd5afc",
   "metadata": {},
   "outputs": [
    {
     "data": {
      "image/png": "[encoded data removed]",
      "text/plain": [
       "<Figure size 1200x600 with 1 Axes>"
      ]
     },
     "metadata": {},
     "output_type": "display_data"
    }
   ],
   "source": [
    "plt.figure(figsize=(12, 6))\n",
    "ax = sns.barplot(\n",
    "    y=df_copy.ssd_size_gb.value_counts().values,\n",
    "    x=df_copy.ssd_size_gb.value_counts().index\n",
    ")\n",
    "ax.bar_label(ax.containers[0], fontsize=10)\n",
    "plt.title('Распределение объёмов твердотельных накопителей')\n",
    "plt.xlabel('Объем SSD (ГБ)')\n",
    "plt.ylabel('Количество продаж')\n",
    "plt.xticks(rotation=45)\n",
    "plt.tight_layout()\n",
    "plt.savefig(\"pc_ssd.png\", format = \"png\", dpi=500, bbox_inches='tight')\n",
    "plt.show()"
   ]
  },
  {
   "cell_type": "markdown",
   "id": "ee637f39-9ec7-4106-88df-effba2563df0",
   "metadata": {},
   "source": [
    "#### 4.1.6. 'seller_rating'"
   ]
  },
  {
   "cell_type": "code",
   "execution_count": 98,
   "id": "9507e3db-b6f7-4da1-bef6-0a158bc7c48a",
   "metadata": {},
   "outputs": [
    {
     "name": "stdout",
     "output_type": "stream",
     "text": [
      "Наибольший рейтинг: 5.0\n",
      "Наименьший рейтинг: 0.0\n",
      "Средний рейтинг: 4.550971250971251\n",
      "Медианное значение рейтинга: 4.7\n"
     ]
    }
   ],
   "source": [
    "max_value = df_copy.seller_rating.max()\n",
    "min_value = df_copy.seller_rating.min()\n",
    "mean_value = df_copy.seller_rating.mean()\n",
    "median_value = df_copy.seller_rating.median()\n",
    "print(f'Наибольший рейтинг: {max_value}', f'Наименьший рейтинг: {min_value}',\n",
    "     f'Средний рейтинг: {mean_value}', f'Медианное значение рейтинга: {median_value}', sep='\\n')"
   ]
  },
  {
   "cell_type": "code",
   "execution_count": 99,
   "id": "8ce4e5a7-edbf-4c7f-9f8f-f2fd978c02a2",
   "metadata": {},
   "outputs": [
    {
     "name": "stdout",
     "output_type": "stream",
     "text": [
      "10-й процентиль: 4.1\n",
      "25-й процентиль: 4.7\n",
      "50-й процентиль: 4.7\n",
      "75-й процентиль: 4.7\n",
      "90-й процентиль: 4.8\n"
     ]
    }
   ],
   "source": [
    "percentile_10_value = df_copy.seller_rating.quantile(0.10)\n",
    "percentile_25_value = df_copy.seller_rating.quantile(0.25)\n",
    "percentile_50_value = df_copy.seller_rating.quantile(0.50)\n",
    "percentile_75_value = df_copy.seller_rating.quantile(0.75)\n",
    "percentile_90_value = df_copy.seller_rating.quantile(0.90)\n",
    "print(f'10-й процентиль: {percentile_10_value}',\n",
    "      f'25-й процентиль: {percentile_25_value}',\n",
    "      f'50-й процентиль: {percentile_50_value}',\n",
    "      f'75-й процентиль: {percentile_75_value}',\n",
    "      f'90-й процентиль: {percentile_90_value}', sep='\\n')"
   ]
  },
  {
   "cell_type": "code",
   "execution_count": 100,
   "id": "77e26b2f-d74f-413c-8b13-e81f4f66543c",
   "metadata": {},
   "outputs": [
    {
     "data": {
      "image/png": "[encoded data removed]",
      "text/plain": [
       "<Figure size 640x480 with 1 Axes>"
      ]
     },
     "metadata": {},
     "output_type": "display_data"
    }
   ],
   "source": [
    "sns.histplot(df_copy.seller_rating, bins=20, color='blue')\n",
    "plt.title('Гистограмма распределения рейтингов продавцов')\n",
    "plt.xlabel('Значение рейтинга')\n",
    "plt.ylabel('Количество')\n",
    "plt.show()"
   ]
  },
  {
   "cell_type": "markdown",
   "id": "b5fd37ca-d46f-4581-8ac6-9a989d43a0f0",
   "metadata": {},
   "source": [
    "#### 4.1.7. 'price_rub'"
   ]
  },
  {
   "cell_type": "code",
   "execution_count": 101,
   "id": "f21a0ba9-9ce5-4955-9d72-e026f79e1aac",
   "metadata": {},
   "outputs": [
    {
     "name": "stdout",
     "output_type": "stream",
     "text": [
      "Наибольший рейтинг: 214954\n",
      "Наименьший рейтинг: 9990\n",
      "Средний рейтинг: 61628.581196581195\n",
      "Медианное значение рейтинга: 50671.0\n"
     ]
    }
   ],
   "source": [
    "max_value = df_copy.price_rub.max()\n",
    "min_value = df_copy.price_rub.min()\n",
    "mean_value = df_copy.price_rub.mean()\n",
    "median_value = df_copy.price_rub.median()\n",
    "print(f'Наибольший рейтинг: {max_value}', f'Наименьший рейтинг: {min_value}',\n",
    "     f'Средний рейтинг: {mean_value}', f'Медианное значение рейтинга: {median_value}', sep='\\n')"
   ]
  },
  {
   "cell_type": "code",
   "execution_count": 102,
   "id": "8f37b917-24ab-4436-8a02-1581e8c388c1",
   "metadata": {},
   "outputs": [
    {
     "name": "stdout",
     "output_type": "stream",
     "text": [
      "10-й процентиль: 26880.0\n",
      "25-й процентиль: 34125.0\n",
      "50-й процентиль: 50671.0\n",
      "75-й процентиль: 78118.5\n",
      "90-й процентиль: 110186.0\n"
     ]
    }
   ],
   "source": [
    "percentile_10_value = df_copy.price_rub.quantile(0.10)\n",
    "percentile_25_value = df_copy.price_rub.quantile(0.25)\n",
    "percentile_50_value = df_copy.price_rub.quantile(0.50)\n",
    "percentile_75_value = df_copy.price_rub.quantile(0.75)\n",
    "percentile_90_value = df_copy.price_rub.quantile(0.90)\n",
    "print(f'10-й процентиль: {percentile_10_value}',\n",
    "      f'25-й процентиль: {percentile_25_value}',\n",
    "      f'50-й процентиль: {percentile_50_value}',\n",
    "      f'75-й процентиль: {percentile_75_value}',\n",
    "      f'90-й процентиль: {percentile_90_value}', sep='\\n')"
   ]
  },
  {
   "cell_type": "code",
   "execution_count": 117,
   "id": "df1c0584-5deb-4d18-b8a9-1bbc2b59d6a7",
   "metadata": {},
   "outputs": [
    {
     "data": {
      "image/png": "[encoded data removed]",
      "text/plain": [
       "<Figure size 640x480 with 1 Axes>"
      ]
     },
     "metadata": {},
     "output_type": "display_data"
    }
   ],
   "source": [
    "sns.histplot(df_copy.price_rub, bins=20, color='blue')\n",
    "plt.title('Гистограмма распределения стоимости ПК')\n",
    "plt.xlabel('Стоимость ПК, руб')\n",
    "plt.ylabel('Количество продаж, шт')\n",
    "plt.savefig(\"pc_cost_sales.png\", format = \"png\", dpi=500, bbox_inches='tight')\n",
    "plt.show()"
   ]
  },
  {
   "cell_type": "markdown",
   "id": "1b87e9d0-937e-49fa-8ef4-a4a375d85e9b",
   "metadata": {},
   "source": [
    "### 4.2. Категориальные признаки"
   ]
  },
  {
   "cell_type": "code",
   "execution_count": 104,
   "id": "145e3670-53db-4348-9e1a-37cb8b700456",
   "metadata": {},
   "outputs": [],
   "source": [
    "# gpu (\"линейка\" графического процессора)\n",
    "# manufacturer_country (страна-производитель)\n",
    "# cpu_category (\"линейка\" процессора)\n",
    "# ram_type (тип оперативной памяти)\n",
    "# os_ver (версия операционной системы)\n",
    "# guaranty_period (срок гарантии)"
   ]
  },
  {
   "cell_type": "markdown",
   "id": "83800334-5d17-4413-9def-c3a808dbd3e4",
   "metadata": {},
   "source": [
    "#### 4.2.1. 'gpu_type'"
   ]
  },
  {
   "cell_type": "code",
   "execution_count": 105,
   "id": "eb6e6645-a4ac-4722-a966-d918e48877c5",
   "metadata": {},
   "outputs": [
    {
     "data": {
      "text/plain": [
       "count             1287\n",
       "unique              30\n",
       "top       AMD Radeon 7\n",
       "freq               166\n",
       "Name: gpu_type, dtype: object"
      ]
     },
     "execution_count": 105,
     "metadata": {},
     "output_type": "execute_result"
    }
   ],
   "source": [
    "df_copy.gpu_type.describe()"
   ]
  },
  {
   "cell_type": "code",
   "execution_count": 126,
   "id": "3654ceba-fd57-4b6e-aac2-79dc8c47b429",
   "metadata": {},
   "outputs": [
    {
     "data": {
      "image/png": "[encoded data removed]",
      "text/plain": [
       "<Figure size 1000x600 with 1 Axes>"
      ]
     },
     "metadata": {},
     "output_type": "display_data"
    }
   ],
   "source": [
    "# Получаем top-N видеокарт (например, топ-10)\n",
    "top_n = 10\n",
    "value_counts = df_copy.gpu_type.value_counts().nlargest(top_n)\n",
    "\n",
    "plt.figure(figsize=(10, 6))\n",
    "ax = sns.barplot(\n",
    "    y=value_counts.index,\n",
    "    x=value_counts.values,\n",
    "    #palette=\"viridis\",\n",
    "    #hue=value_counts.index,   # добавляем hue\n",
    "    legend=False              # отключаем легенду\n",
    ")\n",
    "\n",
    "# Подписываем столбцы\n",
    "ax.bar_label(ax.containers[0], fontsize=9)\n",
    "\n",
    "# Оформление графика\n",
    "plt.title('Распределение видеопроцессоров в ПК')\n",
    "plt.xlabel('Количество')\n",
    "plt.ylabel('Видеопроцессор')\n",
    "plt.tight_layout()\n",
    "plt.savefig(\"pc_gpu.png\", format = \"png\", dpi=500, bbox_inches='tight')\n",
    "plt.show()"
   ]
  },
  {
   "cell_type": "markdown",
   "id": "65631064-d735-4ae0-a5d7-ba1214da71cc",
   "metadata": {},
   "source": [
    "#### 4.2.2. 'manufacturer_country'"
   ]
  },
  {
   "cell_type": "code",
   "execution_count": 107,
   "id": "0d1f98a2-b337-41cb-a7c0-16bf875c1e7a",
   "metadata": {},
   "outputs": [
    {
     "data": {
      "text/plain": [
       "count       1287\n",
       "unique         3\n",
       "top       Россия\n",
       "freq        1156\n",
       "Name: manufacturer_country, dtype: object"
      ]
     },
     "execution_count": 107,
     "metadata": {},
     "output_type": "execute_result"
    }
   ],
   "source": [
    "df_copy.manufacturer_country.describe()"
   ]
  },
  {
   "cell_type": "code",
   "execution_count": 108,
   "id": "79091d4e-2790-4f59-92aa-55a92f99eef5",
   "metadata": {},
   "outputs": [
    {
     "data": {
      "image/png": "[encoded data removed]",
      "text/plain": [
       "<Figure size 640x480 with 1 Axes>"
      ]
     },
     "metadata": {},
     "output_type": "display_data"
    }
   ],
   "source": [
    "ax = sns.barplot(y=df_copy.manufacturer_country.value_counts().index, x=df_copy.manufacturer_country.value_counts().values)\n",
    "ax.bar_label(ax.containers[0], fontsize=10)\n",
    "plt.title('Распределение стран производителей ПК')\n",
    "plt.show()"
   ]
  },
  {
   "cell_type": "markdown",
   "id": "d83b9177-4614-4201-abb5-346b562d0de2",
   "metadata": {},
   "source": [
    "#### 4.2.3. 'cpu_category'"
   ]
  },
  {
   "cell_type": "code",
   "execution_count": 109,
   "id": "4100a6e8-1af5-4556-9bdb-1cd2780ea2e7",
   "metadata": {},
   "outputs": [
    {
     "data": {
      "text/plain": [
       "count              1287\n",
       "unique               16\n",
       "top       Intel Core i5\n",
       "freq                397\n",
       "Name: cpu_category, dtype: object"
      ]
     },
     "execution_count": 109,
     "metadata": {},
     "output_type": "execute_result"
    }
   ],
   "source": [
    "df_copy.cpu_category.describe()"
   ]
  },
  {
   "cell_type": "code",
   "execution_count": 121,
   "id": "09466798-a8c1-41a9-b7aa-4812a6563b90",
   "metadata": {},
   "outputs": [
    {
     "data": {
      "image/png": "[encoded data removed]",
      "text/plain": [
       "<Figure size 640x480 with 1 Axes>"
      ]
     },
     "metadata": {},
     "output_type": "display_data"
    }
   ],
   "source": [
    "ax = sns.barplot(y=df_copy.cpu_category.value_counts().index, x=df_copy.cpu_category.value_counts().values)\n",
    "ax.bar_label(ax.containers[0], fontsize=10)\n",
    "plt.title('Распределение моделей ЦП')\n",
    "plt.savefig(\"pc_cpu_models.png\", format = \"png\", dpi=500, bbox_inches='tight')\n",
    "plt.show()"
   ]
  },
  {
   "cell_type": "markdown",
   "id": "d580ef33-8527-406d-9f4d-2fd738210f81",
   "metadata": {},
   "source": [
    "#### 4.2.4. 'ram_type'"
   ]
  },
  {
   "cell_type": "code",
   "execution_count": 111,
   "id": "1b6eb299-f243-4da6-b0c5-32e08a15a678",
   "metadata": {},
   "outputs": [
    {
     "data": {
      "text/plain": [
       "count      1287\n",
       "unique        3\n",
       "top       DDR 4\n",
       "freq       1088\n",
       "Name: ram_type, dtype: object"
      ]
     },
     "execution_count": 111,
     "metadata": {},
     "output_type": "execute_result"
    }
   ],
   "source": [
    "df_copy.ram_type.describe()"
   ]
  },
  {
   "cell_type": "code",
   "execution_count": 129,
   "id": "3f50718e-3b83-4f32-b911-8376774379f8",
   "metadata": {},
   "outputs": [
    {
     "data": {
      "image/png": "[encoded data removed]",
      "text/plain": [
       "<Figure size 640x480 with 1 Axes>"
      ]
     },
     "metadata": {},
     "output_type": "display_data"
    }
   ],
   "source": [
    "ax = sns.barplot(y=df_copy.ram_type.value_counts().index, x=df_copy.ram_type.value_counts().values)\n",
    "ax.bar_label(ax.containers[0], fontsize=10)\n",
    "plt.title('Распределение типов оперативной памяти')\n",
    "plt.savefig(\"pc_ram_type.png\", format = \"png\", dpi=500, bbox_inches='tight')\n",
    "plt.show()"
   ]
  },
  {
   "cell_type": "markdown",
   "id": "95ec9757-663c-4b5c-b54a-a2581123892f",
   "metadata": {},
   "source": [
    "#### 4.2.5. 'os_ver'"
   ]
  },
  {
   "cell_type": "code",
   "execution_count": 113,
   "id": "5f7f9190-6847-4b3e-8a34-d3f62df64ea6",
   "metadata": {},
   "outputs": [
    {
     "data": {
      "text/plain": [
       "count               1287\n",
       "unique                13\n",
       "top       Windows 10 Pro\n",
       "freq                 779\n",
       "Name: os_ver, dtype: object"
      ]
     },
     "execution_count": 113,
     "metadata": {},
     "output_type": "execute_result"
    }
   ],
   "source": [
    "df_copy.os_ver.describe()"
   ]
  },
  {
   "cell_type": "code",
   "execution_count": 132,
   "id": "17bd56fd-c12b-4a73-9fb5-58365b337e0a",
   "metadata": {},
   "outputs": [
    {
     "data": {
      "image/png": "[encoded data removed]",
      "text/plain": [
       "<Figure size 640x480 with 1 Axes>"
      ]
     },
     "metadata": {},
     "output_type": "display_data"
    }
   ],
   "source": [
    "ax = sns.barplot(y=df_copy.os_ver.value_counts().index, x=df_copy.os_ver.value_counts().values)\n",
    "ax.bar_label(ax.containers[0], fontsize=10)\n",
    "plt.title('Распределение версий предустановленной ОС')\n",
    "plt.savefig(\"pc_os.png\", format = \"png\", dpi=500, bbox_inches='tight')\n",
    "plt.show()"
   ]
  },
  {
   "cell_type": "markdown",
   "id": "e3d1f311-533c-4c91-87be-751b7266b1ae",
   "metadata": {},
   "source": [
    "#### 4.2.6. 'guaranty_period'"
   ]
  },
  {
   "cell_type": "code",
   "execution_count": 115,
   "id": "f353bd09-e992-4f0f-9889-0c4207d2a464",
   "metadata": {},
   "outputs": [
    {
     "data": {
      "text/plain": [
       "count     1287\n",
       "unique       6\n",
       "top         3y\n",
       "freq       792\n",
       "Name: guaranty_period, dtype: object"
      ]
     },
     "execution_count": 115,
     "metadata": {},
     "output_type": "execute_result"
    }
   ],
   "source": [
    "df_copy.guaranty_period.describe()"
   ]
  },
  {
   "cell_type": "code",
   "execution_count": 133,
   "id": "acf82106-39c4-4630-9c5a-874769c8d17f",
   "metadata": {},
   "outputs": [
    {
     "data": {
      "image/png": "[encoded data removed]",
      "text/plain": [
       "<Figure size 640x480 with 1 Axes>"
      ]
     },
     "metadata": {},
     "output_type": "display_data"
    }
   ],
   "source": [
    "ax = sns.barplot(y=df_copy.guaranty_period.value_counts().index, x=df_copy.guaranty_period.value_counts().values)\n",
    "ax.bar_label(ax.containers[0], fontsize=10)\n",
    "plt.title('Распределение сроков гарантии на ПК')\n",
    "plt.savefig(\"pc_guarantee.png\", format = \"png\", dpi=500, bbox_inches='tight')\n",
    "plt.show()"
   ]
  },
  {
   "cell_type": "code",
   "execution_count": null,
   "id": "e75103bb-bedd-4d27-bc44-a7c21325978a",
   "metadata": {},
   "outputs": [],
   "source": []
  }
 ],
 "metadata": {
  "kernelspec": {
   "display_name": "Python 3 (ipykernel)",
   "language": "python",
   "name": "python3"
  },
  "language_info": {
   "codemirror_mode": {
    "name": "ipython",
    "version": 3
   },
   "file_extension": ".py",
   "mimetype": "text/x-python",
   "name": "python",
   "nbconvert_exporter": "python",
   "pygments_lexer": "ipython3",
   "version": "3.12.7"
  }
 },
 "nbformat": 4,
 "nbformat_minor": 5
}
